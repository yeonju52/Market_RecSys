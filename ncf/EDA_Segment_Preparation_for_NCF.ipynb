{
 "cells": [
  {
   "cell_type": "markdown",
   "id": "4ffd9a13-4f0d-44f6-a5e9-e6479b919219",
   "metadata": {},
   "source": [
    "# 세그먼트 용 데이터 준비 EDA"
   ]
  },
  {
   "cell_type": "markdown",
   "id": "273f444b-9995-454b-a118-a886a45d3b4a",
   "metadata": {},
   "source": [
    "상품 구매 정보-제휴사 이용-엘페이 이용 정보를 조인하여 보는게 불가능한 현상 인식\n",
    "\n",
    "따라서 각 테이블을 독립 분석하여 사용하고자 함"
   ]
  },
  {
   "cell_type": "markdown",
   "id": "i4Q7Zz9xckmo",
   "metadata": {
    "id": "i4Q7Zz9xckmo"
   },
   "source": [
    "# 준비\n",
    "\n",
    "- 나눔고딕 폰트 설치\n",
    "- 구글 드라이브 연결\n",
    "- 데이터 로딩"
   ]
  },
  {
   "cell_type": "code",
   "execution_count": 1,
   "id": "41d6c21b-156b-4feb-aacb-d761bd7ea726",
   "metadata": {},
   "outputs": [],
   "source": [
    "import pandas as pd\n",
    "import os\n",
    "pd.plotting.register_matplotlib_converters()\n",
    "import matplotlib.pyplot as plt\n",
    "%matplotlib inline\n",
    "import seaborn as sns\n",
    "import numpy as np"
   ]
  },
  {
   "cell_type": "code",
   "execution_count": 2,
   "id": "0e90710a-c5d8-4d4b-9583-a14c80305596",
   "metadata": {},
   "outputs": [],
   "source": [
    "# plt.rcParams['font.family'] = 'NanumGothic'\n",
    "sns.set(font=\"NanumGothic\", \n",
    "        rc={\"axes.unicode_minus\":False, 'figure.figsize': (10,6)},\n",
    "        style='darkgrid')\n",
    "# sns.set_theme(style=\"whitegrid\")"
   ]
  },
  {
   "cell_type": "code",
   "execution_count": 3,
   "id": "ec0af565-725c-40a7-9ee3-d5a87eb97aeb",
   "metadata": {
    "executionInfo": {
     "elapsed": 308,
     "status": "ok",
     "timestamp": 1656853351363,
     "user": {
      "displayName": "오장민 (정보시스템공학과)",
      "userId": "14191339932351591583"
     },
     "user_tz": -540
    },
    "id": "ec0af565-725c-40a7-9ee3-d5a87eb97aeb"
   },
   "outputs": [],
   "source": [
    "file_path_dic = {\n",
    "    'demo':'LPOINT_BIG_COMP_01_DEMO.csv',\n",
    "    'pdde':'LPOINT_BIG_COMP_02_PDDE.csv',\n",
    "    'cop_u':'LPOINT_BIG_COMP_03_COP_U.csv',\n",
    "    'pd_clac':'LPOINT_BIG_COMP_04_PD_CLAC.csv',\n",
    "    'br':'LPOINT_BIG_COMP_05_BR.csv',\n",
    "    'lpay':'LPOINT_BIG_COMP_06_LPAY.csv',\n",
    "}"
   ]
  },
  {
   "cell_type": "code",
   "execution_count": 4,
   "id": "a4c66678-d567-493e-87c7-2e66cb7e8ced",
   "metadata": {
    "executionInfo": {
     "elapsed": 2,
     "status": "ok",
     "timestamp": 1656853351746,
     "user": {
      "displayName": "오장민 (정보시스템공학과)",
      "userId": "14191339932351591583"
     },
     "user_tz": -540
    },
    "id": "a4c66678-d567-493e-87c7-2e66cb7e8ced"
   },
   "outputs": [],
   "source": [
    "base_path = r'LPOINT_BIG_COMP_csv파일'"
   ]
  },
  {
   "cell_type": "markdown",
   "id": "f5e0fa9d-0ce4-470d-a6ad-e6bb128bb655",
   "metadata": {},
   "source": [
    "## demo: 고객 데모 정보"
   ]
  },
  {
   "cell_type": "code",
   "execution_count": 5,
   "id": "d7c0c9ed-a5a8-4fe7-a857-42fdff8ae656",
   "metadata": {},
   "outputs": [],
   "source": [
    "df_demo = pd.read_csv(os.path.join(base_path, file_path_dic['demo']))"
   ]
  },
  {
   "cell_type": "markdown",
   "id": "86e7da9a-7046-40f1-b5ea-f6fdc27af2b7",
   "metadata": {},
   "source": [
    "## 상품 분류 정보: 유통사 상품 카테고리 마스터"
   ]
  },
  {
   "cell_type": "code",
   "execution_count": 6,
   "id": "bfd71759-612a-4769-8a4e-c05cfcc7099d",
   "metadata": {},
   "outputs": [],
   "source": [
    "df_pd_clac = pd.read_csv(os.path.join(base_path, file_path_dic['pd_clac']))"
   ]
  },
  {
   "cell_type": "code",
   "execution_count": 7,
   "id": "ff2e1df3-744c-4e22-a07d-3459a6270c6e",
   "metadata": {},
   "outputs": [
    {
     "data": {
      "text/html": [
       "<div>\n",
       "<style scoped>\n",
       "    .dataframe tbody tr th:only-of-type {\n",
       "        vertical-align: middle;\n",
       "    }\n",
       "\n",
       "    .dataframe tbody tr th {\n",
       "        vertical-align: top;\n",
       "    }\n",
       "\n",
       "    .dataframe thead th {\n",
       "        text-align: right;\n",
       "    }\n",
       "</style>\n",
       "<table border=\"1\" class=\"dataframe\">\n",
       "  <thead>\n",
       "    <tr style=\"text-align: right;\">\n",
       "      <th></th>\n",
       "      <th>pd_c</th>\n",
       "      <th>pd_nm</th>\n",
       "      <th>clac_hlv_nm</th>\n",
       "      <th>clac_mcls_nm</th>\n",
       "    </tr>\n",
       "  </thead>\n",
       "  <tbody>\n",
       "    <tr>\n",
       "      <th>count</th>\n",
       "      <td>1933</td>\n",
       "      <td>1933</td>\n",
       "      <td>1933</td>\n",
       "      <td>1933</td>\n",
       "    </tr>\n",
       "    <tr>\n",
       "      <th>unique</th>\n",
       "      <td>1933</td>\n",
       "      <td>1932</td>\n",
       "      <td>60</td>\n",
       "      <td>349</td>\n",
       "    </tr>\n",
       "    <tr>\n",
       "      <th>top</th>\n",
       "      <td>PD0001</td>\n",
       "      <td>기타</td>\n",
       "      <td>패션잡화</td>\n",
       "      <td>어류</td>\n",
       "    </tr>\n",
       "    <tr>\n",
       "      <th>freq</th>\n",
       "      <td>1</td>\n",
       "      <td>2</td>\n",
       "      <td>130</td>\n",
       "      <td>20</td>\n",
       "    </tr>\n",
       "  </tbody>\n",
       "</table>\n",
       "</div>"
      ],
      "text/plain": [
       "          pd_c pd_nm clac_hlv_nm clac_mcls_nm\n",
       "count     1933  1933        1933         1933\n",
       "unique    1933  1932          60          349\n",
       "top     PD0001    기타        패션잡화           어류\n",
       "freq         1     2         130           20"
      ]
     },
     "execution_count": 7,
     "metadata": {},
     "output_type": "execute_result"
    }
   ],
   "source": [
    "df_pd_clac.describe()"
   ]
  },
  {
   "cell_type": "markdown",
   "id": "0e78dc82-3ebb-4361-a606-7184eb3d2b3c",
   "metadata": {},
   "source": [
    "## 점포 정보: 유통사/제휴사 점포 마스터"
   ]
  },
  {
   "cell_type": "code",
   "execution_count": 8,
   "id": "e43b1f21-de38-4918-838f-55a498097410",
   "metadata": {},
   "outputs": [],
   "source": [
    "df_br = pd.read_csv(os.path.join(base_path, file_path_dic['br']))"
   ]
  },
  {
   "cell_type": "markdown",
   "id": "4e132256-0ccc-4b1f-b446-263e85c70693",
   "metadata": {},
   "source": [
    "## 상품 구매 정보: 유통사 상품 구매 내역"
   ]
  },
  {
   "cell_type": "markdown",
   "id": "0cd2db79-0820-45fd-85c5-2dd8668894ba",
   "metadata": {},
   "source": [
    "중복행 제거\n",
    "- 원본 테이블: 4,381,743 건\n",
    "- 중복건수: 237,354 건\n",
    "- 중복제거후: 4,144,389 건\n",
    "    \n",
    "buy_ct 추가\n",
    "- de_dt와 de_hr 연결하야 timestamp 생성"
   ]
  },
  {
   "cell_type": "code",
   "execution_count": 9,
   "id": "0c9845ed-df8a-4368-be59-b8a3e473417b",
   "metadata": {},
   "outputs": [],
   "source": [
    "df_pdde_raw = pd.read_csv(os.path.join(base_path, file_path_dic['pdde']), dtype={'br_c':str, 'de_dt':str, 'de_hr':str, 'buy_am':np.int64})"
   ]
  },
  {
   "cell_type": "code",
   "execution_count": 10,
   "id": "04b45418-d1da-473f-af48-5a242b9afb38",
   "metadata": {},
   "outputs": [
    {
     "name": "stdout",
     "output_type": "stream",
     "text": [
      "(4381743, 10) 237354\n"
     ]
    }
   ],
   "source": [
    "print(df_pdde_raw.shape, df_pdde_raw.duplicated().sum())"
   ]
  },
  {
   "cell_type": "code",
   "execution_count": 11,
   "id": "2aabec65-9f3f-40ae-9248-7e556f8e46eb",
   "metadata": {},
   "outputs": [
    {
     "data": {
      "text/html": [
       "<div>\n",
       "<style scoped>\n",
       "    .dataframe tbody tr th:only-of-type {\n",
       "        vertical-align: middle;\n",
       "    }\n",
       "\n",
       "    .dataframe tbody tr th {\n",
       "        vertical-align: top;\n",
       "    }\n",
       "\n",
       "    .dataframe thead th {\n",
       "        text-align: right;\n",
       "    }\n",
       "</style>\n",
       "<table border=\"1\" class=\"dataframe\">\n",
       "  <thead>\n",
       "    <tr style=\"text-align: right;\">\n",
       "      <th></th>\n",
       "      <th>cust</th>\n",
       "      <th>rct_no</th>\n",
       "      <th>chnl_dv</th>\n",
       "      <th>cop_c</th>\n",
       "      <th>br_c</th>\n",
       "      <th>pd_c</th>\n",
       "      <th>de_dt</th>\n",
       "      <th>de_hr</th>\n",
       "      <th>buy_am</th>\n",
       "      <th>buy_ct</th>\n",
       "    </tr>\n",
       "  </thead>\n",
       "  <tbody>\n",
       "    <tr>\n",
       "      <th>0</th>\n",
       "      <td>M430112881</td>\n",
       "      <td>A01000001113</td>\n",
       "      <td>1</td>\n",
       "      <td>A01</td>\n",
       "      <td>A010039</td>\n",
       "      <td>PD0290</td>\n",
       "      <td>20210101</td>\n",
       "      <td>10</td>\n",
       "      <td>15000</td>\n",
       "      <td>1</td>\n",
       "    </tr>\n",
       "    <tr>\n",
       "      <th>1</th>\n",
       "      <td>M646853852</td>\n",
       "      <td>A01000002265</td>\n",
       "      <td>1</td>\n",
       "      <td>A01</td>\n",
       "      <td>A010025</td>\n",
       "      <td>PD1369</td>\n",
       "      <td>20210101</td>\n",
       "      <td>10</td>\n",
       "      <td>79700</td>\n",
       "      <td>1</td>\n",
       "    </tr>\n",
       "    <tr>\n",
       "      <th>2</th>\n",
       "      <td>M430112881</td>\n",
       "      <td>A01000003148</td>\n",
       "      <td>1</td>\n",
       "      <td>A01</td>\n",
       "      <td>A010039</td>\n",
       "      <td>PD0290</td>\n",
       "      <td>20210101</td>\n",
       "      <td>10</td>\n",
       "      <td>19000</td>\n",
       "      <td>1</td>\n",
       "    </tr>\n",
       "    <tr>\n",
       "      <th>3</th>\n",
       "      <td>M430112881</td>\n",
       "      <td>A01000003148</td>\n",
       "      <td>1</td>\n",
       "      <td>A01</td>\n",
       "      <td>A010039</td>\n",
       "      <td>PD0290</td>\n",
       "      <td>20210101</td>\n",
       "      <td>10</td>\n",
       "      <td>19000</td>\n",
       "      <td>1</td>\n",
       "    </tr>\n",
       "    <tr>\n",
       "      <th>4</th>\n",
       "      <td>M430112881</td>\n",
       "      <td>A01000004946</td>\n",
       "      <td>1</td>\n",
       "      <td>A01</td>\n",
       "      <td>A010039</td>\n",
       "      <td>PD0290</td>\n",
       "      <td>20210101</td>\n",
       "      <td>10</td>\n",
       "      <td>19000</td>\n",
       "      <td>1</td>\n",
       "    </tr>\n",
       "  </tbody>\n",
       "</table>\n",
       "</div>"
      ],
      "text/plain": [
       "         cust        rct_no  chnl_dv cop_c     br_c    pd_c     de_dt de_hr  \\\n",
       "0  M430112881  A01000001113        1   A01  A010039  PD0290  20210101    10   \n",
       "1  M646853852  A01000002265        1   A01  A010025  PD1369  20210101    10   \n",
       "2  M430112881  A01000003148        1   A01  A010039  PD0290  20210101    10   \n",
       "3  M430112881  A01000003148        1   A01  A010039  PD0290  20210101    10   \n",
       "4  M430112881  A01000004946        1   A01  A010039  PD0290  20210101    10   \n",
       "\n",
       "   buy_am  buy_ct  \n",
       "0   15000       1  \n",
       "1   79700       1  \n",
       "2   19000       1  \n",
       "3   19000       1  \n",
       "4   19000       1  "
      ]
     },
     "execution_count": 11,
     "metadata": {},
     "output_type": "execute_result"
    }
   ],
   "source": [
    "df_pdde_raw.head()"
   ]
  },
  {
   "cell_type": "markdown",
   "id": "1ad19438-ee49-4a78-b6c9-55b951d6dde6",
   "metadata": {},
   "source": [
    "### 장바구니 단순 특성 조사"
   ]
  },
  {
   "cell_type": "code",
   "execution_count": 12,
   "id": "2e2d829e-e5e2-4611-a4ab-d07f07b0ddbc",
   "metadata": {},
   "outputs": [],
   "source": [
    "gr_rct_no = df_pdde_raw.groupby(['rct_no'])"
   ]
  },
  {
   "cell_type": "code",
   "execution_count": 13,
   "id": "533f8111-639e-4872-bbb7-e11e63164e90",
   "metadata": {},
   "outputs": [],
   "source": [
    "df_pdde_raw['de_dthr'] = df_pdde_raw.de_dt + df_pdde_raw.de_hr"
   ]
  },
  {
   "cell_type": "code",
   "execution_count": 14,
   "id": "c9b5b484-28c0-4e5f-a216-47742fa61501",
   "metadata": {},
   "outputs": [
    {
     "name": "stdout",
     "output_type": "stream",
     "text": [
      "장바구니에 담긴 cop_c가 2개이상인 경우의 갯수 0\n"
     ]
    }
   ],
   "source": [
    "print(\"장바구니에 담긴 cop_c가 2개이상인 경우의 갯수\", (gr_rct_no.cop_c.nunique() > 1).sum())"
   ]
  },
  {
   "cell_type": "code",
   "execution_count": 15,
   "id": "32d14fc7-7ead-402c-a433-6fb45da12626",
   "metadata": {},
   "outputs": [
    {
     "name": "stdout",
     "output_type": "stream",
     "text": [
      "장바구니에 담긴 br_c가 2개이상인 경우의 갯수 0\n"
     ]
    }
   ],
   "source": [
    "print(\"장바구니에 담긴 br_c가 2개이상인 경우의 갯수\", (gr_rct_no.br_c.nunique() > 1).sum())"
   ]
  },
  {
   "cell_type": "code",
   "execution_count": 16,
   "id": "92e05d90-5db2-459e-97b8-7a796b60e529",
   "metadata": {},
   "outputs": [
    {
     "name": "stdout",
     "output_type": "stream",
     "text": [
      "장바구니에 담긴 chnl_dv가 2개이상인 경우의 갯수 0\n"
     ]
    }
   ],
   "source": [
    "print(\"장바구니에 담긴 chnl_dv가 2개이상인 경우의 갯수\", (gr_rct_no.chnl_dv.nunique() > 1).sum())"
   ]
  },
  {
   "cell_type": "code",
   "execution_count": 17,
   "id": "da2487d7-fd43-4654-ab0b-6ea95766ceb6",
   "metadata": {},
   "outputs": [
    {
     "name": "stdout",
     "output_type": "stream",
     "text": [
      "장바구니에 담긴 de_dthr가 2개이상인 경우의 갯수 0\n"
     ]
    }
   ],
   "source": [
    "print(\"장바구니에 담긴 de_dthr가 2개이상인 경우의 갯수\", (gr_rct_no.de_dthr.nunique() > 1).sum())"
   ]
  },
  {
   "cell_type": "code",
   "execution_count": 18,
   "id": "278a80c7-5bcc-4061-8d30-3ee82bdc43b9",
   "metadata": {},
   "outputs": [],
   "source": [
    "def show_simple_ecdf_from_value_counts(ss, x_label='cnts', y_label='prob', kind='scatter', title='', logx=False,):\n",
    "    y = (ss.cumsum() / ss.sum()).rename(y_label)\n",
    "    pd.DataFrame(y.rename_axis(x_label).reset_index()).plot(kind=kind, title=title, x=x_label, y=y_label, ylim=[0,1], logx=logx)\n",
    "    print(f'Most frequent case is {y.index[0]} with pct {y.iloc[0]*100:.2f}%')"
   ]
  },
  {
   "cell_type": "markdown",
   "id": "07aa1502-e37c-4138-8ffe-61ef1919dab2",
   "metadata": {},
   "source": [
    "#### 사용자 관점 트랜잭션/결제 횟수 분포\n",
    "\n",
    "사용자별 결제건수\n",
    "- 중간값: 30번\n",
    "- 평균값: 47번\n",
    "\n",
    "사용자별 총결제금액\n",
    "- 중간값: 1.4 백만원\n",
    "- 평균값: 3.8 백만원\n"
   ]
  },
  {
   "cell_type": "code",
   "execution_count": null,
   "id": "33e37b98-5cc6-4e2e-b26c-a98df3a9426b",
   "metadata": {},
   "outputs": [],
   "source": [
    "show_simple_ecdf_from_value_counts(df_pdde_raw.cust.value_counts().value_counts().sort_index(), title='사용자별 트랜잭션수 분포')"
   ]
  },
  {
   "cell_type": "code",
   "execution_count": null,
   "id": "50a83825-8604-4932-a654-b68d4d4cd0fd",
   "metadata": {},
   "outputs": [],
   "source": [
    "pd.DataFrame(df_pdde_raw.groupby('cust').rct_no.nunique().describe()).T"
   ]
  },
  {
   "cell_type": "code",
   "execution_count": null,
   "id": "73b1a5f8-eac3-427f-b1c2-93a8b12430ee",
   "metadata": {},
   "outputs": [],
   "source": [
    "show_simple_ecdf_from_value_counts(df_pdde_raw.groupby('cust').rct_no.nunique().value_counts().sort_index(), title='사용자별 결제 횟수 분포')"
   ]
  },
  {
   "cell_type": "code",
   "execution_count": null,
   "id": "d281022b-81c0-4ef7-92e0-ac248920cea8",
   "metadata": {},
   "outputs": [],
   "source": [
    "pd.DataFrame(df_pdde_raw.groupby('cust').buy_am.sum().describe()).T"
   ]
  },
  {
   "cell_type": "code",
   "execution_count": null,
   "id": "0f98c60d-4caa-44b1-8968-201358dc7001",
   "metadata": {},
   "outputs": [],
   "source": [
    "show_simple_ecdf_from_value_counts(df_pdde_raw.groupby('cust').buy_am.sum().value_counts().sort_index(), x_label='결제금액', title='사용자별 결제 금액 분포', logx=True)"
   ]
  },
  {
   "cell_type": "markdown",
   "id": "b2fc8160-038c-4e74-a7fa-17f69717a32c",
   "metadata": {},
   "source": [
    "#### 장바구니에 담긴 pd_c 를 조사\n",
    "\n",
    "- 다양성\n",
    "    - 약 60%는 1가지만\n",
    "    - 약 75가지 담기는 경우도 존재\n",
    "- 트랜잭션 수\n",
    "    - 약 50%는 1건\n",
    "    - 최대 120건도 존재"
   ]
  },
  {
   "cell_type": "code",
   "execution_count": null,
   "id": "707f4add-d77f-4257-8034-18edc78c9c80",
   "metadata": {},
   "outputs": [],
   "source": [
    "show_simple_ecdf_from_value_counts(gr_rct_no.pd_c.nunique().value_counts().sort_index(), title='장바구니별 pd_c 가짓수 분포')"
   ]
  },
  {
   "cell_type": "code",
   "execution_count": null,
   "id": "1cdf4a43-20b8-4505-8064-01037533e595",
   "metadata": {},
   "outputs": [],
   "source": [
    "show_simple_ecdf_from_value_counts(gr_rct_no.pd_c.count().value_counts().sort_index(), title='장바구니별 pd_c 카운트 분포')"
   ]
  },
  {
   "cell_type": "markdown",
   "id": "63a1ceab-366e-453b-98ed-82720d62f2e9",
   "metadata": {},
   "source": [
    "#### [rct_no, pd_c] 를 조사\n",
    "\n",
    "- buy_am의 다양성\n",
    "    - 약 90%는 1가지\n",
    "    - 약 19가지도 존재\n",
    "- buy_ct의 다양성\n",
    "    - 약 95%는 1가지\n",
    "    - 8가지도 존재"
   ]
  },
  {
   "cell_type": "code",
   "execution_count": null,
   "id": "6e31f638-5185-44d6-b0b9-51d2db4bcc70",
   "metadata": {},
   "outputs": [],
   "source": [
    "show_simple_ecdf_from_value_counts(df_pdde_raw.groupby(['rct_no', 'pd_c']).buy_am.nunique().value_counts().sort_index(), title='장바구니-pd_c별 구매금액 가짓수 분포')"
   ]
  },
  {
   "cell_type": "code",
   "execution_count": null,
   "id": "5cce3dde-2b79-464b-89a6-460fe2eeaa88",
   "metadata": {},
   "outputs": [],
   "source": [
    "show_simple_ecdf_from_value_counts(df_pdde_raw.groupby(['rct_no', 'pd_c']).buy_ct.nunique().value_counts().sort_index(), title='장바구니-pd_c별 상품수량 가짓수 분포')"
   ]
  },
  {
   "cell_type": "code",
   "execution_count": null,
   "id": "4b89ab5d-022d-41b6-a88f-6d28aedd110e",
   "metadata": {},
   "outputs": [],
   "source": [
    "show_simple_ecdf_from_value_counts(df_pdde_raw.groupby(['rct_no', 'pd_c']).buy_ct.count().value_counts().sort_index(), title='장바구니-pd_c별 상품수량 카운트 분포')"
   ]
  },
  {
   "cell_type": "code",
   "execution_count": 19,
   "id": "49dc3a31-eb06-4132-9fca-6fc0ff10e446",
   "metadata": {},
   "outputs": [],
   "source": [
    "df_pdde_raw['cust_uniq_rct_nos'] = df_pdde_raw.groupby('cust').rct_no.transform('nunique')"
   ]
  },
  {
   "cell_type": "code",
   "execution_count": 20,
   "id": "0fb8096f-844e-46af-a212-a75bfbba6784",
   "metadata": {},
   "outputs": [],
   "source": [
    "df_pdde_raw['cust_total_payments'] = df_pdde_raw.groupby('cust').buy_am.transform('sum')"
   ]
  },
  {
   "cell_type": "code",
   "execution_count": 21,
   "id": "b7711127-0bfa-4a8b-bad4-980e310ec668",
   "metadata": {},
   "outputs": [],
   "source": [
    "df_pdde_raw['rct_no_uniq_pd_cs'] = df_pdde_raw.groupby(['rct_no']).pd_c.transform('nunique')"
   ]
  },
  {
   "cell_type": "code",
   "execution_count": 22,
   "id": "9ca5f566-46bb-4c7c-83b7-5028d0caac6b",
   "metadata": {},
   "outputs": [],
   "source": [
    "df_pdde_raw['rct_no_pd_cs'] = df_pdde_raw.groupby(['rct_no']).pd_c.transform('count')"
   ]
  },
  {
   "cell_type": "code",
   "execution_count": 23,
   "id": "e7572dbe-0902-4bbf-98c8-e26c891038b6",
   "metadata": {},
   "outputs": [],
   "source": [
    "df_pdde_raw['rct_no_payment'] = df_pdde_raw.groupby(['rct_no']).buy_am.transform('sum')"
   ]
  },
  {
   "cell_type": "code",
   "execution_count": 24,
   "id": "5cf239e8-3d89-4ea4-9133-2c8203c25068",
   "metadata": {},
   "outputs": [],
   "source": [
    "df_pdde_raw['de_dthr'] = pd.to_datetime(df_pdde_raw.de_dt.str.cat(df_pdde_raw.de_hr), format='%Y%m%d%H')"
   ]
  },
  {
   "cell_type": "code",
   "execution_count": 25,
   "id": "d57e8f45-c4e2-4695-a821-9852824e9db4",
   "metadata": {},
   "outputs": [],
   "source": [
    "df_pdde_raw.drop(labels=['de_dt', 'de_hr'], axis=1, inplace=True)"
   ]
  },
  {
   "cell_type": "code",
   "execution_count": 26,
   "id": "63677e17-ee7e-427c-9d0e-cb3933bc3df4",
   "metadata": {},
   "outputs": [
    {
     "data": {
      "text/html": [
       "<div>\n",
       "<style scoped>\n",
       "    .dataframe tbody tr th:only-of-type {\n",
       "        vertical-align: middle;\n",
       "    }\n",
       "\n",
       "    .dataframe tbody tr th {\n",
       "        vertical-align: top;\n",
       "    }\n",
       "\n",
       "    .dataframe thead th {\n",
       "        text-align: right;\n",
       "    }\n",
       "</style>\n",
       "<table border=\"1\" class=\"dataframe\">\n",
       "  <thead>\n",
       "    <tr style=\"text-align: right;\">\n",
       "      <th></th>\n",
       "      <th>cust</th>\n",
       "      <th>rct_no</th>\n",
       "      <th>chnl_dv</th>\n",
       "      <th>cop_c</th>\n",
       "      <th>br_c</th>\n",
       "      <th>pd_c</th>\n",
       "      <th>buy_am</th>\n",
       "      <th>buy_ct</th>\n",
       "      <th>de_dthr</th>\n",
       "      <th>cust_uniq_rct_nos</th>\n",
       "      <th>cust_total_payments</th>\n",
       "      <th>rct_no_uniq_pd_cs</th>\n",
       "      <th>rct_no_pd_cs</th>\n",
       "      <th>rct_no_payment</th>\n",
       "    </tr>\n",
       "  </thead>\n",
       "  <tbody>\n",
       "    <tr>\n",
       "      <th>0</th>\n",
       "      <td>M430112881</td>\n",
       "      <td>A01000001113</td>\n",
       "      <td>1</td>\n",
       "      <td>A01</td>\n",
       "      <td>A010039</td>\n",
       "      <td>PD0290</td>\n",
       "      <td>15000</td>\n",
       "      <td>1</td>\n",
       "      <td>2021-01-01 10:00:00</td>\n",
       "      <td>102</td>\n",
       "      <td>2977947</td>\n",
       "      <td>1</td>\n",
       "      <td>1</td>\n",
       "      <td>15000</td>\n",
       "    </tr>\n",
       "    <tr>\n",
       "      <th>1</th>\n",
       "      <td>M646853852</td>\n",
       "      <td>A01000002265</td>\n",
       "      <td>1</td>\n",
       "      <td>A01</td>\n",
       "      <td>A010025</td>\n",
       "      <td>PD1369</td>\n",
       "      <td>79700</td>\n",
       "      <td>1</td>\n",
       "      <td>2021-01-01 10:00:00</td>\n",
       "      <td>97</td>\n",
       "      <td>9165313</td>\n",
       "      <td>1</td>\n",
       "      <td>1</td>\n",
       "      <td>79700</td>\n",
       "    </tr>\n",
       "    <tr>\n",
       "      <th>2</th>\n",
       "      <td>M430112881</td>\n",
       "      <td>A01000003148</td>\n",
       "      <td>1</td>\n",
       "      <td>A01</td>\n",
       "      <td>A010039</td>\n",
       "      <td>PD0290</td>\n",
       "      <td>19000</td>\n",
       "      <td>1</td>\n",
       "      <td>2021-01-01 10:00:00</td>\n",
       "      <td>102</td>\n",
       "      <td>2977947</td>\n",
       "      <td>1</td>\n",
       "      <td>2</td>\n",
       "      <td>38000</td>\n",
       "    </tr>\n",
       "    <tr>\n",
       "      <th>3</th>\n",
       "      <td>M430112881</td>\n",
       "      <td>A01000003148</td>\n",
       "      <td>1</td>\n",
       "      <td>A01</td>\n",
       "      <td>A010039</td>\n",
       "      <td>PD0290</td>\n",
       "      <td>19000</td>\n",
       "      <td>1</td>\n",
       "      <td>2021-01-01 10:00:00</td>\n",
       "      <td>102</td>\n",
       "      <td>2977947</td>\n",
       "      <td>1</td>\n",
       "      <td>2</td>\n",
       "      <td>38000</td>\n",
       "    </tr>\n",
       "    <tr>\n",
       "      <th>4</th>\n",
       "      <td>M430112881</td>\n",
       "      <td>A01000004946</td>\n",
       "      <td>1</td>\n",
       "      <td>A01</td>\n",
       "      <td>A010039</td>\n",
       "      <td>PD0290</td>\n",
       "      <td>19000</td>\n",
       "      <td>1</td>\n",
       "      <td>2021-01-01 10:00:00</td>\n",
       "      <td>102</td>\n",
       "      <td>2977947</td>\n",
       "      <td>1</td>\n",
       "      <td>1</td>\n",
       "      <td>19000</td>\n",
       "    </tr>\n",
       "  </tbody>\n",
       "</table>\n",
       "</div>"
      ],
      "text/plain": [
       "         cust        rct_no  chnl_dv cop_c     br_c    pd_c  buy_am  buy_ct  \\\n",
       "0  M430112881  A01000001113        1   A01  A010039  PD0290   15000       1   \n",
       "1  M646853852  A01000002265        1   A01  A010025  PD1369   79700       1   \n",
       "2  M430112881  A01000003148        1   A01  A010039  PD0290   19000       1   \n",
       "3  M430112881  A01000003148        1   A01  A010039  PD0290   19000       1   \n",
       "4  M430112881  A01000004946        1   A01  A010039  PD0290   19000       1   \n",
       "\n",
       "              de_dthr  cust_uniq_rct_nos  cust_total_payments  \\\n",
       "0 2021-01-01 10:00:00                102              2977947   \n",
       "1 2021-01-01 10:00:00                 97              9165313   \n",
       "2 2021-01-01 10:00:00                102              2977947   \n",
       "3 2021-01-01 10:00:00                102              2977947   \n",
       "4 2021-01-01 10:00:00                102              2977947   \n",
       "\n",
       "   rct_no_uniq_pd_cs  rct_no_pd_cs  rct_no_payment  \n",
       "0                  1             1           15000  \n",
       "1                  1             1           79700  \n",
       "2                  1             2           38000  \n",
       "3                  1             2           38000  \n",
       "4                  1             1           19000  "
      ]
     },
     "execution_count": 26,
     "metadata": {},
     "output_type": "execute_result"
    }
   ],
   "source": [
    "df_pdde_raw.head()"
   ]
  },
  {
   "cell_type": "markdown",
   "id": "a85b52b6-4bb1-40f8-81fb-ee481f66c54f",
   "metadata": {},
   "source": [
    "---"
   ]
  },
  {
   "cell_type": "markdown",
   "id": "c8034386-079c-4642-9212-96ff44eb1237",
   "metadata": {},
   "source": [
    "# RFM 세그먼트"
   ]
  },
  {
   "cell_type": "markdown",
   "id": "fbec7c17-495a-47e9-86b5-10d67544e11a",
   "metadata": {},
   "source": [
    "## 마진 설정"
   ]
  },
  {
   "cell_type": "code",
   "execution_count": 27,
   "id": "697186c1-90c7-4b25-a45f-4ed03c4b8e3a",
   "metadata": {},
   "outputs": [],
   "source": [
    "def outlier_thresholds(dataframe, variable):\n",
    "    quartile1 = dataframe[variable].quantile(0.00)    \n",
    "    quartile3 = dataframe[variable].quantile(0.99)\n",
    "    interquantile_range = quartile3 - quartile1\n",
    "    up_limit = quartile3 + 1.5 * interquantile_range\n",
    "    low_limit = quartile1 - 1.5 * interquantile_range\n",
    "    return low_limit, up_limit\n",
    "\n",
    "def replace_with_thresholds(dataframe, variable):\n",
    "    low_limit, up_limit = outlier_thresholds(dataframe, variable)\n",
    "    dataframe.loc[(dataframe[variable] > up_limit), variable] = up_limit"
   ]
  },
  {
   "cell_type": "markdown",
   "id": "074d6b60-947c-40cd-b31f-4b224ed724ae",
   "metadata": {},
   "source": [
    "## RFM"
   ]
  },
  {
   "cell_type": "code",
   "execution_count": 28,
   "id": "9634c716-950d-4b11-99ad-5768b30afd34",
   "metadata": {},
   "outputs": [
    {
     "data": {
      "text/html": [
       "<div>\n",
       "<style scoped>\n",
       "    .dataframe tbody tr th:only-of-type {\n",
       "        vertical-align: middle;\n",
       "    }\n",
       "\n",
       "    .dataframe tbody tr th {\n",
       "        vertical-align: top;\n",
       "    }\n",
       "\n",
       "    .dataframe thead th {\n",
       "        text-align: right;\n",
       "    }\n",
       "</style>\n",
       "<table border=\"1\" class=\"dataframe\">\n",
       "  <thead>\n",
       "    <tr style=\"text-align: right;\">\n",
       "      <th></th>\n",
       "      <th>rct_no</th>\n",
       "      <th>cust</th>\n",
       "      <th>de_dthr</th>\n",
       "      <th>buy_am</th>\n",
       "    </tr>\n",
       "  </thead>\n",
       "  <tbody>\n",
       "    <tr>\n",
       "      <th>0</th>\n",
       "      <td>E02000052541</td>\n",
       "      <td>M978764630</td>\n",
       "      <td>2021-01-01 00:00:00</td>\n",
       "      <td>444800</td>\n",
       "    </tr>\n",
       "    <tr>\n",
       "      <th>1</th>\n",
       "      <td>E02000057891</td>\n",
       "      <td>M601576068</td>\n",
       "      <td>2021-01-01 00:00:00</td>\n",
       "      <td>40290</td>\n",
       "    </tr>\n",
       "    <tr>\n",
       "      <th>2</th>\n",
       "      <td>E02000056622</td>\n",
       "      <td>M726383544</td>\n",
       "      <td>2021-01-01 00:00:00</td>\n",
       "      <td>41230</td>\n",
       "    </tr>\n",
       "    <tr>\n",
       "      <th>3</th>\n",
       "      <td>E02000055173</td>\n",
       "      <td>M102283139</td>\n",
       "      <td>2021-01-01 00:00:00</td>\n",
       "      <td>9360</td>\n",
       "    </tr>\n",
       "    <tr>\n",
       "      <th>4</th>\n",
       "      <td>E02000054678</td>\n",
       "      <td>M564299660</td>\n",
       "      <td>2021-01-01 00:00:00</td>\n",
       "      <td>30500</td>\n",
       "    </tr>\n",
       "    <tr>\n",
       "      <th>...</th>\n",
       "      <td>...</td>\n",
       "      <td>...</td>\n",
       "      <td>...</td>\n",
       "      <td>...</td>\n",
       "    </tr>\n",
       "    <tr>\n",
       "      <th>1266584</th>\n",
       "      <td>A04128987327</td>\n",
       "      <td>M562823758</td>\n",
       "      <td>2021-12-31 23:00:00</td>\n",
       "      <td>9000</td>\n",
       "    </tr>\n",
       "    <tr>\n",
       "      <th>1266585</th>\n",
       "      <td>A04128847016</td>\n",
       "      <td>M326961541</td>\n",
       "      <td>2021-12-31 23:00:00</td>\n",
       "      <td>31150</td>\n",
       "    </tr>\n",
       "    <tr>\n",
       "      <th>1266586</th>\n",
       "      <td>A04128958050</td>\n",
       "      <td>M629230802</td>\n",
       "      <td>2021-12-31 23:00:00</td>\n",
       "      <td>2000</td>\n",
       "    </tr>\n",
       "    <tr>\n",
       "      <th>1266587</th>\n",
       "      <td>E03012401343</td>\n",
       "      <td>M655525572</td>\n",
       "      <td>2021-12-31 23:00:00</td>\n",
       "      <td>60080</td>\n",
       "    </tr>\n",
       "    <tr>\n",
       "      <th>1266588</th>\n",
       "      <td>E06052119978</td>\n",
       "      <td>M533286446</td>\n",
       "      <td>2021-12-31 23:00:00</td>\n",
       "      <td>500000</td>\n",
       "    </tr>\n",
       "  </tbody>\n",
       "</table>\n",
       "<p>1266589 rows × 4 columns</p>\n",
       "</div>"
      ],
      "text/plain": [
       "               rct_no        cust             de_dthr  buy_am\n",
       "0        E02000052541  M978764630 2021-01-01 00:00:00  444800\n",
       "1        E02000057891  M601576068 2021-01-01 00:00:00   40290\n",
       "2        E02000056622  M726383544 2021-01-01 00:00:00   41230\n",
       "3        E02000055173  M102283139 2021-01-01 00:00:00    9360\n",
       "4        E02000054678  M564299660 2021-01-01 00:00:00   30500\n",
       "...               ...         ...                 ...     ...\n",
       "1266584  A04128987327  M562823758 2021-12-31 23:00:00    9000\n",
       "1266585  A04128847016  M326961541 2021-12-31 23:00:00   31150\n",
       "1266586  A04128958050  M629230802 2021-12-31 23:00:00    2000\n",
       "1266587  E03012401343  M655525572 2021-12-31 23:00:00   60080\n",
       "1266588  E06052119978  M533286446 2021-12-31 23:00:00  500000\n",
       "\n",
       "[1266589 rows x 4 columns]"
      ]
     },
     "execution_count": 28,
     "metadata": {},
     "output_type": "execute_result"
    }
   ],
   "source": [
    "# 장바구니별로 groupby\n",
    "df_crm = (df_pdde_raw.groupby(['rct_no'])\n",
    "         .agg({'cust':'first', 'de_dthr':'first', 'rct_no_payment':'first'}) # cust_uniq_rct_nos':'first'\n",
    "         .sort_values(by='de_dthr', ascending=True)\n",
    "         .reset_index() # drop=True\n",
    "         .rename(columns={'rct_no_payment':'buy_am'})   # 'cust_uniq_rct_nos':'rct_cnt'\n",
    ")\n",
    "df_crm"
   ]
  },
  {
   "cell_type": "markdown",
   "id": "b3f194b7-fe77-479c-9803-2aa6067619c5",
   "metadata": {},
   "source": [
    "## 상반기 하반기 데이터 나누기"
   ]
  },
  {
   "cell_type": "code",
   "execution_count": 29,
   "id": "5829eaf5-413a-41cb-8014-46253622765c",
   "metadata": {},
   "outputs": [],
   "source": [
    "# 상반기는 2350177건\n",
    "# 하반기는 2031629건\n",
    "half = '2021-07-01'\n",
    "# second_half = '2021-12-31'\n",
    "\n",
    "# 상반기 데이터: df_first_half, 하반기 데이터: df_second_half\n",
    "df_first_half = df_pdde_raw.query('de_dthr < @half ')\n",
    "df_second_half = df_pdde_raw.query('de_dthr >= @half')"
   ]
  },
  {
   "cell_type": "markdown",
   "id": "eee8f8d9-0926-4c02-8056-6b5c183e7baf",
   "metadata": {},
   "source": [
    "### 상반기"
   ]
  },
  {
   "cell_type": "code",
   "execution_count": 30,
   "id": "b1938d26-d10a-4a8c-9e58-19a6f8a74598",
   "metadata": {},
   "outputs": [],
   "source": [
    "# 상반기 장바구니별로 groupby\n",
    "df_crm_first = (df_first_half.groupby(['rct_no'])\n",
    "         .agg({'cust':'first', 'de_dthr':'first', 'rct_no_payment':'first'}) # cust_uniq_rct_nos':'first'\n",
    "         .sort_values(by='de_dthr', ascending=True)\n",
    "         .reset_index() # drop=True\n",
    "         .rename(columns={'rct_no_payment':'buy_am'})   # 'cust_uniq_rct_nos':'rct_cnt'\n",
    ")\n",
    "\n",
    "#상반기의 recency는 2021.7.1을 기준으로 함\n",
    "most_recent_date =pd.Timestamp(\"2021-07-01\")\n",
    "df_crm_first = (df_crm_first.groupby(['cust'])\n",
    "          .agg({'de_dthr': lambda date: (most_recent_date - date.max()).days,\n",
    "                'rct_no': lambda num: num.nunique(), 'buy_am':'sum'})\n",
    "          .astype({'buy_am':'int'})\n",
    ")\n",
    "df_crm_first.columns = ['recency', 'frequency', 'monetary']\n",
    "#          .reset_index()\n",
    "\n",
    "# 5등급으로 나눔\n",
    "df_crm_first[\"recency_score\"] = pd.qcut(df_crm_first['recency'], 5, labels=[5, 4, 3, 2, 1])\n",
    "df_crm_first[\"frequency_score\"] = pd.qcut(df_crm_first['frequency'].rank(method=\"first\"), 5, labels=[1, 2, 3, 4, 5])\n",
    "df_crm_first[\"monetary_score\"] = pd.qcut(df_crm_first['monetary'], 5, labels=[1, 2, 3, 4, 5])\n",
    "\n",
    "#datatype 형변환\n",
    "df_crm_first[['recency_score','frequency_score','monetary_score']] = df_crm_first[['recency_score','frequency_score','monetary_score']].astype(int)\n",
    "\n",
    "df_crm_first['rfm_score'] = ((0.3*df_crm_first['recency_score'] + 0.2*df_crm_first['frequency_score'] + 0.5*df_crm_first['monetary_score']) * 100 / 5).astype(int)\n",
    "\n",
    "#기타:0-39점, 일반:40-59점, 우수:60-79점, 최우수:80-100점\n",
    "df_crm_first[\"rfm_level\"] = pd.cut(df_crm_first[\"rfm_score\"], bins=4, right=False, labels=['기타고객','일반고객','우수고객','최우수고객'])"
   ]
  },
  {
   "cell_type": "markdown",
   "id": "56edc219-90e5-4d3a-97de-4ccf0250f1c7",
   "metadata": {},
   "source": [
    "### 하반기"
   ]
  },
  {
   "cell_type": "code",
   "execution_count": 31,
   "id": "0ac75c9d-a04f-41a9-9de6-4fc6649ba8e4",
   "metadata": {},
   "outputs": [],
   "source": [
    "# 상반기 장바구니별로 groupby\n",
    "df_crm_second = (df_second_half.groupby(['rct_no'])\n",
    "         .agg({'cust':'first', 'de_dthr':'first', 'rct_no_payment':'first'}) # cust_uniq_rct_nos':'first'\n",
    "         .sort_values(by='de_dthr', ascending=True)\n",
    "         .reset_index() # drop=True\n",
    "         .rename(columns={'rct_no_payment':'buy_am'})   # 'cust_uniq_rct_nos':'rct_cnt'\n",
    ")\n",
    "\n",
    "#하반기의 recency는 2022.1.1을 기준으로 함\n",
    "most_recent_date =pd.Timestamp(\"2022-01-01\")\n",
    "df_crm_second = (df_crm_second.groupby(['cust'])\n",
    "          .agg({'de_dthr': lambda date: (most_recent_date - date.max()).days,\n",
    "                'rct_no': lambda num: num.nunique(), 'buy_am':'sum'})\n",
    "          .astype({'buy_am':'int'})\n",
    ")\n",
    "df_crm_second.columns = ['recency', 'frequency', 'monetary']\n",
    "#          .reset_index()\n",
    "\n",
    "# 5등급으로 나눔\n",
    "df_crm_second[\"recency_score\"] = pd.qcut(df_crm_second['recency'], 5, labels=[5, 4, 3, 2, 1])\n",
    "df_crm_second[\"frequency_score\"] = pd.qcut(df_crm_second['frequency'].rank(method=\"first\"), 5, labels=[1, 2, 3, 4, 5])\n",
    "df_crm_second[\"monetary_score\"] = pd.qcut(df_crm_second['monetary'], 5, labels=[1, 2, 3, 4, 5])\n",
    "\n",
    "#datatype 형변환\n",
    "df_crm_second[['recency_score','frequency_score','monetary_score']] = df_crm_second[['recency_score','frequency_score','monetary_score']].astype(int)\n",
    "\n",
    "df_crm_second['rfm_score'] = ((0.3*df_crm_second['recency_score'] + 0.2*df_crm_second['frequency_score'] + 0.5*df_crm_second['monetary_score']) * 100 / 5).astype(int)\n",
    "\n",
    "#기타:0-39점, 일반:40-59점, 우수:60-79점, 최우수:80-100점\n",
    "df_crm_second[\"rfm_level\"] = pd.cut(df_crm_second[\"rfm_score\"], bins=4, right=False, labels=['기타고객','일반고객','우수고객','최우수고객'])"
   ]
  },
  {
   "cell_type": "markdown",
   "id": "b585c819-d0fe-47d3-a019-313beae67514",
   "metadata": {},
   "source": [
    "### 상반기와 하반기 join"
   ]
  },
  {
   "cell_type": "code",
   "execution_count": 32,
   "id": "dc72098d-690f-4108-906a-a0506e1b7105",
   "metadata": {},
   "outputs": [],
   "source": [
    "df_join = pd.merge(df_crm_first, df_crm_second, left_index=True, right_index=True, how='left') #.fillna('비활동고객')\n",
    "df_rank = df_join[['rfm_level_x','rfm_level_y']].rename(columns={'rfm_level_x':'grade_first', 'rfm_level_y':'grade_second'})\n",
    "\n",
    "df_rank['grade_second'] = df_rank['grade_second'].cat.add_categories('비활동고객').fillna('비활동고객')"
   ]
  },
  {
   "cell_type": "markdown",
   "id": "a4bff751-7972-49dc-9be0-9fc6bf2d878c",
   "metadata": {},
   "source": [
    "# NCF 데이터 준비"
   ]
  },
  {
   "cell_type": "markdown",
   "id": "055cc1d1-8b36-498e-bae9-122e7983323a",
   "metadata": {},
   "source": [
    "## 유저"
   ]
  },
  {
   "cell_type": "code",
   "execution_count": 35,
   "id": "fc4731e5-6198-4c77-bd5f-6ba3b7fb77fa",
   "metadata": {},
   "outputs": [],
   "source": [
    "df_user = pd.merge(df_demo.set_index('cust'), df_rank, left_index=True, right_index=True)"
   ]
  },
  {
   "cell_type": "code",
   "execution_count": 37,
   "id": "9e66c2c8-bccc-4618-8e4c-74b46208da00",
   "metadata": {},
   "outputs": [],
   "source": [
    "df_user['label'] = df_user['grade_first'].str.cat(df_user['grade_second'], sep='/')"
   ]
  },
  {
   "cell_type": "markdown",
   "id": "688c286a-e096-4d2f-92a1-9717ec4c50a1",
   "metadata": {},
   "source": [
    "### 상품 구매 정보 벡터"
   ]
  },
  {
   "cell_type": "markdown",
   "id": "73675b85-ee33-40d6-a889-15ce9ad52c3d",
   "metadata": {},
   "source": [
    "상반기/하반기 구분하지 않기로 함"
   ]
  },
  {
   "cell_type": "code",
   "execution_count": 57,
   "id": "3a71081f-876e-45e8-9e3a-177db0c441c9",
   "metadata": {},
   "outputs": [],
   "source": [
    "def get_pdde_ext_summary(df, prefix=''):\n",
    "    '''\n",
    "        df: 상품 구매 정보 DataFrame\n",
    "        prefix: 변환 결과 컬럼에 붙일 prefix\n",
    "        \n",
    "        구매의 경우는 RFM 에 총 구매 빈도와, 구매 금액 랭크가 반영되어 있으므로...\n",
    "        유통사 코드에 대한 빈도만 추가한다.\n",
    "    '''\n",
    "    zz = (df.groupby('cust').cop_c.value_counts(normalize=False)\n",
    "       .unstack()\n",
    "       .fillna(0.0)\n",
    "       .rename_axis(columns=None)\n",
    "       .add_prefix(f'{prefix}pdde_').add_suffix('_rank')\n",
    "      )\n",
    "    return pd.concat((zz[col].rank(pct=True, method='min') for col in zz.columns), axis=1) "
   ]
  },
  {
   "cell_type": "code",
   "execution_count": 59,
   "id": "8226c198-2e82-405a-b796-15344dd91718",
   "metadata": {},
   "outputs": [],
   "source": [
    "df_pdde_summary = get_pdde_ext_summary(df_pdde_raw)\n",
    "df_merged = df_user.merge(df_pdde_summary, left_index=True, right_index=True, how='left')\n",
    "\n",
    "for col in df_pdde_summary.columns:\n",
    "    df_merged[col].fillna(0.0, inplace=True)"
   ]
  },
  {
   "cell_type": "markdown",
   "id": "25510b7b-9508-4591-a5ae-0b74aa09d82d",
   "metadata": {},
   "source": [
    "### 제휴사 이용 정보 벡터\n",
    "\n",
    "상반기/하반기 구분하지 않기로 함"
   ]
  },
  {
   "cell_type": "code",
   "execution_count": 61,
   "id": "8cbfc7a0-b0e5-488e-bf3b-0a56e57c3659",
   "metadata": {},
   "outputs": [],
   "source": [
    "df_cop_u_raw = pd.read_csv(os.path.join(base_path, file_path_dic['cop_u']), dtype={'br_c':str, 'de_dt':str, 'de_hr':str})\n",
    "df_cop_u = pd.concat((df_cop_u_raw[['cust', 'rct_no', 'cop_c', 'br_c', 'buy_am']], \n",
    "           pd.to_datetime(df_cop_u_raw.de_dt.str.cat(df_cop_u_raw.de_hr), format='%Y%m%d%H').rename('buy_dt')), axis=1).set_index('buy_dt').sort_index()"
   ]
  },
  {
   "cell_type": "code",
   "execution_count": 62,
   "id": "a7b409cf-2bd8-4a19-aab2-172d169562c8",
   "metadata": {},
   "outputs": [],
   "source": [
    "df_cop_u_first = df_cop_u.query(\"buy_dt < @half\")\n",
    "df_cop_u_second = df_cop_u.query(\"buy_dt >= @half\")"
   ]
  },
  {
   "cell_type": "markdown",
   "id": "85bef6bf-83e0-4a44-a003-ba101676cc23",
   "metadata": {},
   "source": [
    "제휴사 전체 이용 빈도/제휴사 개별 이용 빈도 등수, 금액 등수"
   ]
  },
  {
   "cell_type": "code",
   "execution_count": 63,
   "id": "ed594a92-f11d-478d-95fe-1be442cf4fe6",
   "metadata": {},
   "outputs": [],
   "source": [
    "def get_cop_summary(df, prefix=''):\n",
    "    '''\n",
    "        df: 제휴사 이용 정보 DataFrame\n",
    "        prefix: 변환 결과 컬럼에 붙일 prefix\n",
    "    '''\n",
    "    yy = df.groupby('cust').agg({'cop_c':'count', 'buy_am':'sum'})\n",
    "    zz = (df.groupby('cust').cop_c.value_counts(normalize=False)\n",
    "       .unstack()\n",
    "       .fillna(0.0)\n",
    "       .rename_axis(columns=None)\n",
    "       .add_prefix(f'{prefix}cop_').add_suffix('_rank')\n",
    "      )\n",
    "    return pd.concat((\n",
    "        yy.cop_c.rank(pct=True, method='min').rename(f'{prefix}cop_use_rank'),\n",
    "        yy.buy_am.rank(pct=True, method='min').rename(f'{prefix}cop_buy_rank'),\n",
    "        pd.concat((zz[col].rank(pct=True, method='min') for col in zz.columns), axis=1) \n",
    "        ), axis=1)"
   ]
  },
  {
   "cell_type": "markdown",
   "id": "24c93ee9-b989-4079-b3db-d951b5e17ef1",
   "metadata": {},
   "source": [
    "제휴사 이용정보를 merge\n",
    "- user left join cop\n",
    "- NaN은 0.0 으로 채움\n",
    "\n",
    "주의\n",
    "- 상품구매: 25,035 명\n",
    "- 제휴: 21,769 명\n",
    "- 상품구매, 제휴 교집합: 18,062 명"
   ]
  },
  {
   "cell_type": "code",
   "execution_count": 64,
   "id": "95053d07-6053-4506-8d98-27fcbc2621ad",
   "metadata": {},
   "outputs": [],
   "source": [
    "df_cop_summary = get_cop_summary(df_cop_u)\n",
    "df_merged = df_merged.merge(df_cop_summary, left_index=True, right_index=True, how='left')\n",
    "\n",
    "for col in df_cop_summary.columns:\n",
    "    df_merged[col].fillna(0.0, inplace=True)"
   ]
  },
  {
   "cell_type": "markdown",
   "id": "b2c17dcf-c132-4f88-99ef-2af8d57d3c47",
   "metadata": {},
   "source": [
    "### 엘페이 이용 정보 벡터\n",
    "\n",
    "상반기/하반기 구분하지 않기로 함"
   ]
  },
  {
   "cell_type": "code",
   "execution_count": 65,
   "id": "2fa1d8a5-5501-4e10-a323-36b71bfecc61",
   "metadata": {},
   "outputs": [],
   "source": [
    "df_lpay_raw = pd.read_csv(os.path.join(base_path, file_path_dic['lpay']), dtype={'de_dt':str, 'de_hr':str})\n",
    "df_lpay = pd.concat((df_lpay_raw[['cust', 'rct_no', 'chnl_dv', 'cop_c', 'buy_am']], \n",
    "           pd.to_datetime(df_lpay_raw.de_dt.str.cat(df_lpay_raw.de_hr), format='%Y%m%d%H').rename('buy_dt')), axis=1).set_index('buy_dt').sort_index()"
   ]
  },
  {
   "cell_type": "code",
   "execution_count": 66,
   "id": "ce6fa71c-6883-481e-9d5f-a17ae4549fac",
   "metadata": {},
   "outputs": [],
   "source": [
    "df_lpay_first = df_lpay.query(\"buy_dt < @half\")\n",
    "df_lpay_second = df_lpay.query(\"buy_dt >= @half\")"
   ]
  },
  {
   "cell_type": "markdown",
   "id": "120116a7-afab-4a11-8c68-9a8c7b69166e",
   "metadata": {},
   "source": [
    "엘페이 전체 이용 빈도/제휴사 개별 이용 빈도 등수, 금액 등수"
   ]
  },
  {
   "cell_type": "code",
   "execution_count": 67,
   "id": "88155441-b5d0-44f8-ba22-1c033f4a4f49",
   "metadata": {},
   "outputs": [],
   "source": [
    "def get_lpay_summary(df, prefix=''):\n",
    "    '''\n",
    "        df: cop_c 이용 정보 DataFrame\n",
    "        prefix: 변환 결과 컬럼에 붙일 prefix\n",
    "    '''\n",
    "    yy = df.groupby('cust').agg({'cop_c':'count', 'buy_am':'sum'})\n",
    "    zz = (df.groupby('cust').cop_c.value_counts(normalize=False)\n",
    "       .unstack()\n",
    "       .fillna(0.0)\n",
    "       .rename_axis(columns=None)\n",
    "       .add_prefix(f'{prefix}lpay_').add_suffix('_rank')\n",
    "      )\n",
    "    return pd.concat((\n",
    "        yy.cop_c.rank(pct=True, method='min').rename(f'{prefix}lpay_use_rank'),\n",
    "        yy.buy_am.rank(pct=True, method='min').rename(f'{prefix}lpay_buy_rank'),\n",
    "        pd.concat((zz[col].rank(pct=True, method='min') for col in zz.columns), axis=1) \n",
    "        ), axis=1)"
   ]
  },
  {
   "cell_type": "markdown",
   "id": "aca44c39-fb77-4c76-94ac-f392d5e0c254",
   "metadata": {},
   "source": [
    "제휴사 이용정보를 merge\n",
    "- user left join cop\n",
    "- NaN은 0.0 으로 채움\n",
    "\n",
    "주의\n",
    "- 상품구매: 25,035 명\n",
    "- 엘페이: 8,906 명\n",
    "- 상품구매, 엘페이 교집합: 8,393 명"
   ]
  },
  {
   "cell_type": "code",
   "execution_count": 68,
   "id": "b60c308a-3fc6-49f4-8324-9443ebfcbb06",
   "metadata": {},
   "outputs": [],
   "source": [
    "df_lpay_summary = get_lpay_summary(df_lpay)"
   ]
  },
  {
   "cell_type": "code",
   "execution_count": 69,
   "id": "1923b1a1-fc0d-49ec-a7d1-05e7569a8381",
   "metadata": {},
   "outputs": [],
   "source": [
    "df_merged = df_merged.merge(df_lpay_summary, left_index=True, right_index=True, how='left')\n",
    "\n",
    "for col in df_lpay_summary.columns:\n",
    "    df_merged[col].fillna(0.0, inplace=True)"
   ]
  },
  {
   "cell_type": "code",
   "execution_count": 91,
   "id": "338f75f5-5100-4137-bf79-b8582141b59c",
   "metadata": {},
   "outputs": [],
   "source": [
    "df_user_merged = df_merged.copy()"
   ]
  },
  {
   "cell_type": "markdown",
   "id": "7d58d92a-c338-4991-95da-954489d2d7e6",
   "metadata": {},
   "source": [
    "## 아이템"
   ]
  },
  {
   "cell_type": "code",
   "execution_count": 178,
   "id": "e0f9256e-024e-4049-bb57-c1ddc66c17f3",
   "metadata": {},
   "outputs": [],
   "source": [
    "df_pd_clac = pd.read_csv(os.path.join(base_path, file_path_dic['pd_clac'])).set_index('pd_c')"
   ]
  },
  {
   "cell_type": "code",
   "execution_count": 179,
   "id": "49150917-4aff-4b58-ad5f-2a75f81ba0d0",
   "metadata": {},
   "outputs": [
    {
     "data": {
      "text/html": [
       "<div>\n",
       "<style scoped>\n",
       "    .dataframe tbody tr th:only-of-type {\n",
       "        vertical-align: middle;\n",
       "    }\n",
       "\n",
       "    .dataframe tbody tr th {\n",
       "        vertical-align: top;\n",
       "    }\n",
       "\n",
       "    .dataframe thead th {\n",
       "        text-align: right;\n",
       "    }\n",
       "</style>\n",
       "<table border=\"1\" class=\"dataframe\">\n",
       "  <thead>\n",
       "    <tr style=\"text-align: right;\">\n",
       "      <th></th>\n",
       "      <th>pd_nm</th>\n",
       "      <th>clac_hlv_nm</th>\n",
       "      <th>clac_mcls_nm</th>\n",
       "    </tr>\n",
       "    <tr>\n",
       "      <th>pd_c</th>\n",
       "      <th></th>\n",
       "      <th></th>\n",
       "      <th></th>\n",
       "    </tr>\n",
       "  </thead>\n",
       "  <tbody>\n",
       "    <tr>\n",
       "      <th>PD0001</th>\n",
       "      <td>소파</td>\n",
       "      <td>가구</td>\n",
       "      <td>거실가구</td>\n",
       "    </tr>\n",
       "    <tr>\n",
       "      <th>PD0002</th>\n",
       "      <td>스툴/리빙의자</td>\n",
       "      <td>가구</td>\n",
       "      <td>거실가구</td>\n",
       "    </tr>\n",
       "    <tr>\n",
       "      <th>PD0003</th>\n",
       "      <td>탁자</td>\n",
       "      <td>가구</td>\n",
       "      <td>거실가구</td>\n",
       "    </tr>\n",
       "    <tr>\n",
       "      <th>PD0004</th>\n",
       "      <td>장식장/진열장</td>\n",
       "      <td>가구</td>\n",
       "      <td>거실가구</td>\n",
       "    </tr>\n",
       "    <tr>\n",
       "      <th>PD0005</th>\n",
       "      <td>기타가구</td>\n",
       "      <td>가구</td>\n",
       "      <td>기타가구</td>\n",
       "    </tr>\n",
       "    <tr>\n",
       "      <th>...</th>\n",
       "      <td>...</td>\n",
       "      <td>...</td>\n",
       "      <td>...</td>\n",
       "    </tr>\n",
       "    <tr>\n",
       "      <th>PD1929</th>\n",
       "      <td>여성향수</td>\n",
       "      <td>화장품/뷰티케어</td>\n",
       "      <td>향수</td>\n",
       "    </tr>\n",
       "    <tr>\n",
       "      <th>PD1930</th>\n",
       "      <td>남성향수</td>\n",
       "      <td>화장품/뷰티케어</td>\n",
       "      <td>향수</td>\n",
       "    </tr>\n",
       "    <tr>\n",
       "      <th>PD1931</th>\n",
       "      <td>남녀공용향수</td>\n",
       "      <td>화장품/뷰티케어</td>\n",
       "      <td>향수</td>\n",
       "    </tr>\n",
       "    <tr>\n",
       "      <th>PD1932</th>\n",
       "      <td>남성향수세트</td>\n",
       "      <td>화장품/뷰티케어</td>\n",
       "      <td>향수</td>\n",
       "    </tr>\n",
       "    <tr>\n",
       "      <th>PD1933</th>\n",
       "      <td>남녀공용향수세트</td>\n",
       "      <td>화장품/뷰티케어</td>\n",
       "      <td>향수</td>\n",
       "    </tr>\n",
       "  </tbody>\n",
       "</table>\n",
       "<p>1933 rows × 3 columns</p>\n",
       "</div>"
      ],
      "text/plain": [
       "           pd_nm clac_hlv_nm clac_mcls_nm\n",
       "pd_c                                     \n",
       "PD0001        소파          가구         거실가구\n",
       "PD0002   스툴/리빙의자          가구         거실가구\n",
       "PD0003        탁자          가구         거실가구\n",
       "PD0004   장식장/진열장          가구         거실가구\n",
       "PD0005      기타가구          가구         기타가구\n",
       "...          ...         ...          ...\n",
       "PD1929      여성향수    화장품/뷰티케어           향수\n",
       "PD1930      남성향수    화장품/뷰티케어           향수\n",
       "PD1931    남녀공용향수    화장품/뷰티케어           향수\n",
       "PD1932    남성향수세트    화장품/뷰티케어           향수\n",
       "PD1933  남녀공용향수세트    화장품/뷰티케어           향수\n",
       "\n",
       "[1933 rows x 3 columns]"
      ]
     },
     "execution_count": 179,
     "metadata": {},
     "output_type": "execute_result"
    }
   ],
   "source": [
    "df_pd_clac"
   ]
  },
  {
   "cell_type": "code",
   "execution_count": 241,
   "id": "25deb5b0-973c-4a02-85b3-f2df07fd9181",
   "metadata": {},
   "outputs": [
    {
     "data": {
      "text/plain": [
       "pd_c    cop_c\n",
       "PD0001  A01      298\n",
       "        A06       14\n",
       "        A02        1\n",
       "PD0002  A02      174\n",
       "        A06       13\n",
       "                ... \n",
       "PD1931  A02        8\n",
       "        A03        2\n",
       "PD1932  A01       45\n",
       "PD1933  A01       36\n",
       "        A06       14\n",
       "Name: cop_c, Length: 5847, dtype: int64"
      ]
     },
     "execution_count": 241,
     "metadata": {},
     "output_type": "execute_result"
    }
   ],
   "source": [
    "df_pdde_raw.groupby('pd_c').cop_c.value_counts(normalize=False)"
   ]
  },
  {
   "cell_type": "code",
   "execution_count": 181,
   "id": "e68e4535-8491-4ba3-bd57-5f7f12c1dd8b",
   "metadata": {},
   "outputs": [],
   "source": [
    "zz = df_pdde_raw.groupby('pd_c').cop_c.value_counts(normalize=False).unstack().fillna(0.0).rename_axis(columns=None).add_suffix('_rank')"
   ]
  },
  {
   "cell_type": "code",
   "execution_count": 182,
   "id": "7d604c61-67fc-499a-98a0-d5a5732a5c07",
   "metadata": {},
   "outputs": [],
   "source": [
    "df_item_summary_cop_c = pd.concat((zz[col].rank(pct=True, method='min') for col in zz.columns), axis=1)"
   ]
  },
  {
   "cell_type": "code",
   "execution_count": 183,
   "id": "ecd10d9a-d73b-4897-a271-f3e258ee17e1",
   "metadata": {},
   "outputs": [
    {
     "data": {
      "text/html": [
       "<div>\n",
       "<style scoped>\n",
       "    .dataframe tbody tr th:only-of-type {\n",
       "        vertical-align: middle;\n",
       "    }\n",
       "\n",
       "    .dataframe tbody tr th {\n",
       "        vertical-align: top;\n",
       "    }\n",
       "\n",
       "    .dataframe thead th {\n",
       "        text-align: right;\n",
       "    }\n",
       "</style>\n",
       "<table border=\"1\" class=\"dataframe\">\n",
       "  <thead>\n",
       "    <tr style=\"text-align: right;\">\n",
       "      <th></th>\n",
       "      <th>A01_rank</th>\n",
       "      <th>A02_rank</th>\n",
       "      <th>A03_rank</th>\n",
       "      <th>A04_rank</th>\n",
       "      <th>A05_rank</th>\n",
       "      <th>A06_rank</th>\n",
       "    </tr>\n",
       "    <tr>\n",
       "      <th>pd_c</th>\n",
       "      <th></th>\n",
       "      <th></th>\n",
       "      <th></th>\n",
       "      <th></th>\n",
       "      <th></th>\n",
       "      <th></th>\n",
       "    </tr>\n",
       "  </thead>\n",
       "  <tbody>\n",
       "    <tr>\n",
       "      <th>PD0001</th>\n",
       "      <td>0.827212</td>\n",
       "      <td>0.232281</td>\n",
       "      <td>0.000517</td>\n",
       "      <td>0.000517</td>\n",
       "      <td>0.000517</td>\n",
       "      <td>0.623383</td>\n",
       "    </tr>\n",
       "    <tr>\n",
       "      <th>PD0002</th>\n",
       "      <td>0.323332</td>\n",
       "      <td>0.588205</td>\n",
       "      <td>0.000517</td>\n",
       "      <td>0.000517</td>\n",
       "      <td>0.000517</td>\n",
       "      <td>0.605794</td>\n",
       "    </tr>\n",
       "    <tr>\n",
       "      <th>PD0003</th>\n",
       "      <td>0.543714</td>\n",
       "      <td>0.447491</td>\n",
       "      <td>0.000517</td>\n",
       "      <td>0.000517</td>\n",
       "      <td>0.000517</td>\n",
       "      <td>0.728401</td>\n",
       "    </tr>\n",
       "    <tr>\n",
       "      <th>PD0004</th>\n",
       "      <td>0.371961</td>\n",
       "      <td>0.463011</td>\n",
       "      <td>0.000517</td>\n",
       "      <td>0.000517</td>\n",
       "      <td>0.000517</td>\n",
       "      <td>0.659079</td>\n",
       "    </tr>\n",
       "    <tr>\n",
       "      <th>PD0005</th>\n",
       "      <td>0.892395</td>\n",
       "      <td>0.416451</td>\n",
       "      <td>0.000517</td>\n",
       "      <td>0.000517</td>\n",
       "      <td>0.000517</td>\n",
       "      <td>0.000517</td>\n",
       "    </tr>\n",
       "    <tr>\n",
       "      <th>...</th>\n",
       "      <td>...</td>\n",
       "      <td>...</td>\n",
       "      <td>...</td>\n",
       "      <td>...</td>\n",
       "      <td>...</td>\n",
       "      <td>...</td>\n",
       "    </tr>\n",
       "    <tr>\n",
       "      <th>PD1929</th>\n",
       "      <td>0.947232</td>\n",
       "      <td>0.317641</td>\n",
       "      <td>0.000517</td>\n",
       "      <td>0.814796</td>\n",
       "      <td>0.000517</td>\n",
       "      <td>0.948784</td>\n",
       "    </tr>\n",
       "    <tr>\n",
       "      <th>PD1930</th>\n",
       "      <td>0.792550</td>\n",
       "      <td>0.257113</td>\n",
       "      <td>0.000517</td>\n",
       "      <td>0.774961</td>\n",
       "      <td>0.000517</td>\n",
       "      <td>0.709260</td>\n",
       "    </tr>\n",
       "    <tr>\n",
       "      <th>PD1931</th>\n",
       "      <td>0.914123</td>\n",
       "      <td>0.310398</td>\n",
       "      <td>0.583032</td>\n",
       "      <td>0.000517</td>\n",
       "      <td>0.000517</td>\n",
       "      <td>0.892913</td>\n",
       "    </tr>\n",
       "    <tr>\n",
       "      <th>PD1932</th>\n",
       "      <td>0.605794</td>\n",
       "      <td>0.000517</td>\n",
       "      <td>0.000517</td>\n",
       "      <td>0.000517</td>\n",
       "      <td>0.000517</td>\n",
       "      <td>0.000517</td>\n",
       "    </tr>\n",
       "    <tr>\n",
       "      <th>PD1933</th>\n",
       "      <td>0.578376</td>\n",
       "      <td>0.000517</td>\n",
       "      <td>0.000517</td>\n",
       "      <td>0.000517</td>\n",
       "      <td>0.000517</td>\n",
       "      <td>0.623383</td>\n",
       "    </tr>\n",
       "  </tbody>\n",
       "</table>\n",
       "<p>1933 rows × 6 columns</p>\n",
       "</div>"
      ],
      "text/plain": [
       "        A01_rank  A02_rank  A03_rank  A04_rank  A05_rank  A06_rank\n",
       "pd_c                                                              \n",
       "PD0001  0.827212  0.232281  0.000517  0.000517  0.000517  0.623383\n",
       "PD0002  0.323332  0.588205  0.000517  0.000517  0.000517  0.605794\n",
       "PD0003  0.543714  0.447491  0.000517  0.000517  0.000517  0.728401\n",
       "PD0004  0.371961  0.463011  0.000517  0.000517  0.000517  0.659079\n",
       "PD0005  0.892395  0.416451  0.000517  0.000517  0.000517  0.000517\n",
       "...          ...       ...       ...       ...       ...       ...\n",
       "PD1929  0.947232  0.317641  0.000517  0.814796  0.000517  0.948784\n",
       "PD1930  0.792550  0.257113  0.000517  0.774961  0.000517  0.709260\n",
       "PD1931  0.914123  0.310398  0.583032  0.000517  0.000517  0.892913\n",
       "PD1932  0.605794  0.000517  0.000517  0.000517  0.000517  0.000517\n",
       "PD1933  0.578376  0.000517  0.000517  0.000517  0.000517  0.623383\n",
       "\n",
       "[1933 rows x 6 columns]"
      ]
     },
     "execution_count": 183,
     "metadata": {},
     "output_type": "execute_result"
    }
   ],
   "source": [
    "df_item_summary_cop_c"
   ]
  },
  {
   "cell_type": "code",
   "execution_count": 184,
   "id": "e480cde0-1e5f-4f4a-b542-9a8e0b2ea384",
   "metadata": {},
   "outputs": [],
   "source": [
    "df_item_merged = pd.merge(df_pd_clac['clac_hlv_nm'], df_item_summary_cop_c, left_index=True, right_index=True)"
   ]
  },
  {
   "cell_type": "code",
   "execution_count": 185,
   "id": "4def09a4-6dea-4843-935c-7965e2b4eaeb",
   "metadata": {},
   "outputs": [
    {
     "data": {
      "text/html": [
       "<div>\n",
       "<style scoped>\n",
       "    .dataframe tbody tr th:only-of-type {\n",
       "        vertical-align: middle;\n",
       "    }\n",
       "\n",
       "    .dataframe tbody tr th {\n",
       "        vertical-align: top;\n",
       "    }\n",
       "\n",
       "    .dataframe thead th {\n",
       "        text-align: right;\n",
       "    }\n",
       "</style>\n",
       "<table border=\"1\" class=\"dataframe\">\n",
       "  <thead>\n",
       "    <tr style=\"text-align: right;\">\n",
       "      <th></th>\n",
       "      <th>clac_hlv_nm</th>\n",
       "      <th>A01_rank</th>\n",
       "      <th>A02_rank</th>\n",
       "      <th>A03_rank</th>\n",
       "      <th>A04_rank</th>\n",
       "      <th>A05_rank</th>\n",
       "      <th>A06_rank</th>\n",
       "    </tr>\n",
       "    <tr>\n",
       "      <th>pd_c</th>\n",
       "      <th></th>\n",
       "      <th></th>\n",
       "      <th></th>\n",
       "      <th></th>\n",
       "      <th></th>\n",
       "      <th></th>\n",
       "      <th></th>\n",
       "    </tr>\n",
       "  </thead>\n",
       "  <tbody>\n",
       "    <tr>\n",
       "      <th>PD0001</th>\n",
       "      <td>가구</td>\n",
       "      <td>0.827212</td>\n",
       "      <td>0.232281</td>\n",
       "      <td>0.000517</td>\n",
       "      <td>0.000517</td>\n",
       "      <td>0.000517</td>\n",
       "      <td>0.623383</td>\n",
       "    </tr>\n",
       "    <tr>\n",
       "      <th>PD0002</th>\n",
       "      <td>가구</td>\n",
       "      <td>0.323332</td>\n",
       "      <td>0.588205</td>\n",
       "      <td>0.000517</td>\n",
       "      <td>0.000517</td>\n",
       "      <td>0.000517</td>\n",
       "      <td>0.605794</td>\n",
       "    </tr>\n",
       "    <tr>\n",
       "      <th>PD0003</th>\n",
       "      <td>가구</td>\n",
       "      <td>0.543714</td>\n",
       "      <td>0.447491</td>\n",
       "      <td>0.000517</td>\n",
       "      <td>0.000517</td>\n",
       "      <td>0.000517</td>\n",
       "      <td>0.728401</td>\n",
       "    </tr>\n",
       "    <tr>\n",
       "      <th>PD0004</th>\n",
       "      <td>가구</td>\n",
       "      <td>0.371961</td>\n",
       "      <td>0.463011</td>\n",
       "      <td>0.000517</td>\n",
       "      <td>0.000517</td>\n",
       "      <td>0.000517</td>\n",
       "      <td>0.659079</td>\n",
       "    </tr>\n",
       "    <tr>\n",
       "      <th>PD0005</th>\n",
       "      <td>가구</td>\n",
       "      <td>0.892395</td>\n",
       "      <td>0.416451</td>\n",
       "      <td>0.000517</td>\n",
       "      <td>0.000517</td>\n",
       "      <td>0.000517</td>\n",
       "      <td>0.000517</td>\n",
       "    </tr>\n",
       "    <tr>\n",
       "      <th>...</th>\n",
       "      <td>...</td>\n",
       "      <td>...</td>\n",
       "      <td>...</td>\n",
       "      <td>...</td>\n",
       "      <td>...</td>\n",
       "      <td>...</td>\n",
       "      <td>...</td>\n",
       "    </tr>\n",
       "    <tr>\n",
       "      <th>PD1929</th>\n",
       "      <td>화장품/뷰티케어</td>\n",
       "      <td>0.947232</td>\n",
       "      <td>0.317641</td>\n",
       "      <td>0.000517</td>\n",
       "      <td>0.814796</td>\n",
       "      <td>0.000517</td>\n",
       "      <td>0.948784</td>\n",
       "    </tr>\n",
       "    <tr>\n",
       "      <th>PD1930</th>\n",
       "      <td>화장품/뷰티케어</td>\n",
       "      <td>0.792550</td>\n",
       "      <td>0.257113</td>\n",
       "      <td>0.000517</td>\n",
       "      <td>0.774961</td>\n",
       "      <td>0.000517</td>\n",
       "      <td>0.709260</td>\n",
       "    </tr>\n",
       "    <tr>\n",
       "      <th>PD1931</th>\n",
       "      <td>화장품/뷰티케어</td>\n",
       "      <td>0.914123</td>\n",
       "      <td>0.310398</td>\n",
       "      <td>0.583032</td>\n",
       "      <td>0.000517</td>\n",
       "      <td>0.000517</td>\n",
       "      <td>0.892913</td>\n",
       "    </tr>\n",
       "    <tr>\n",
       "      <th>PD1932</th>\n",
       "      <td>화장품/뷰티케어</td>\n",
       "      <td>0.605794</td>\n",
       "      <td>0.000517</td>\n",
       "      <td>0.000517</td>\n",
       "      <td>0.000517</td>\n",
       "      <td>0.000517</td>\n",
       "      <td>0.000517</td>\n",
       "    </tr>\n",
       "    <tr>\n",
       "      <th>PD1933</th>\n",
       "      <td>화장품/뷰티케어</td>\n",
       "      <td>0.578376</td>\n",
       "      <td>0.000517</td>\n",
       "      <td>0.000517</td>\n",
       "      <td>0.000517</td>\n",
       "      <td>0.000517</td>\n",
       "      <td>0.623383</td>\n",
       "    </tr>\n",
       "  </tbody>\n",
       "</table>\n",
       "<p>1933 rows × 7 columns</p>\n",
       "</div>"
      ],
      "text/plain": [
       "       clac_hlv_nm  A01_rank  A02_rank  A03_rank  A04_rank  A05_rank  A06_rank\n",
       "pd_c                                                                          \n",
       "PD0001          가구  0.827212  0.232281  0.000517  0.000517  0.000517  0.623383\n",
       "PD0002          가구  0.323332  0.588205  0.000517  0.000517  0.000517  0.605794\n",
       "PD0003          가구  0.543714  0.447491  0.000517  0.000517  0.000517  0.728401\n",
       "PD0004          가구  0.371961  0.463011  0.000517  0.000517  0.000517  0.659079\n",
       "PD0005          가구  0.892395  0.416451  0.000517  0.000517  0.000517  0.000517\n",
       "...            ...       ...       ...       ...       ...       ...       ...\n",
       "PD1929    화장품/뷰티케어  0.947232  0.317641  0.000517  0.814796  0.000517  0.948784\n",
       "PD1930    화장품/뷰티케어  0.792550  0.257113  0.000517  0.774961  0.000517  0.709260\n",
       "PD1931    화장품/뷰티케어  0.914123  0.310398  0.583032  0.000517  0.000517  0.892913\n",
       "PD1932    화장품/뷰티케어  0.605794  0.000517  0.000517  0.000517  0.000517  0.000517\n",
       "PD1933    화장품/뷰티케어  0.578376  0.000517  0.000517  0.000517  0.000517  0.623383\n",
       "\n",
       "[1933 rows x 7 columns]"
      ]
     },
     "execution_count": 185,
     "metadata": {},
     "output_type": "execute_result"
    }
   ],
   "source": [
    "df_item_merged"
   ]
  },
  {
   "cell_type": "code",
   "execution_count": 186,
   "id": "6507de4e-c781-4dab-9c63-10e2ba53f4da",
   "metadata": {},
   "outputs": [
    {
     "data": {
      "text/html": [
       "<div>\n",
       "<style scoped>\n",
       "    .dataframe tbody tr th:only-of-type {\n",
       "        vertical-align: middle;\n",
       "    }\n",
       "\n",
       "    .dataframe tbody tr th {\n",
       "        vertical-align: top;\n",
       "    }\n",
       "\n",
       "    .dataframe thead th {\n",
       "        text-align: right;\n",
       "    }\n",
       "</style>\n",
       "<table border=\"1\" class=\"dataframe\">\n",
       "  <thead>\n",
       "    <tr style=\"text-align: right;\">\n",
       "      <th></th>\n",
       "      <th>ma_fem_dv</th>\n",
       "      <th>ages</th>\n",
       "      <th>zon_hlv</th>\n",
       "      <th>grade_first</th>\n",
       "      <th>grade_second</th>\n",
       "      <th>label</th>\n",
       "      <th>pdde_A01_rank</th>\n",
       "      <th>pdde_A02_rank</th>\n",
       "      <th>pdde_A03_rank</th>\n",
       "      <th>pdde_A04_rank</th>\n",
       "      <th>...</th>\n",
       "      <th>lpay_A05_rank</th>\n",
       "      <th>lpay_A06_rank</th>\n",
       "      <th>lpay_B01_rank</th>\n",
       "      <th>lpay_C01_rank</th>\n",
       "      <th>lpay_C02_rank</th>\n",
       "      <th>lpay_D01_rank</th>\n",
       "      <th>lpay_D02_rank</th>\n",
       "      <th>lpay_E01_rank</th>\n",
       "      <th>lpay_L00_rank</th>\n",
       "      <th>lpay_L01_rank</th>\n",
       "    </tr>\n",
       "    <tr>\n",
       "      <th>cust</th>\n",
       "      <th></th>\n",
       "      <th></th>\n",
       "      <th></th>\n",
       "      <th></th>\n",
       "      <th></th>\n",
       "      <th></th>\n",
       "      <th></th>\n",
       "      <th></th>\n",
       "      <th></th>\n",
       "      <th></th>\n",
       "      <th></th>\n",
       "      <th></th>\n",
       "      <th></th>\n",
       "      <th></th>\n",
       "      <th></th>\n",
       "      <th></th>\n",
       "      <th></th>\n",
       "      <th></th>\n",
       "      <th></th>\n",
       "      <th></th>\n",
       "      <th></th>\n",
       "    </tr>\n",
       "  </thead>\n",
       "  <tbody>\n",
       "    <tr>\n",
       "      <th>M000034966</th>\n",
       "      <td>여성</td>\n",
       "      <td>40대</td>\n",
       "      <td>Z07</td>\n",
       "      <td>일반고객</td>\n",
       "      <td>일반고객</td>\n",
       "      <td>일반고객/일반고객</td>\n",
       "      <td>0.388453</td>\n",
       "      <td>0.628153</td>\n",
       "      <td>0.000037</td>\n",
       "      <td>0.715830</td>\n",
       "      <td>...</td>\n",
       "      <td>0.000000</td>\n",
       "      <td>0.000000</td>\n",
       "      <td>0.000000</td>\n",
       "      <td>0.000000</td>\n",
       "      <td>0.000000</td>\n",
       "      <td>0.000000</td>\n",
       "      <td>0.000000</td>\n",
       "      <td>0.000000</td>\n",
       "      <td>0.000000</td>\n",
       "      <td>0.000000</td>\n",
       "    </tr>\n",
       "    <tr>\n",
       "      <th>M000136117</th>\n",
       "      <td>여성</td>\n",
       "      <td>30대</td>\n",
       "      <td>Z11</td>\n",
       "      <td>최우수고객</td>\n",
       "      <td>최우수고객</td>\n",
       "      <td>최우수고객/최우수고객</td>\n",
       "      <td>0.928447</td>\n",
       "      <td>0.452019</td>\n",
       "      <td>0.000037</td>\n",
       "      <td>0.000037</td>\n",
       "      <td>...</td>\n",
       "      <td>0.000112</td>\n",
       "      <td>0.478554</td>\n",
       "      <td>0.000112</td>\n",
       "      <td>0.000112</td>\n",
       "      <td>0.000112</td>\n",
       "      <td>0.719066</td>\n",
       "      <td>0.000112</td>\n",
       "      <td>0.000112</td>\n",
       "      <td>0.000112</td>\n",
       "      <td>0.000112</td>\n",
       "    </tr>\n",
       "    <tr>\n",
       "      <th>M000225114</th>\n",
       "      <td>여성</td>\n",
       "      <td>40대</td>\n",
       "      <td>Z17</td>\n",
       "      <td>일반고객</td>\n",
       "      <td>최우수고객</td>\n",
       "      <td>일반고객/최우수고객</td>\n",
       "      <td>0.971877</td>\n",
       "      <td>0.000037</td>\n",
       "      <td>0.684735</td>\n",
       "      <td>0.000037</td>\n",
       "      <td>...</td>\n",
       "      <td>0.000000</td>\n",
       "      <td>0.000000</td>\n",
       "      <td>0.000000</td>\n",
       "      <td>0.000000</td>\n",
       "      <td>0.000000</td>\n",
       "      <td>0.000000</td>\n",
       "      <td>0.000000</td>\n",
       "      <td>0.000000</td>\n",
       "      <td>0.000000</td>\n",
       "      <td>0.000000</td>\n",
       "    </tr>\n",
       "  </tbody>\n",
       "</table>\n",
       "<p>3 rows × 36 columns</p>\n",
       "</div>"
      ],
      "text/plain": [
       "           ma_fem_dv ages zon_hlv grade_first grade_second        label  \\\n",
       "cust                                                                      \n",
       "M000034966        여성  40대     Z07        일반고객         일반고객    일반고객/일반고객   \n",
       "M000136117        여성  30대     Z11       최우수고객        최우수고객  최우수고객/최우수고객   \n",
       "M000225114        여성  40대     Z17        일반고객        최우수고객   일반고객/최우수고객   \n",
       "\n",
       "            pdde_A01_rank  pdde_A02_rank  pdde_A03_rank  pdde_A04_rank  ...  \\\n",
       "cust                                                                    ...   \n",
       "M000034966       0.388453       0.628153       0.000037       0.715830  ...   \n",
       "M000136117       0.928447       0.452019       0.000037       0.000037  ...   \n",
       "M000225114       0.971877       0.000037       0.684735       0.000037  ...   \n",
       "\n",
       "            lpay_A05_rank  lpay_A06_rank  lpay_B01_rank  lpay_C01_rank  \\\n",
       "cust                                                                     \n",
       "M000034966       0.000000       0.000000       0.000000       0.000000   \n",
       "M000136117       0.000112       0.478554       0.000112       0.000112   \n",
       "M000225114       0.000000       0.000000       0.000000       0.000000   \n",
       "\n",
       "            lpay_C02_rank  lpay_D01_rank  lpay_D02_rank  lpay_E01_rank  \\\n",
       "cust                                                                     \n",
       "M000034966       0.000000       0.000000       0.000000       0.000000   \n",
       "M000136117       0.000112       0.719066       0.000112       0.000112   \n",
       "M000225114       0.000000       0.000000       0.000000       0.000000   \n",
       "\n",
       "            lpay_L00_rank  lpay_L01_rank  \n",
       "cust                                      \n",
       "M000034966       0.000000       0.000000  \n",
       "M000136117       0.000112       0.000112  \n",
       "M000225114       0.000000       0.000000  \n",
       "\n",
       "[3 rows x 36 columns]"
      ]
     },
     "execution_count": 186,
     "metadata": {},
     "output_type": "execute_result"
    }
   ],
   "source": [
    "df_user_merged.head(3)"
   ]
  },
  {
   "cell_type": "markdown",
   "id": "05f86563-1d5b-47cb-a0ea-cdaffc16004e",
   "metadata": {},
   "source": [
    "## 변환"
   ]
  },
  {
   "cell_type": "code",
   "execution_count": 94,
   "id": "b309c9d4-ee1f-4c1a-8527-a08f9a75f4fa",
   "metadata": {},
   "outputs": [],
   "source": [
    "from sklearn.preprocessing import OneHotEncoder"
   ]
  },
  {
   "cell_type": "markdown",
   "id": "8a2a7436-fbf4-47a7-90a0-63c52c688c4a",
   "metadata": {},
   "source": [
    "### 아이템"
   ]
  },
  {
   "cell_type": "code",
   "execution_count": 187,
   "id": "bc682255-2718-4d34-8407-69b2ce35d706",
   "metadata": {},
   "outputs": [],
   "source": [
    "df_item_merged = pd.concat((df_item_merged, pd.Series(list(range(0, len(df_item_merged.index))), index=df_item_merged.index, name='pd_c_no')\n",
    "                           ), axis=1)"
   ]
  },
  {
   "cell_type": "code",
   "execution_count": 189,
   "id": "bfd99576-5d63-450b-a4ad-e8ac205ff6c6",
   "metadata": {},
   "outputs": [],
   "source": [
    "item_category_features = ['clac_hlv_nm']\n",
    "item_continuous_features = ['A01_rank', 'A02_rank', 'A03_rank', 'A04_rank',\n",
    "       'A05_rank', 'A06_rank', 'pd_c_no']"
   ]
  },
  {
   "cell_type": "code",
   "execution_count": 192,
   "id": "3a04fac4-8ebd-41b9-9c05-ef09010cc76c",
   "metadata": {},
   "outputs": [],
   "source": [
    "item_category_enc = OneHotEncoder()\n",
    "\n",
    "item_category_enc.fit(df_item_merged[item_category_features])\n",
    "\n",
    "itemX = item_category_enc.transform(df_item_merged[item_category_features]).toarray()"
   ]
  },
  {
   "cell_type": "code",
   "execution_count": 242,
   "id": "7f5b6495-5a27-4d8f-9862-117b965ff1f8",
   "metadata": {},
   "outputs": [
    {
     "data": {
      "text/plain": [
       "[array(['가구', '건강식품', '건강용품', '건해산물', '계절가전', '공구/안전용품', '과일', '과자',\n",
       "        '구기/필드스포츠', '금융/보험서비스', '기타(비상품)', '기타상품', '남성의류', '냉동식품',\n",
       "        '냉장/세탁가전', '냉장식품', '담배', '대용식', '모바일', '문구/사무용품', '병통조림', '상품권',\n",
       "        '생활/렌탈서비스', '생활/주방가전', '서적/음반/악기', '세제/위생', '속옷/양말/홈웨어', '수산물',\n",
       "        '스포츠패션', '시즌스포츠', '식기/조리기구', '아웃도어/레저', '양곡', '여성의류', '여행/레저서비스',\n",
       "        '영상/음향가전', '완구', '원예/애완', '유아동의류', '유아식품', '유제품', '음료', '인테리어/조명',\n",
       "        '자동차용품', '조리식품', '조미료', '주류', '주방잡화', '채소', '청소/세탁/욕실용품', '축산물',\n",
       "        '출산/육아용품', '침구/수예', '커피/차', '컴퓨터', '테넌트/음식점', '패션잡화', '퍼스널케어',\n",
       "        '헬스/피트니스', '화장품/뷰티케어'], dtype=object)]"
      ]
     },
     "execution_count": 242,
     "metadata": {},
     "output_type": "execute_result"
    }
   ],
   "source": [
    "item_category_enc.categories_"
   ]
  },
  {
   "cell_type": "markdown",
   "id": "0ac01d71-02c7-4392-b5e7-e8c5a374e301",
   "metadata": {},
   "source": [
    "벡터 설명\n",
    "- 0~59: one-hot encoding vector 모음\n",
    "- 60~65: continuous vector\n",
    "- 66: pd_c 인덱스값"
   ]
  },
  {
   "cell_type": "code",
   "execution_count": 223,
   "id": "66db659e-56fe-49b7-8f32-309a6cf4ff55",
   "metadata": {},
   "outputs": [],
   "source": [
    "df_np_item = pd.DataFrame(np.hstack((itemX, df_item_merged[item_continuous_features].values)), index= df_item_merged.index)"
   ]
  },
  {
   "cell_type": "code",
   "execution_count": 226,
   "id": "396aec1c-11e9-4e19-ba58-7df555085392",
   "metadata": {},
   "outputs": [],
   "source": [
    "df_np_item.to_csv('csv_np_item.csv')"
   ]
  },
  {
   "cell_type": "markdown",
   "id": "3068760c-4b33-4607-bea8-4b674286273a",
   "metadata": {},
   "source": [
    "### 사용자"
   ]
  },
  {
   "cell_type": "code",
   "execution_count": 195,
   "id": "bc328d0f-7964-4835-b9dd-93d7c4e37807",
   "metadata": {},
   "outputs": [],
   "source": [
    "df_user_merged = pd.concat((df_user_merged, pd.Series(list(range(0, len(df_user_merged.index))), index=df_user_merged.index, name='cust_no')\n",
    "                           ), axis=1)"
   ]
  },
  {
   "cell_type": "code",
   "execution_count": 197,
   "id": "a4a5de71-f84a-4723-88a2-210ae516ef38",
   "metadata": {},
   "outputs": [],
   "source": [
    "user_category_features = ['ma_fem_dv', 'ages', 'grade_first', 'grade_second']\n",
    "\n",
    "user_continuous_feature = ['pdde_A01_rank', 'pdde_A02_rank', 'pdde_A03_rank', 'pdde_A04_rank',\n",
    "       'pdde_A05_rank', 'pdde_A06_rank', 'cop_use_rank', 'cop_buy_rank',\n",
    "       'cop_B01_rank', 'cop_C01_rank', 'cop_C02_rank', 'cop_D01_rank',\n",
    "       'cop_D02_rank', 'cop_E01_rank', 'lpay_use_rank', 'lpay_buy_rank',\n",
    "       'lpay_A01_rank', 'lpay_A02_rank', 'lpay_A03_rank', 'lpay_A04_rank',\n",
    "       'lpay_A05_rank', 'lpay_A06_rank', 'lpay_B01_rank', 'lpay_C01_rank',\n",
    "       'lpay_C02_rank', 'lpay_D01_rank', 'lpay_D02_rank', 'lpay_E01_rank',\n",
    "       'lpay_L00_rank', 'lpay_L01_rank', 'cust_no']"
   ]
  },
  {
   "cell_type": "code",
   "execution_count": 200,
   "id": "0e18234f-c088-42ba-b9cb-664657866e8e",
   "metadata": {},
   "outputs": [],
   "source": [
    "user_category_enc = OneHotEncoder()\n",
    "\n",
    "user_category_enc.fit(df_user_merged[user_category_features])\n",
    "\n",
    "userX = user_category_enc.transform(df_user_merged[user_category_features]).toarray()"
   ]
  },
  {
   "cell_type": "code",
   "execution_count": 243,
   "id": "ee852f78-5a59-4b01-b3b0-1259af0a112d",
   "metadata": {},
   "outputs": [
    {
     "data": {
      "text/plain": [
       "[array(['남성', '여성'], dtype=object),\n",
       " array(['20대', '30대', '40대', '50대', '60대', '70대'], dtype=object),\n",
       " array(['기타고객', '우수고객', '일반고객', '최우수고객'], dtype=object),\n",
       " array(['기타고객', '비활동고객', '우수고객', '일반고객', '최우수고객'], dtype=object)]"
      ]
     },
     "execution_count": 243,
     "metadata": {},
     "output_type": "execute_result"
    }
   ],
   "source": [
    "user_category_enc.categories_"
   ]
  },
  {
   "cell_type": "markdown",
   "id": "4c44ea6c-e8a4-4b00-bd1e-1f12eda5c062",
   "metadata": {},
   "source": [
    "벡터 설명\n",
    "- 0~16: one-hot encoding vector 모음\n",
    "- 17~46: continuous vector\n",
    "- 47: cust 인덱스값"
   ]
  },
  {
   "cell_type": "code",
   "execution_count": 224,
   "id": "7c7fc670-5358-40f1-838f-80fe779195ce",
   "metadata": {},
   "outputs": [],
   "source": [
    "df_np_user = pd.DataFrame(np.hstack((userX, df_user_merged[user_continuous_feature].values)), index= df_user_merged.index)"
   ]
  },
  {
   "cell_type": "code",
   "execution_count": 227,
   "id": "9f66c64b-5341-46c5-9ddd-7d68299bbdb8",
   "metadata": {},
   "outputs": [],
   "source": [
    "df_np_user.to_csv('csv_np_user.csv')"
   ]
  },
  {
   "cell_type": "markdown",
   "id": "bc5a0266-4275-4c37-a3ce-2efd0978944d",
   "metadata": {},
   "source": [
    "### 사용자-구매 데이터"
   ]
  },
  {
   "cell_type": "markdown",
   "id": "875fe201-a73c-45bd-952d-756d9a45732f",
   "metadata": {},
   "source": [
    "### 사용자, 아이템 인덱스 사전"
   ]
  },
  {
   "cell_type": "code",
   "execution_count": 228,
   "id": "3a460f03-d593-43b0-9eab-e90639d45133",
   "metadata": {},
   "outputs": [],
   "source": [
    "df_cust_pd_c = pd.merge(pd.merge(df_pdde_raw[['cust', 'pd_c']], df_item_merged[['pd_c_no']].reset_index(), on = 'pd_c'),\n",
    "         df_user_merged[['cust_no']].reset_index(), on = 'cust')"
   ]
  },
  {
   "cell_type": "markdown",
   "id": "8ed81353-bb58-404c-a3ab-5ba50a83e728",
   "metadata": {},
   "source": [
    "한번만 구매했으면 implicit feedback '1' 로 처리하기로 함 (다수 구매를 한번으로 처리)"
   ]
  },
  {
   "cell_type": "markdown",
   "id": "7bd8171f-5e3a-4fed-9f52-cb5ec81f6faf",
   "metadata": {},
   "source": [
    "cust, pd_c, pd_c_no, cust_no 담고 있는 사전"
   ]
  },
  {
   "cell_type": "code",
   "execution_count": 229,
   "id": "968e4da2-98e3-4b77-a4d9-37abf106e810",
   "metadata": {},
   "outputs": [],
   "source": [
    "df_cust_pd_c_compact = df_cust_pd_c.groupby(['cust','pd_c'], as_index=False).agg({'pd_c_no':'first', 'cust_no':'first'})"
   ]
  },
  {
   "cell_type": "code",
   "execution_count": 231,
   "id": "edf1f1bc-c008-4c45-892b-ff6c65d9bdba",
   "metadata": {},
   "outputs": [],
   "source": [
    "df_cust_pd_c_compact.to_csv('csv_user_item_dic.csv', index=False)"
   ]
  },
  {
   "cell_type": "code",
   "execution_count": 240,
   "id": "8aa0d39a-480a-4d51-b8a7-36db99713af2",
   "metadata": {},
   "outputs": [
    {
     "data": {
      "text/html": [
       "<div>\n",
       "<style scoped>\n",
       "    .dataframe tbody tr th:only-of-type {\n",
       "        vertical-align: middle;\n",
       "    }\n",
       "\n",
       "    .dataframe tbody tr th {\n",
       "        vertical-align: top;\n",
       "    }\n",
       "\n",
       "    .dataframe thead th {\n",
       "        text-align: right;\n",
       "    }\n",
       "</style>\n",
       "<table border=\"1\" class=\"dataframe\">\n",
       "  <thead>\n",
       "    <tr style=\"text-align: right;\">\n",
       "      <th></th>\n",
       "      <th>cust</th>\n",
       "      <th>pd_c</th>\n",
       "      <th>pd_c_no</th>\n",
       "      <th>cust_no</th>\n",
       "    </tr>\n",
       "  </thead>\n",
       "  <tbody>\n",
       "    <tr>\n",
       "      <th>0</th>\n",
       "      <td>M000034966</td>\n",
       "      <td>PD0116</td>\n",
       "      <td>115</td>\n",
       "      <td>0</td>\n",
       "    </tr>\n",
       "    <tr>\n",
       "      <th>1</th>\n",
       "      <td>M000034966</td>\n",
       "      <td>PD0169</td>\n",
       "      <td>168</td>\n",
       "      <td>0</td>\n",
       "    </tr>\n",
       "    <tr>\n",
       "      <th>2</th>\n",
       "      <td>M000034966</td>\n",
       "      <td>PD0178</td>\n",
       "      <td>177</td>\n",
       "      <td>0</td>\n",
       "    </tr>\n",
       "    <tr>\n",
       "      <th>3</th>\n",
       "      <td>M000034966</td>\n",
       "      <td>PD0204</td>\n",
       "      <td>203</td>\n",
       "      <td>0</td>\n",
       "    </tr>\n",
       "    <tr>\n",
       "      <th>4</th>\n",
       "      <td>M000034966</td>\n",
       "      <td>PD0218</td>\n",
       "      <td>217</td>\n",
       "      <td>0</td>\n",
       "    </tr>\n",
       "    <tr>\n",
       "      <th>...</th>\n",
       "      <td>...</td>\n",
       "      <td>...</td>\n",
       "      <td>...</td>\n",
       "      <td>...</td>\n",
       "    </tr>\n",
       "    <tr>\n",
       "      <th>1615186</th>\n",
       "      <td>M999962961</td>\n",
       "      <td>PD1857</td>\n",
       "      <td>1856</td>\n",
       "      <td>25034</td>\n",
       "    </tr>\n",
       "    <tr>\n",
       "      <th>1615187</th>\n",
       "      <td>M999962961</td>\n",
       "      <td>PD1889</td>\n",
       "      <td>1888</td>\n",
       "      <td>25034</td>\n",
       "    </tr>\n",
       "    <tr>\n",
       "      <th>1615188</th>\n",
       "      <td>M999962961</td>\n",
       "      <td>PD1896</td>\n",
       "      <td>1895</td>\n",
       "      <td>25034</td>\n",
       "    </tr>\n",
       "    <tr>\n",
       "      <th>1615189</th>\n",
       "      <td>M999962961</td>\n",
       "      <td>PD1918</td>\n",
       "      <td>1917</td>\n",
       "      <td>25034</td>\n",
       "    </tr>\n",
       "    <tr>\n",
       "      <th>1615190</th>\n",
       "      <td>M999962961</td>\n",
       "      <td>PD1919</td>\n",
       "      <td>1918</td>\n",
       "      <td>25034</td>\n",
       "    </tr>\n",
       "  </tbody>\n",
       "</table>\n",
       "<p>1615191 rows × 4 columns</p>\n",
       "</div>"
      ],
      "text/plain": [
       "               cust    pd_c  pd_c_no  cust_no\n",
       "0        M000034966  PD0116      115        0\n",
       "1        M000034966  PD0169      168        0\n",
       "2        M000034966  PD0178      177        0\n",
       "3        M000034966  PD0204      203        0\n",
       "4        M000034966  PD0218      217        0\n",
       "...             ...     ...      ...      ...\n",
       "1615186  M999962961  PD1857     1856    25034\n",
       "1615187  M999962961  PD1889     1888    25034\n",
       "1615188  M999962961  PD1896     1895    25034\n",
       "1615189  M999962961  PD1918     1917    25034\n",
       "1615190  M999962961  PD1919     1918    25034\n",
       "\n",
       "[1615191 rows x 4 columns]"
      ]
     },
     "execution_count": 240,
     "metadata": {},
     "output_type": "execute_result"
    }
   ],
   "source": [
    "df_cust_pd_c_compact"
   ]
  }
 ],
 "metadata": {
  "colab": {
   "name": "EDA_jangminoh.ipynb",
   "provenance": [],
   "toc_visible": true
  },
  "kernelspec": {
   "display_name": "Python 3 (ipykernel)",
   "language": "python",
   "name": "python3"
  },
  "language_info": {
   "codemirror_mode": {
    "name": "ipython",
    "version": 3
   },
   "file_extension": ".py",
   "mimetype": "text/x-python",
   "name": "python",
   "nbconvert_exporter": "python",
   "pygments_lexer": "ipython3",
   "version": "3.8.10"
  }
 },
 "nbformat": 4,
 "nbformat_minor": 5
}
