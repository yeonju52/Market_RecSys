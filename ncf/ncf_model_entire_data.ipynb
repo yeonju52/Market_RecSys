{
 "cells": [
  {
   "cell_type": "markdown",
   "id": "7850de41-6da6-49a8-8597-8e1767ea6b31",
   "metadata": {},
   "source": [
    "# Neural Collaborative Filtering을 활용한 상품 추천 모델링"
   ]
  },
  {
   "cell_type": "markdown",
   "id": "123582e7-54d6-4eab-82ab-a4d0f16c9313",
   "metadata": {},
   "source": [
    "참고 [출처](https://arxiv.org/abs/1708.05031)\n",
    "- Xianan He et al., Neural Collaborative Filtering, WWW 2017."
   ]
  },
  {
   "cell_type": "code",
   "execution_count": 1,
   "id": "18ef1206-00b1-45bc-85b2-df5f2eed5ed0",
   "metadata": {},
   "outputs": [],
   "source": [
    "import pandas as pd\n",
    "import numpy as np\n",
    "from glob import glob\n",
    "import os\n",
    "import tqdm\n",
    "# from datasets import load_dataset, Dataset\n",
    "import torch\n",
    "import torch.nn as nn\n",
    "import torch.nn.functional as F\n",
    "import torch.utils.data as data\n",
    "import pytorch_lightning as pl\n",
    "from typing import List, Optional, Tuple, Union\n",
    "import argparse\n",
    "from sklearn.model_selection import train_test_split"
   ]
  },
  {
   "cell_type": "code",
   "execution_count": 2,
   "id": "5c70c8b1-06aa-4883-a3f5-9b69148ef057",
   "metadata": {},
   "outputs": [],
   "source": [
    "#@title 마이너 패키지 로딩\n",
    "%matplotlib inline\n",
    "from datetime import datetime\n",
    "import matplotlib.pyplot as plt\n",
    "plt.style.use('seaborn-darkgrid')"
   ]
  },
  {
   "cell_type": "markdown",
   "id": "fdc2f2ca-bec9-4768-806b-82713485c251",
   "metadata": {},
   "source": [
    "# 설정값"
   ]
  },
  {
   "cell_type": "code",
   "execution_count": 3,
   "id": "a77c3e01-ee41-4bba-a0ed-1d1214dd701e",
   "metadata": {},
   "outputs": [],
   "source": [
    "parser = argparse.ArgumentParser()\n",
    "parser.add_argument(\"--lr\", \n",
    "\ttype=float, \n",
    "\tdefault=0.001, \n",
    "\thelp=\"learning rate\")\n",
    "parser.add_argument(\"--dropout\", \n",
    "\ttype=float,\n",
    "\tdefault=0.3,  \n",
    "\thelp=\"dropout rate\")\n",
    "parser.add_argument(\"--batch_size\", \n",
    "\ttype=int, \n",
    "\tdefault=2048, \n",
    "\thelp=\"batch size for training\")\n",
    "parser.add_argument(\"--epochs\", \n",
    "\ttype=int,\n",
    "\tdefault=20,  \n",
    "\thelp=\"training epoches\")\n",
    "parser.add_argument(\"--top_k\", \n",
    "\ttype=int, \n",
    "\tdefault=10, \n",
    "\thelp=\"compute metrics@top_k\")\n",
    "parser.add_argument(\"--factor_num\", \n",
    "\ttype=int,\n",
    "\tdefault=32, \n",
    "\thelp=\"predictive factors numbers in the model\")\n",
    "parser.add_argument(\"--num_ng\", \n",
    "\ttype=int,\n",
    "\tdefault=3, \n",
    "\thelp=\"sample negative items for training\")\n",
    "parser.add_argument(\"--test_num_ng\", \n",
    "\ttype=int,\n",
    "\tdefault=49, \n",
    "\thelp=\"sample part of negative items for testing\")\n",
    "parser.add_argument(\"--out\", \n",
    "\tdefault=True,\n",
    "\thelp=\"save model or not\")\n",
    "args = parser.parse_args(args=[])"
   ]
  },
  {
   "cell_type": "markdown",
   "id": "204d76c5-683f-4bc5-bfcd-e32eb2e70477",
   "metadata": {},
   "source": [
    "# 데이터 로더"
   ]
  },
  {
   "cell_type": "markdown",
   "id": "11597341-1f69-4bd1-8a8c-24fb441fbca0",
   "metadata": {},
   "source": [
    "## 데이터 로딩"
   ]
  },
  {
   "cell_type": "markdown",
   "id": "e5a26f35-6fc1-49f1-b603-caa832716545",
   "metadata": {},
   "source": [
    "사용자 `df_np_item` 셋 컬럼 설명\n",
    "- 0 ~ 59: one-hot encoding vector\n",
    "    - `clac_hlv_nm` 대분류를 one-hot encoding ('가구' ~ '화장품/뷰티케어')\n",
    "- 60 ~ 65: continuous vector\n",
    "    - 상품이 각 유통사를 통해 구매된 횟수를 유통사별로 랭크화 ('A01_rank' ~ 'A06_rank')\n",
    "- 66: 상품 인덱스값 (숫자로 된 간접 번호)"
   ]
  },
  {
   "cell_type": "code",
   "execution_count": 4,
   "id": "e1fe8266-810f-48cd-a885-587e569f80d7",
   "metadata": {
    "tags": []
   },
   "outputs": [],
   "source": [
    "type_dic = {}\n",
    "type_dic.update( {f'{i}':np.float32 for i in range(66)})\n",
    "type_dic.update({'66':np.int64})\n",
    "\n",
    "df_np_item = pd.read_csv('csv_np_item.csv', index_col='pd_c', dtype=type_dic)\n",
    "# df_np_item.info()"
   ]
  },
  {
   "cell_type": "markdown",
   "id": "82ce1601-6aa0-4a83-922d-22d253ca3bd1",
   "metadata": {},
   "source": [
    "사용자 `df_np_user` 셋 컬럼 설명\n",
    "- 0 ~ 16: one-hot encoding vector 모음\n",
    "    - 0 ~ 1: 성별 정보 ('남성', '여성')\n",
    "    - 2 ~ 7: 연령 정보 ('20대', '30대', '40대', '50대', '60대', '70대')\n",
    "    - 8 ~ 11: 상반기 고객 세그먼트 구분값 ('기타고객', '우수고객', '일반고객', '최우수고객')\n",
    "        - 주의: 상반기에 구매가 없던 고객은 제외 하였음\n",
    "    - 12 ~ 16: 하반기 고객 세그먼트 구분값 ('기타고객', '비활동고객', '우수고객', '일반고객', '최우수고객')\n",
    "- 17 ~ 46: continuous vector 모음\n",
    "    - 17 ~ 22: 상품 구매 정보의 각 유통사 이용 랭크 ('pdde_A01_rank' ~ 'pdde_A06_rank')\n",
    "    - 23 ~ 24: 제휴사 이용 정보의 전체 이용 횟수 랭크, 이용 금액 랭크 ('cop_use_rank', 'cop_buy_rank')\n",
    "    - 25 ~ 30: 제휴사 이용 정보의 각 제휴사 이용 랭크 ('cop_B01_rank'~ 'cop_E01_rank')\n",
    "    - 31 ~ 32: 엘페이 이용 정보의 전체 이용 횟수 랭크, 이용 금액 랭크 ('lpay_use_rank', 'lpay_buy_rank')\n",
    "    - 33 ~ 46: 엘페이 이용 정보의 각 유통/제휴사 이용 랭크 ('lpay_A01_rank' ~ 'lpay_L01_rank')\n",
    "- 47: 고객 인덱스값 (숫자로 된 간접 번호)"
   ]
  },
  {
   "cell_type": "code",
   "execution_count": 5,
   "id": "e9a283eb-33e6-4246-91b4-ed409f600d3d",
   "metadata": {
    "tags": []
   },
   "outputs": [],
   "source": [
    "type_dic = {}\n",
    "type_dic.update( {f'{i}':np.float32 for i in range(47)})\n",
    "type_dic.update({'47':np.int64})\n",
    "\n",
    "df_np_user = pd.read_csv('csv_np_user.csv', index_col='cust', dtype=type_dic)\n",
    "# df_np_user.info()"
   ]
  },
  {
   "cell_type": "markdown",
   "id": "c76ebc8e-58cd-4fbd-996a-165e863aa201",
   "metadata": {},
   "source": [
    "사용자 `df_cust_pd_c_compact` 셋 컬럼 설명\n",
    "\n",
    "- cust: 원본 고객 식별자\n",
    "- pd_c: 원본 상품 식별자\n",
    "- pd_c_no: 상품 인덱스값 (0부터 시작하는 숫자)\n",
    "- cust_no: 고객 인덱스값 (0부터 시작하는 숫자)\n",
    "- label: 고객-상품 구매 여부 (1이면 구매)\n",
    "\n",
    "상품구매 정보 파일로부터 요약및 가공한 데이터프레임\n",
    "- 고객-상품 구매가 여러번 이더라도 한건만 등장하게 처리함\n",
    "    - 중복 배제\n",
    "    - 추천 알고리즘 적용을 하기 위함\n",
    "- 미구매 정보는 없음: 데이터셋/데이터로더에서 네거티브 샘플링 필요\n",
    "    - 하단에 구현"
   ]
  },
  {
   "cell_type": "code",
   "execution_count": 6,
   "id": "5392a8f0-b097-426d-8589-a4a7f2e6f8f8",
   "metadata": {},
   "outputs": [],
   "source": [
    "df_cust_pd_c_compact = pd.read_csv('csv_user_item_dic.csv')\n",
    "df_cust_pd_c_compact['label'] = 1.0\n",
    "# df_cust_pd_c_compact"
   ]
  },
  {
   "cell_type": "markdown",
   "id": "0eaf5e28-c441-49a6-b907-9e72fdba6bff",
   "metadata": {},
   "source": [
    "### 데이터 분할"
   ]
  },
  {
   "cell_type": "markdown",
   "id": "a3b3dd25-ba2b-4523-af35-9cdb8b5c5721",
   "metadata": {},
   "source": [
    "다음과 같이 `df_cust_pd_c_compact`를 분할함\n",
    "\n",
    "- `df_data_train` 학습: 1,162,936\n",
    "- `df_data_validation` 검증: 290,735\n",
    "- `df_data_test` 테스트: 161,520"
   ]
  },
  {
   "cell_type": "code",
   "execution_count": 7,
   "id": "6e5a8bd0-b96e-4687-b38b-021db736b306",
   "metadata": {},
   "outputs": [],
   "source": [
    "df_data_train_before_split, df_data_test = train_test_split(df_cust_pd_c_compact, test_size=0.1, random_state=0)"
   ]
  },
  {
   "cell_type": "code",
   "execution_count": 8,
   "id": "16394ba7-e6b6-4f1e-8c9b-592927a7e307",
   "metadata": {},
   "outputs": [],
   "source": [
    "df_data_train, df_data_validation = train_test_split(df_data_train_before_split, test_size=0.2, random_state=0)"
   ]
  },
  {
   "cell_type": "code",
   "execution_count": 9,
   "id": "46266a95-bf49-479c-a1c6-a185e6993b53",
   "metadata": {},
   "outputs": [
    {
     "name": "stdout",
     "output_type": "stream",
     "text": [
      "1162936 290735 161520\n"
     ]
    }
   ],
   "source": [
    "print(len(df_data_train), len(df_data_validation), len(df_data_test))"
   ]
  },
  {
   "cell_type": "code",
   "execution_count": 10,
   "id": "4f43ec5a-8e8e-449d-b678-0638e0d8d86a",
   "metadata": {},
   "outputs": [
    {
     "data": {
      "text/html": [
       "<div>\n",
       "<style scoped>\n",
       "    .dataframe tbody tr th:only-of-type {\n",
       "        vertical-align: middle;\n",
       "    }\n",
       "\n",
       "    .dataframe tbody tr th {\n",
       "        vertical-align: top;\n",
       "    }\n",
       "\n",
       "    .dataframe thead th {\n",
       "        text-align: right;\n",
       "    }\n",
       "</style>\n",
       "<table border=\"1\" class=\"dataframe\">\n",
       "  <thead>\n",
       "    <tr style=\"text-align: right;\">\n",
       "      <th></th>\n",
       "      <th>0</th>\n",
       "      <th>1</th>\n",
       "      <th>2</th>\n",
       "      <th>3</th>\n",
       "      <th>4</th>\n",
       "      <th>5</th>\n",
       "      <th>6</th>\n",
       "      <th>7</th>\n",
       "      <th>8</th>\n",
       "      <th>9</th>\n",
       "      <th>...</th>\n",
       "      <th>57</th>\n",
       "      <th>58</th>\n",
       "      <th>59</th>\n",
       "      <th>60</th>\n",
       "      <th>61</th>\n",
       "      <th>62</th>\n",
       "      <th>63</th>\n",
       "      <th>64</th>\n",
       "      <th>65</th>\n",
       "      <th>66</th>\n",
       "    </tr>\n",
       "    <tr>\n",
       "      <th>pd_c</th>\n",
       "      <th></th>\n",
       "      <th></th>\n",
       "      <th></th>\n",
       "      <th></th>\n",
       "      <th></th>\n",
       "      <th></th>\n",
       "      <th></th>\n",
       "      <th></th>\n",
       "      <th></th>\n",
       "      <th></th>\n",
       "      <th></th>\n",
       "      <th></th>\n",
       "      <th></th>\n",
       "      <th></th>\n",
       "      <th></th>\n",
       "      <th></th>\n",
       "      <th></th>\n",
       "      <th></th>\n",
       "      <th></th>\n",
       "      <th></th>\n",
       "      <th></th>\n",
       "    </tr>\n",
       "  </thead>\n",
       "  <tbody>\n",
       "    <tr>\n",
       "      <th>PD0001</th>\n",
       "      <td>1.0</td>\n",
       "      <td>0.0</td>\n",
       "      <td>0.0</td>\n",
       "      <td>0.0</td>\n",
       "      <td>0.0</td>\n",
       "      <td>0.0</td>\n",
       "      <td>0.0</td>\n",
       "      <td>0.0</td>\n",
       "      <td>0.0</td>\n",
       "      <td>0.0</td>\n",
       "      <td>...</td>\n",
       "      <td>0.0</td>\n",
       "      <td>0.0</td>\n",
       "      <td>0.0</td>\n",
       "      <td>0.827212</td>\n",
       "      <td>0.232281</td>\n",
       "      <td>0.000517</td>\n",
       "      <td>0.000517</td>\n",
       "      <td>0.000517</td>\n",
       "      <td>0.623383</td>\n",
       "      <td>0</td>\n",
       "    </tr>\n",
       "  </tbody>\n",
       "</table>\n",
       "<p>1 rows × 67 columns</p>\n",
       "</div>"
      ],
      "text/plain": [
       "          0    1    2    3    4    5    6    7    8    9  ...   57   58   59  \\\n",
       "pd_c                                                      ...                  \n",
       "PD0001  1.0  0.0  0.0  0.0  0.0  0.0  0.0  0.0  0.0  0.0  ...  0.0  0.0  0.0   \n",
       "\n",
       "              60        61        62        63        64        65  66  \n",
       "pd_c                                                                    \n",
       "PD0001  0.827212  0.232281  0.000517  0.000517  0.000517  0.623383   0  \n",
       "\n",
       "[1 rows x 67 columns]"
      ]
     },
     "metadata": {},
     "output_type": "display_data"
    },
    {
     "data": {
      "text/html": [
       "<div>\n",
       "<style scoped>\n",
       "    .dataframe tbody tr th:only-of-type {\n",
       "        vertical-align: middle;\n",
       "    }\n",
       "\n",
       "    .dataframe tbody tr th {\n",
       "        vertical-align: top;\n",
       "    }\n",
       "\n",
       "    .dataframe thead th {\n",
       "        text-align: right;\n",
       "    }\n",
       "</style>\n",
       "<table border=\"1\" class=\"dataframe\">\n",
       "  <thead>\n",
       "    <tr style=\"text-align: right;\">\n",
       "      <th></th>\n",
       "      <th>0</th>\n",
       "      <th>1</th>\n",
       "      <th>2</th>\n",
       "      <th>3</th>\n",
       "      <th>4</th>\n",
       "      <th>5</th>\n",
       "      <th>6</th>\n",
       "      <th>7</th>\n",
       "      <th>8</th>\n",
       "      <th>9</th>\n",
       "      <th>...</th>\n",
       "      <th>38</th>\n",
       "      <th>39</th>\n",
       "      <th>40</th>\n",
       "      <th>41</th>\n",
       "      <th>42</th>\n",
       "      <th>43</th>\n",
       "      <th>44</th>\n",
       "      <th>45</th>\n",
       "      <th>46</th>\n",
       "      <th>47</th>\n",
       "    </tr>\n",
       "    <tr>\n",
       "      <th>cust</th>\n",
       "      <th></th>\n",
       "      <th></th>\n",
       "      <th></th>\n",
       "      <th></th>\n",
       "      <th></th>\n",
       "      <th></th>\n",
       "      <th></th>\n",
       "      <th></th>\n",
       "      <th></th>\n",
       "      <th></th>\n",
       "      <th></th>\n",
       "      <th></th>\n",
       "      <th></th>\n",
       "      <th></th>\n",
       "      <th></th>\n",
       "      <th></th>\n",
       "      <th></th>\n",
       "      <th></th>\n",
       "      <th></th>\n",
       "      <th></th>\n",
       "      <th></th>\n",
       "    </tr>\n",
       "  </thead>\n",
       "  <tbody>\n",
       "    <tr>\n",
       "      <th>M000034966</th>\n",
       "      <td>0.0</td>\n",
       "      <td>1.0</td>\n",
       "      <td>0.0</td>\n",
       "      <td>0.0</td>\n",
       "      <td>1.0</td>\n",
       "      <td>0.0</td>\n",
       "      <td>0.0</td>\n",
       "      <td>0.0</td>\n",
       "      <td>0.0</td>\n",
       "      <td>0.0</td>\n",
       "      <td>...</td>\n",
       "      <td>0.0</td>\n",
       "      <td>0.0</td>\n",
       "      <td>0.0</td>\n",
       "      <td>0.0</td>\n",
       "      <td>0.0</td>\n",
       "      <td>0.0</td>\n",
       "      <td>0.0</td>\n",
       "      <td>0.0</td>\n",
       "      <td>0.0</td>\n",
       "      <td>0</td>\n",
       "    </tr>\n",
       "  </tbody>\n",
       "</table>\n",
       "<p>1 rows × 48 columns</p>\n",
       "</div>"
      ],
      "text/plain": [
       "              0    1    2    3    4    5    6    7    8    9  ...   38   39  \\\n",
       "cust                                                          ...             \n",
       "M000034966  0.0  1.0  0.0  0.0  1.0  0.0  0.0  0.0  0.0  0.0  ...  0.0  0.0   \n",
       "\n",
       "             40   41   42   43   44   45   46  47  \n",
       "cust                                               \n",
       "M000034966  0.0  0.0  0.0  0.0  0.0  0.0  0.0   0  \n",
       "\n",
       "[1 rows x 48 columns]"
      ]
     },
     "metadata": {},
     "output_type": "display_data"
    },
    {
     "data": {
      "text/html": [
       "<div>\n",
       "<style scoped>\n",
       "    .dataframe tbody tr th:only-of-type {\n",
       "        vertical-align: middle;\n",
       "    }\n",
       "\n",
       "    .dataframe tbody tr th {\n",
       "        vertical-align: top;\n",
       "    }\n",
       "\n",
       "    .dataframe thead th {\n",
       "        text-align: right;\n",
       "    }\n",
       "</style>\n",
       "<table border=\"1\" class=\"dataframe\">\n",
       "  <thead>\n",
       "    <tr style=\"text-align: right;\">\n",
       "      <th></th>\n",
       "      <th>cust</th>\n",
       "      <th>pd_c</th>\n",
       "      <th>pd_c_no</th>\n",
       "      <th>cust_no</th>\n",
       "      <th>label</th>\n",
       "    </tr>\n",
       "  </thead>\n",
       "  <tbody>\n",
       "    <tr>\n",
       "      <th>1549143</th>\n",
       "      <td>M955788240</td>\n",
       "      <td>PD0404</td>\n",
       "      <td>403</td>\n",
       "      <td>23987</td>\n",
       "      <td>1.0</td>\n",
       "    </tr>\n",
       "  </tbody>\n",
       "</table>\n",
       "</div>"
      ],
      "text/plain": [
       "               cust    pd_c  pd_c_no  cust_no  label\n",
       "1549143  M955788240  PD0404      403    23987    1.0"
      ]
     },
     "metadata": {},
     "output_type": "display_data"
    }
   ],
   "source": [
    "display(df_np_item.head(1))\n",
    "display(df_np_user.head(1))\n",
    "display(df_data_train.head(1))"
   ]
  },
  {
   "cell_type": "markdown",
   "id": "c5170223-31d5-46c7-8a82-a7b5e0617218",
   "metadata": {},
   "source": [
    "### 네거티브 샘플링 구현을 위한 보조 자료"
   ]
  },
  {
   "cell_type": "markdown",
   "id": "7b3716e9-a373-4cac-9313-98e17523e166",
   "metadata": {},
   "source": [
    "`df_cust_purchased_pd_set` \n",
    "\n",
    "- (고객번호 -> 고객이 구매한 모든 상품 번호의 set)을 담는 데이터프레임\n",
    "- 네거티브 샘플링시 해당 set을 제외한 상품을 샘플링을 실시함"
   ]
  },
  {
   "cell_type": "code",
   "execution_count": 11,
   "id": "0384a853-f97f-4b3e-8a1a-fd277cb8074b",
   "metadata": {},
   "outputs": [],
   "source": [
    "df_cust_purchased_pd_set = df_cust_pd_c_compact.groupby('cust_no').agg({\"pd_c_no\": lambda x: set(x.unique())})"
   ]
  },
  {
   "cell_type": "markdown",
   "id": "529b490d-3093-4bf9-ba21-41ba08cfb977",
   "metadata": {},
   "source": [
    "## 데이터셋"
   ]
  },
  {
   "cell_type": "code",
   "execution_count": 30,
   "id": "0f14dccb-0a83-4836-b1ed-2adeedbbe423",
   "metadata": {},
   "outputs": [],
   "source": [
    "class NCFData(data.Dataset):\n",
    "    def __init__(self, df_np_item, df_np_user, df_cust_purchased_pd_set, df_data, num_ng = 0, is_training=False, verbose=False):\n",
    "        super(NCFData, self).__init__()\n",
    "        \n",
    "        self.num_ng = num_ng\n",
    "        self.is_training = is_training\n",
    "        \n",
    "        self.df_np_item = df_np_item.set_index('66')\n",
    "        self.df_np_user = df_np_user.set_index('47')\n",
    "        self.df_data = df_data\n",
    "        self.verbose = verbose\n",
    "              \n",
    "        # 모든 상품 번호만 모은 집합\n",
    "        all_pd_c_no_set = set(self.df_np_item.index)\n",
    "        \n",
    "        # 고객마다 네거티브 샘플시 포함시킬 수 있는 후보 상품 번호를 생성\n",
    "        ss_neg_candidates = df_cust_purchased_pd_set.pd_c_no.apply(lambda x: np.array(list(all_pd_c_no_set.difference(x)))).rename('ng_candidates')\n",
    "        self.xx = pd.merge(self.df_data[['cust_no']], ss_neg_candidates, right_index=True, on='cust_no', how='left')\n",
    "        \n",
    "        # item, user 컬럼 범위 정보\n",
    "        self.item_cols_hlv = self.df_np_item.columns[0:60]\n",
    "        self.item_cols_RNKs = self.df_np_item.columns[60:66]\n",
    "\n",
    "        self.user_cols_DEMO = self.df_np_user.columns[0:8]\n",
    "        self.user_cols_RFMs = self.df_np_user.columns[8:17]\n",
    "        self.user_cols_RNKs = self.df_np_user.columns[17:47]\n",
    "        \n",
    "        if not self.is_training:\n",
    "            self.ng_sample()\n",
    "        \n",
    "    def ng_sample(self):\n",
    "        '''\n",
    "            네거티브 샘플링 수행 함수\n",
    "            Trainer에서 매 학습 에포크 시작시 콜백을 통해 호출됨.\n",
    "            \n",
    "            절차\n",
    "            - 고객의 구매 상품 한 건당 네거티브 샘플 self.num_ng를 샘플링하여 추가\n",
    "            -- 이유: 상품구매정보는 포지티브 피드백으로 간주되는데, 네거티브 피드백이 없다.\n",
    "            -- 따라서 네거티브 샘플링 전략을 사용하는 것임\n",
    "            - 고객마다 구매한 적이 없는 후보 셋을 모아둔 후, 이로부터 self.num_ng 만큼 네거티브 샘플링\n",
    "            - 이를 포지티브 샘플들과 연결하여 self.samples 구성\n",
    "        '''\n",
    "        if self.verbose:\n",
    "            print('...reorganizing dataset with different negative_samples...')\n",
    "        \n",
    "        df_pos = self.df_data[['cust_no', 'pd_c_no', 'label']]\n",
    "        \n",
    "        df_neg =  pd.DataFrame({'cust_no': np.concatenate(self.xx.cust_no.apply(lambda x: [x]*self.num_ng).values), \n",
    "                      'pd_c_no':np.concatenate(self.xx.ng_candidates.apply(lambda x: np.random.choice(x, self.num_ng)).values)})\n",
    "        df_neg['label'] = 0.0\n",
    "        \n",
    "        self.samples = pd.concat((df_pos, df_neg), ignore_index=True)\n",
    "    \n",
    "    def __len__(self):\n",
    "        return (self.num_ng+1)*len(self.df_data)\n",
    "    \n",
    "    def __getitem__(self, idx):\n",
    "        cust_no = self.samples.cust_no[idx]\n",
    "        pd_c_no = self.samples.pd_c_no[idx]\n",
    "        x = self.samples.iloc[idx]\n",
    "        return {'cust_no':cust_no, \n",
    "                'pd_c_no':pd_c_no, \n",
    "                'label':x.label, \n",
    "                'cust_demo':self.df_np_user.loc[x.pd_c_no][self.user_cols_DEMO].values,\n",
    "                'cust_rfms':self.df_np_user.loc[x.pd_c_no][self.user_cols_RFMs].values,\n",
    "                'cust_rnks':self.df_np_user.loc[x.pd_c_no][self.user_cols_RNKs].values,                \n",
    "                'prod_hlv':self.df_np_item.loc[x.pd_c_no][self.item_cols_hlv].values, \n",
    "                'prod_rnks':self.df_np_item.loc[x.pd_c_no][self.item_cols_RNKs].values\n",
    "               }"
   ]
  },
  {
   "cell_type": "markdown",
   "id": "9b9b61d6-fd92-4d42-9bed-66c0a4ececab",
   "metadata": {},
   "source": [
    "### 데이터셋 인스턴스\n",
    "\n",
    "- `ds_train` 학습 데이터셋\n",
    "    - 하나의 포지티브 샘플마다 네거티브 샘플의 수 args.num_ng\n",
    "- `ds_validation` 검증 데이터셋\n",
    "    - 하나의 포지티브 샘플마다 네거티브 샘플의 수 args.num_ng\n",
    "- `ds_test` 테스트 데이터셋\n",
    "    - 최종 테스트 시에는 네거티브 샘플의 수를 args.test_num_ng 로 설정 "
   ]
  },
  {
   "cell_type": "code",
   "execution_count": 13,
   "id": "fe24ad5a-e683-4d1b-873c-9e063c1ec415",
   "metadata": {},
   "outputs": [
    {
     "name": "stdout",
     "output_type": "stream",
     "text": [
      "...reorganizing dataset with different negative_samples...\n",
      "...reorganizing dataset with different negative_samples...\n"
     ]
    }
   ],
   "source": [
    "ds_train = NCFData(df_np_item, df_np_user, df_cust_purchased_pd_set, df_data_train, num_ng=args.num_ng, is_training=True, verbose=True)\n",
    "\n",
    "ds_validation = NCFData(df_np_item, df_np_user, df_cust_purchased_pd_set, df_data_validation[:50000], num_ng=args.num_ng, is_training=False, verbose=True)\n",
    "\n",
    "ds_test = NCFData(df_np_item, df_np_user, df_cust_purchased_pd_set, df_data_test, num_ng=args.test_num_ng, is_training=False, verbose=True)"
   ]
  },
  {
   "cell_type": "markdown",
   "id": "5ad01893-9017-4898-b5ae-c497296b7222",
   "metadata": {},
   "source": [
    "# 라이트닝 모듈"
   ]
  },
  {
   "cell_type": "markdown",
   "id": "afdbe2bb-123b-4ad2-a4ef-bb07f0188aae",
   "metadata": {},
   "source": [
    "## 모델"
   ]
  },
  {
   "cell_type": "code",
   "execution_count": 14,
   "id": "9227ee1e-2d91-4e65-a36e-aeef66f26458",
   "metadata": {},
   "outputs": [],
   "source": [
    "class GMF(torch.nn.Module):\n",
    "    '''\n",
    "    사용자 임베딩 벡터 (embed_user) 와 사용자 컨텐트 벡터 (content_uer) 를 cat 하고,\n",
    "    Linear 레이어를 통과 시켜 사이즈를 조절, \n",
    "    아이템 임베딩 벡터 (embed_item)과 element-wise 곱 수행하여 출력\n",
    "    '''\n",
    "    def __init__(self, factor_num, content_len):\n",
    "        super().__init__()\n",
    "        self.GMF_layers = nn.Sequential(nn.Linear(factor_num+content_len, factor_num),)\n",
    "        \n",
    "    def forward(self, embed_user, embed_item, content_user):\n",
    "        in_user = torch.cat((embed_user, content_user), dim=-1)\n",
    "        out_user = self.GMF_layers(in_user)\n",
    "        return out_user * embed_item   "
   ]
  },
  {
   "cell_type": "code",
   "execution_count": 15,
   "id": "59083a0d-350d-486a-87d9-8dfcd170181b",
   "metadata": {},
   "outputs": [],
   "source": [
    "class MLP_extended(torch.nn.Module):\n",
    "    '''\n",
    "    '''\n",
    "    def __init__(self, factor_num, user_content_len, item_content_len, dropout):\n",
    "        super().__init__()\n",
    "        MLP_modules = []\n",
    "        \n",
    "        layer_configuration = [factor_num*2 + user_content_len + item_content_len, 128, 64, 32]\n",
    "        for i in range(len(layer_configuration)-1):\n",
    "            input_size, output_size = layer_configuration[i], layer_configuration[i+1]\n",
    "            MLP_modules.append(nn.Dropout(p=dropout))\n",
    "            MLP_modules.append(nn.Linear(input_size, output_size))\n",
    "            MLP_modules.append(nn.ReLU())\n",
    "        self.MLP_layers = nn.Sequential(*MLP_modules)\n",
    "\n",
    "    def forward(self, embed_user, embed_item, content_user, content_item):\n",
    "#         print(embed_user.shape, embed_item.shape, content_user.shape, content_item.shape)\n",
    "        interaction = torch.cat((embed_user, embed_item, content_user, content_item), dim=-1)\n",
    "        return self.MLP_layers(interaction)    "
   ]
  },
  {
   "cell_type": "code",
   "execution_count": 16,
   "id": "9ba16a7e-cebf-4b2d-b35b-77b6ea03ab9f",
   "metadata": {},
   "outputs": [],
   "source": [
    "class NCF(pl.LightningModule):\n",
    "    def __init__(self, user_num, item_num, factor_num, dropout):\n",
    "        super().__init__()\n",
    "        self.user_num = user_num\n",
    "        self.item_num = item_num\n",
    "        self.factor_num = factor_num\n",
    "        self.dropout = dropout\n",
    "        self.cust_demo_len = 8\n",
    "        self.cust_rfms_len = 9\n",
    "        self.cust_rnks_len = 30\n",
    "        self.prod_hlv_len = 60\n",
    "        self.prod_rnks = 6\n",
    "        \n",
    "        self.save_hyperparameters()\n",
    "        \n",
    "        self.embed_user_GMF = nn.Embedding(self.user_num, self.factor_num)\n",
    "        self.embed_item_GMF = nn.Embedding(self.item_num, self.factor_num)\n",
    "        self.embed_user_MLP = nn.Embedding(self.user_num, self.factor_num)\n",
    "        self.embed_item_MLP = nn.Embedding(self.item_num, self.factor_num)\n",
    "        \n",
    "        self.GMF = GMF(self.factor_num, self.cust_rfms_len)\n",
    "        self.MLP = MLP_extended(self.factor_num, \n",
    "                                self.cust_demo_len + self.cust_rfms_len +self.cust_rnks_len, \n",
    "                                self.prod_hlv_len + self.prod_rnks, \n",
    "                                self.dropout)\n",
    "        \n",
    "        predict_size = factor_num * 2\n",
    "        self.predict_layer = nn.Linear(predict_size, 1)\n",
    "        \n",
    "    def configure_optimizers(self):\n",
    "        optimizer = torch.optim.Adam(self.parameters(), lr=1e-3)\n",
    "        return optimizer\n",
    "    \n",
    "    def forward(self, batch):\n",
    "        user, item = batch['cust_no'], batch['pd_c_no']\n",
    "        \n",
    "        embed_user_GMF = self.embed_user_GMF(user)\n",
    "        embed_item_GMF = self.embed_item_GMF(item)\n",
    "        \n",
    "        output_GMF = self.GMF(embed_user_GMF, embed_item_GMF, batch['cust_rfms'])\n",
    "\n",
    "        embed_user_MLP = self.embed_user_MLP(user)\n",
    "        embed_item_MLP = self.embed_item_MLP(item)\n",
    "        \n",
    "        content_user = torch.cat((batch['cust_demo'], batch['cust_rfms'], batch['cust_rnks']), -1)\n",
    "        content_item = torch.cat((batch['prod_hlv'], batch['prod_rnks']), -1)\n",
    "        output_MLP = self.MLP(embed_user_MLP, embed_item_MLP, content_user, content_item)\n",
    "\n",
    "        concat = torch.cat((output_GMF, output_MLP), -1)\n",
    "        prediction = self.predict_layer(concat)\n",
    "\n",
    "        return prediction.view(-1)\n",
    "    \n",
    "    def training_step(self, batch, batch_index):\n",
    "        prediction = self.forward(batch)\n",
    "        \n",
    "        bce_loss = F.binary_cross_entropy_with_logits(prediction, batch['label'])\n",
    "        self.log(\"bce_loss\", bce_loss, prog_bar=False, logger=True, on_step=True, on_epoch=False)\n",
    "        \n",
    "        return bce_loss\n",
    "    \n",
    "    def validation_step(self, batch, batch_index):\n",
    "        prediction = self.forward(batch)\n",
    "        bce_loss = F.binary_cross_entropy_with_logits(prediction, batch['label'])\n",
    "        self.log(\"val_bce_loss\", bce_loss, prog_bar=True, logger=True, on_step=False, on_epoch=True)\n",
    "        \n",
    "        return bce_loss\n",
    "    \n",
    "    def predict_step(self, batch, batch_index):\n",
    "        prediction = self.forward(batch)\n",
    "        \n",
    "        return {'pred':prediction, 'true':batch['label'], 'cust_no': batch['cust_no'], 'prod_no':batch['pd_c_no']}"
   ]
  },
  {
   "cell_type": "code",
   "execution_count": 17,
   "id": "fdcddeb3-1b30-4a2d-a29c-572d6778d388",
   "metadata": {},
   "outputs": [],
   "source": [
    "class CallbackGenerateNegSamples(pl.Callback):\n",
    "    def __init__(self, verbose=True):\n",
    "        self.verbose = verbose\n",
    "\n",
    "    def on_train_epoch_start(self, trainer, dummy):\n",
    "        '''\n",
    "        학습 에포크 시작시 원본 dataset의 네거티브 샘플 생성 함수인 `ng_sample()`을 호출\n",
    "        '''\n",
    "        if self.verbose:\n",
    "            print('... callback: on_train_epoch_start...')\n",
    "            trainer.train_dataloader.loaders.dataset.ng_sample()          "
   ]
  },
  {
   "cell_type": "markdown",
   "id": "ec0073c5-8c6b-4358-ae85-0df9336498c9",
   "metadata": {},
   "source": [
    "### 모델 아키텍쳐"
   ]
  },
  {
   "cell_type": "code",
   "execution_count": 18,
   "id": "24a20438-471f-450c-9fe5-4851ed575560",
   "metadata": {},
   "outputs": [],
   "source": [
    "model = NCF(user_num=len(df_np_user), item_num=len(df_np_item), factor_num=args.factor_num, dropout=args.dropout)"
   ]
  },
  {
   "cell_type": "code",
   "execution_count": 19,
   "id": "84a31a3c-a331-491b-a8bd-438e71e29963",
   "metadata": {},
   "outputs": [
    {
     "data": {
      "text/plain": [
       "NCF(\n",
       "  (embed_user_GMF): Embedding(25035, 32)\n",
       "  (embed_item_GMF): Embedding(1933, 32)\n",
       "  (embed_user_MLP): Embedding(25035, 32)\n",
       "  (embed_item_MLP): Embedding(1933, 32)\n",
       "  (GMF): GMF(\n",
       "    (GMF_layers): Sequential(\n",
       "      (0): Linear(in_features=41, out_features=32, bias=True)\n",
       "    )\n",
       "  )\n",
       "  (MLP): MLP_extended(\n",
       "    (MLP_layers): Sequential(\n",
       "      (0): Dropout(p=0.3, inplace=False)\n",
       "      (1): Linear(in_features=177, out_features=128, bias=True)\n",
       "      (2): ReLU()\n",
       "      (3): Dropout(p=0.3, inplace=False)\n",
       "      (4): Linear(in_features=128, out_features=64, bias=True)\n",
       "      (5): ReLU()\n",
       "      (6): Dropout(p=0.3, inplace=False)\n",
       "      (7): Linear(in_features=64, out_features=32, bias=True)\n",
       "      (8): ReLU()\n",
       "    )\n",
       "  )\n",
       "  (predict_layer): Linear(in_features=64, out_features=1, bias=True)\n",
       ")"
      ]
     },
     "execution_count": 19,
     "metadata": {},
     "output_type": "execute_result"
    }
   ],
   "source": [
    "model"
   ]
  },
  {
   "cell_type": "markdown",
   "id": "8e837b2a-5f4a-4fe9-8869-5706bac12200",
   "metadata": {},
   "source": [
    "### 트레이너 설정"
   ]
  },
  {
   "cell_type": "code",
   "execution_count": 20,
   "id": "fe6b23f3-c45e-444d-98ec-45ce71190338",
   "metadata": {},
   "outputs": [
    {
     "name": "stderr",
     "output_type": "stream",
     "text": [
      "GPU available: True, used: True\n",
      "TPU available: False, using: 0 TPU cores\n",
      "IPU available: False, using: 0 IPUs\n"
     ]
    }
   ],
   "source": [
    "ckpt_path = os.path.abspath('learning_results_ncf_entire_data')\n",
    "\n",
    "checkpoint_callback = pl.callbacks.ModelCheckpoint(\n",
    "    dirpath=ckpt_path,\n",
    "    save_top_k=2,\n",
    "    monitor='val_bce_loss',\n",
    "    mode='min',\n",
    "    filename='{epoch}-{val_bce_loss:.4f}',\n",
    ")\n",
    "\n",
    "trainer = pl.Trainer(default_root_dir=ckpt_path,\n",
    "#                      fast_dev_run=7,\n",
    "                     max_epochs=args.epochs,\n",
    "                     accelerator=\"gpu\",\n",
    "                     devices=1,\n",
    "                     callbacks=[CallbackGenerateNegSamples(), checkpoint_callback]\n",
    "                     )"
   ]
  },
  {
   "cell_type": "code",
   "execution_count": 21,
   "id": "0c403a56-f768-41a2-a89d-91fa7917cef7",
   "metadata": {},
   "outputs": [],
   "source": [
    "train_dataloader = data.DataLoader(ds_train, batch_size=args.batch_size, shuffle=True, num_workers=16)\n",
    "validation_dataloader = data.DataLoader(ds_validation, batch_size=args.batch_size, shuffle=False, num_workers=8)"
   ]
  },
  {
   "cell_type": "markdown",
   "id": "8989bc55-ff54-4875-8dfc-3329dd9cd978",
   "metadata": {},
   "source": [
    "## 학습"
   ]
  },
  {
   "cell_type": "markdown",
   "id": "576c48b1-5afe-494e-b92b-a0d677cfd08e",
   "metadata": {},
   "source": [
    "### 텐서보드"
   ]
  },
  {
   "cell_type": "code",
   "execution_count": 22,
   "id": "89f4f254-e51e-41fb-8a9e-c6f0f9687cdb",
   "metadata": {},
   "outputs": [
    {
     "data": {
      "text/html": [
       "\n",
       "      <iframe id=\"tensorboard-frame-b353d0a511554934\" width=\"100%\" height=\"800\" frameborder=\"0\">\n",
       "      </iframe>\n",
       "      <script>\n",
       "        (function() {\n",
       "          const frame = document.getElementById(\"tensorboard-frame-b353d0a511554934\");\n",
       "          const url = new URL(\"/\", window.location);\n",
       "          const port = 6007;\n",
       "          if (port) {\n",
       "            url.port = port;\n",
       "          }\n",
       "          frame.src = url;\n",
       "        })();\n",
       "      </script>\n",
       "    "
      ],
      "text/plain": [
       "<IPython.core.display.HTML object>"
      ]
     },
     "metadata": {},
     "output_type": "display_data"
    }
   ],
   "source": [
    "# Start tensorboard.\n",
    "%reload_ext tensorboard\n",
    "%tensorboard --logdir=learning_results_ncf_entire_data --host 0.0.0.0 --port=6007"
   ]
  },
  {
   "cell_type": "markdown",
   "id": "8f51f90c-2807-4bdf-bae9-473e88b6de78",
   "metadata": {},
   "source": [
    "### 학습 (fit)"
   ]
  },
  {
   "cell_type": "code",
   "execution_count": 23,
   "id": "a9931a06-9065-45a0-bb39-739952e19680",
   "metadata": {},
   "outputs": [
    {
     "name": "stderr",
     "output_type": "stream",
     "text": [
      "LOCAL_RANK: 0 - CUDA_VISIBLE_DEVICES: [0,1,2]\n",
      "\n",
      "  | Name           | Type         | Params\n",
      "------------------------------------------------\n",
      "0 | embed_user_GMF | Embedding    | 801 K \n",
      "1 | embed_item_GMF | Embedding    | 61.9 K\n",
      "2 | embed_user_MLP | Embedding    | 801 K \n",
      "3 | embed_item_MLP | Embedding    | 61.9 K\n",
      "4 | GMF            | GMF          | 1.3 K \n",
      "5 | MLP            | MLP_extended | 33.1 K\n",
      "6 | predict_layer  | Linear       | 65    \n",
      "------------------------------------------------\n",
      "1.8 M     Trainable params\n",
      "0         Non-trainable params\n",
      "1.8 M     Total params\n",
      "7.042     Total estimated model params size (MB)\n",
      "/usr/local/lib/python3.6/dist-packages/pytorch_lightning/callbacks/model_checkpoint.py:631: UserWarning: Checkpoint directory /Jupyter/LotteCompetition_2022/learning_results_ncf_entire_data exists and is not empty.\n",
      "  rank_zero_warn(f\"Checkpoint directory {dirpath} exists and is not empty.\")\n"
     ]
    },
    {
     "data": {
      "application/vnd.jupyter.widget-view+json": {
       "model_id": "",
       "version_major": 2,
       "version_minor": 0
      },
      "text/plain": [
       "Validation sanity check: 0it [00:00, ?it/s]"
      ]
     },
     "metadata": {},
     "output_type": "display_data"
    },
    {
     "data": {
      "application/vnd.jupyter.widget-view+json": {
       "model_id": "3035dc58eece43e0906223aa8fb5f309",
       "version_major": 2,
       "version_minor": 0
      },
      "text/plain": [
       "Training: 0it [00:00, ?it/s]"
      ]
     },
     "metadata": {},
     "output_type": "display_data"
    },
    {
     "name": "stdout",
     "output_type": "stream",
     "text": [
      "... callback: on_train_epoch_start...\n",
      "...reorganizing dataset with different negative_samples...\n"
     ]
    },
    {
     "data": {
      "application/vnd.jupyter.widget-view+json": {
       "model_id": "",
       "version_major": 2,
       "version_minor": 0
      },
      "text/plain": [
       "Validating: 0it [00:00, ?it/s]"
      ]
     },
     "metadata": {},
     "output_type": "display_data"
    },
    {
     "name": "stdout",
     "output_type": "stream",
     "text": [
      "... callback: on_train_epoch_start...\n",
      "...reorganizing dataset with different negative_samples...\n"
     ]
    },
    {
     "data": {
      "application/vnd.jupyter.widget-view+json": {
       "model_id": "",
       "version_major": 2,
       "version_minor": 0
      },
      "text/plain": [
       "Validating: 0it [00:00, ?it/s]"
      ]
     },
     "metadata": {},
     "output_type": "display_data"
    },
    {
     "name": "stdout",
     "output_type": "stream",
     "text": [
      "... callback: on_train_epoch_start...\n",
      "...reorganizing dataset with different negative_samples...\n"
     ]
    },
    {
     "data": {
      "application/vnd.jupyter.widget-view+json": {
       "model_id": "",
       "version_major": 2,
       "version_minor": 0
      },
      "text/plain": [
       "Validating: 0it [00:00, ?it/s]"
      ]
     },
     "metadata": {},
     "output_type": "display_data"
    },
    {
     "name": "stdout",
     "output_type": "stream",
     "text": [
      "... callback: on_train_epoch_start...\n",
      "...reorganizing dataset with different negative_samples...\n"
     ]
    },
    {
     "data": {
      "application/vnd.jupyter.widget-view+json": {
       "model_id": "",
       "version_major": 2,
       "version_minor": 0
      },
      "text/plain": [
       "Validating: 0it [00:00, ?it/s]"
      ]
     },
     "metadata": {},
     "output_type": "display_data"
    },
    {
     "name": "stdout",
     "output_type": "stream",
     "text": [
      "... callback: on_train_epoch_start...\n",
      "...reorganizing dataset with different negative_samples...\n"
     ]
    },
    {
     "data": {
      "application/vnd.jupyter.widget-view+json": {
       "model_id": "",
       "version_major": 2,
       "version_minor": 0
      },
      "text/plain": [
       "Validating: 0it [00:00, ?it/s]"
      ]
     },
     "metadata": {},
     "output_type": "display_data"
    },
    {
     "name": "stdout",
     "output_type": "stream",
     "text": [
      "... callback: on_train_epoch_start...\n",
      "...reorganizing dataset with different negative_samples...\n"
     ]
    },
    {
     "data": {
      "application/vnd.jupyter.widget-view+json": {
       "model_id": "",
       "version_major": 2,
       "version_minor": 0
      },
      "text/plain": [
       "Validating: 0it [00:00, ?it/s]"
      ]
     },
     "metadata": {},
     "output_type": "display_data"
    },
    {
     "name": "stdout",
     "output_type": "stream",
     "text": [
      "... callback: on_train_epoch_start...\n",
      "...reorganizing dataset with different negative_samples...\n"
     ]
    },
    {
     "data": {
      "application/vnd.jupyter.widget-view+json": {
       "model_id": "",
       "version_major": 2,
       "version_minor": 0
      },
      "text/plain": [
       "Validating: 0it [00:00, ?it/s]"
      ]
     },
     "metadata": {},
     "output_type": "display_data"
    },
    {
     "name": "stdout",
     "output_type": "stream",
     "text": [
      "... callback: on_train_epoch_start...\n",
      "...reorganizing dataset with different negative_samples...\n"
     ]
    },
    {
     "data": {
      "application/vnd.jupyter.widget-view+json": {
       "model_id": "",
       "version_major": 2,
       "version_minor": 0
      },
      "text/plain": [
       "Validating: 0it [00:00, ?it/s]"
      ]
     },
     "metadata": {},
     "output_type": "display_data"
    },
    {
     "name": "stdout",
     "output_type": "stream",
     "text": [
      "... callback: on_train_epoch_start...\n",
      "...reorganizing dataset with different negative_samples...\n"
     ]
    },
    {
     "data": {
      "application/vnd.jupyter.widget-view+json": {
       "model_id": "",
       "version_major": 2,
       "version_minor": 0
      },
      "text/plain": [
       "Validating: 0it [00:00, ?it/s]"
      ]
     },
     "metadata": {},
     "output_type": "display_data"
    },
    {
     "name": "stdout",
     "output_type": "stream",
     "text": [
      "... callback: on_train_epoch_start...\n",
      "...reorganizing dataset with different negative_samples...\n"
     ]
    },
    {
     "data": {
      "application/vnd.jupyter.widget-view+json": {
       "model_id": "",
       "version_major": 2,
       "version_minor": 0
      },
      "text/plain": [
       "Validating: 0it [00:00, ?it/s]"
      ]
     },
     "metadata": {},
     "output_type": "display_data"
    },
    {
     "name": "stdout",
     "output_type": "stream",
     "text": [
      "... callback: on_train_epoch_start...\n",
      "...reorganizing dataset with different negative_samples...\n"
     ]
    },
    {
     "data": {
      "application/vnd.jupyter.widget-view+json": {
       "model_id": "",
       "version_major": 2,
       "version_minor": 0
      },
      "text/plain": [
       "Validating: 0it [00:00, ?it/s]"
      ]
     },
     "metadata": {},
     "output_type": "display_data"
    },
    {
     "name": "stdout",
     "output_type": "stream",
     "text": [
      "... callback: on_train_epoch_start...\n",
      "...reorganizing dataset with different negative_samples...\n"
     ]
    },
    {
     "data": {
      "application/vnd.jupyter.widget-view+json": {
       "model_id": "",
       "version_major": 2,
       "version_minor": 0
      },
      "text/plain": [
       "Validating: 0it [00:00, ?it/s]"
      ]
     },
     "metadata": {},
     "output_type": "display_data"
    },
    {
     "name": "stdout",
     "output_type": "stream",
     "text": [
      "... callback: on_train_epoch_start...\n",
      "...reorganizing dataset with different negative_samples...\n"
     ]
    },
    {
     "data": {
      "application/vnd.jupyter.widget-view+json": {
       "model_id": "",
       "version_major": 2,
       "version_minor": 0
      },
      "text/plain": [
       "Validating: 0it [00:00, ?it/s]"
      ]
     },
     "metadata": {},
     "output_type": "display_data"
    },
    {
     "name": "stdout",
     "output_type": "stream",
     "text": [
      "... callback: on_train_epoch_start...\n",
      "...reorganizing dataset with different negative_samples...\n"
     ]
    },
    {
     "data": {
      "application/vnd.jupyter.widget-view+json": {
       "model_id": "",
       "version_major": 2,
       "version_minor": 0
      },
      "text/plain": [
       "Validating: 0it [00:00, ?it/s]"
      ]
     },
     "metadata": {},
     "output_type": "display_data"
    },
    {
     "name": "stdout",
     "output_type": "stream",
     "text": [
      "... callback: on_train_epoch_start...\n",
      "...reorganizing dataset with different negative_samples...\n"
     ]
    },
    {
     "data": {
      "application/vnd.jupyter.widget-view+json": {
       "model_id": "",
       "version_major": 2,
       "version_minor": 0
      },
      "text/plain": [
       "Validating: 0it [00:00, ?it/s]"
      ]
     },
     "metadata": {},
     "output_type": "display_data"
    },
    {
     "name": "stdout",
     "output_type": "stream",
     "text": [
      "... callback: on_train_epoch_start...\n",
      "...reorganizing dataset with different negative_samples...\n"
     ]
    },
    {
     "data": {
      "application/vnd.jupyter.widget-view+json": {
       "model_id": "",
       "version_major": 2,
       "version_minor": 0
      },
      "text/plain": [
       "Validating: 0it [00:00, ?it/s]"
      ]
     },
     "metadata": {},
     "output_type": "display_data"
    },
    {
     "name": "stdout",
     "output_type": "stream",
     "text": [
      "... callback: on_train_epoch_start...\n",
      "...reorganizing dataset with different negative_samples...\n"
     ]
    },
    {
     "data": {
      "application/vnd.jupyter.widget-view+json": {
       "model_id": "",
       "version_major": 2,
       "version_minor": 0
      },
      "text/plain": [
       "Validating: 0it [00:00, ?it/s]"
      ]
     },
     "metadata": {},
     "output_type": "display_data"
    },
    {
     "name": "stdout",
     "output_type": "stream",
     "text": [
      "... callback: on_train_epoch_start...\n",
      "...reorganizing dataset with different negative_samples...\n"
     ]
    },
    {
     "data": {
      "application/vnd.jupyter.widget-view+json": {
       "model_id": "",
       "version_major": 2,
       "version_minor": 0
      },
      "text/plain": [
       "Validating: 0it [00:00, ?it/s]"
      ]
     },
     "metadata": {},
     "output_type": "display_data"
    },
    {
     "name": "stdout",
     "output_type": "stream",
     "text": [
      "... callback: on_train_epoch_start...\n",
      "...reorganizing dataset with different negative_samples...\n"
     ]
    },
    {
     "data": {
      "application/vnd.jupyter.widget-view+json": {
       "model_id": "",
       "version_major": 2,
       "version_minor": 0
      },
      "text/plain": [
       "Validating: 0it [00:00, ?it/s]"
      ]
     },
     "metadata": {},
     "output_type": "display_data"
    },
    {
     "name": "stdout",
     "output_type": "stream",
     "text": [
      "... callback: on_train_epoch_start...\n",
      "...reorganizing dataset with different negative_samples...\n"
     ]
    },
    {
     "data": {
      "application/vnd.jupyter.widget-view+json": {
       "model_id": "",
       "version_major": 2,
       "version_minor": 0
      },
      "text/plain": [
       "Validating: 0it [00:00, ?it/s]"
      ]
     },
     "metadata": {},
     "output_type": "display_data"
    }
   ],
   "source": [
    "trainer.fit(model=model, train_dataloaders=train_dataloader, val_dataloaders = validation_dataloader)"
   ]
  },
  {
   "cell_type": "markdown",
   "id": "168d22f4-8e56-47fa-8058-8a988121d914",
   "metadata": {},
   "source": [
    "## 예측 결과 분석"
   ]
  },
  {
   "cell_type": "markdown",
   "id": "8560bc3d-7c69-483b-9c2c-aad8959f3747",
   "metadata": {},
   "source": [
    "베스트 모델 체크포인트: `learning_results_ncf_entire_data/epoch=19-val_bce_loss=0.3256.ckpt`\n",
    "\n",
    "필요시 이를 재로딩 하자"
   ]
  },
  {
   "cell_type": "code",
   "execution_count": 24,
   "id": "59da0f18-a392-4bac-822c-22adf13b5615",
   "metadata": {},
   "outputs": [],
   "source": [
    "test_dataloader = data.DataLoader(ds_test, batch_size=args.batch_size, shuffle=False, num_workers=16)"
   ]
  },
  {
   "cell_type": "code",
   "execution_count": 25,
   "id": "67a25c70-742d-4bfc-ade8-0373fabdb20d",
   "metadata": {},
   "outputs": [
    {
     "name": "stderr",
     "output_type": "stream",
     "text": [
      "/usr/local/lib/python3.6/dist-packages/pytorch_lightning/trainer/trainer.py:1399: UserWarning: `.predict(ckpt_path=None)` was called without a model. The best model of the previous `fit` call will be used. You can pass `predict(ckpt_path='best')` to use and best model checkpoint and avoid this warning or `ckpt_path=trainer.checkpoint_callback.last_model_path` to use the last model.\n",
      "  f\"`.{fn}(ckpt_path=None)` was called without a model.\"\n",
      "Restoring states from the checkpoint path at /Jupyter/LotteCompetition_2022/learning_results_ncf_entire_data/epoch=19-val_bce_loss=0.3256.ckpt\n",
      "LOCAL_RANK: 0 - CUDA_VISIBLE_DEVICES: [0,1,2]\n",
      "Loaded model weights from checkpoint at /Jupyter/LotteCompetition_2022/learning_results_ncf_entire_data/epoch=19-val_bce_loss=0.3256.ckpt\n"
     ]
    },
    {
     "data": {
      "application/vnd.jupyter.widget-view+json": {
       "model_id": "61123b84434444599d0a59523dad7cdf",
       "version_major": 2,
       "version_minor": 0
      },
      "text/plain": [
       "Predicting: 2272it [00:00, ?it/s]"
      ]
     },
     "metadata": {},
     "output_type": "display_data"
    }
   ],
   "source": [
    "predict_results = trainer.predict(dataloaders=test_dataloader)"
   ]
  },
  {
   "cell_type": "code",
   "execution_count": 26,
   "id": "92095fe4-4ea6-46af-b582-518fe26eb615",
   "metadata": {},
   "outputs": [],
   "source": [
    "def calc_hit_top_k(ss, k=2, ng_num=3):\n",
    "    '''\n",
    "        고객마다 \n",
    "        - 포지티브 레이블 (1.0)에 해당하는 케이스마다 ng_num 개의 네거티브 케이스 (0.0) 들을 포함하므로...\n",
    "        - (ng_num+1 개의 예측에 대해) 예측값 상위 top_k에 포지티브 레이블이 위치 하면 hit로 계산\n",
    "        - 즉 1을 출력, 그렇지 않으면 0을 출력\n",
    "        - (고객의 포지티브-네거티브 구성이 2개 이상 포함될 수 있으므로 그런 경우는 동적으로 조정하여 계산)\n",
    "    '''\n",
    "    n_true_cases = len(ss) // (ng_num+1)\n",
    "    n = n_true_cases * k\n",
    "    return 0 if ss.sort_values(by='pred', ascending=False)[:n]['true'].sum() < n_true_cases else 1"
   ]
  },
  {
   "cell_type": "code",
   "execution_count": 27,
   "id": "528d15c1-45fa-414f-9839-d1761abf187b",
   "metadata": {},
   "outputs": [],
   "source": [
    "dic = {k:[] for k in predict_results[0].keys()}\n",
    "\n",
    "for result in predict_results:\n",
    "    for k in dic.keys():\n",
    "        dic[k].append(result[k])\n",
    "\n",
    "final_dic = {k:torch.cat(dic[k]).numpy()  for k in dic.keys()}\n",
    "    \n",
    "\n",
    "df_predict = pd.DataFrame(final_dic)\n",
    "\n",
    "df_predicted_merged = pd.merge(\n",
    "    pd.merge(df_predict, df_np_item['66'].rename('prod_no').reset_index(), on='prod_no'),\n",
    "    df_np_user['47'].rename('cust_no').reset_index(), on='cust_no'\n",
    ")"
   ]
  },
  {
   "cell_type": "code",
   "execution_count": 28,
   "id": "6671ecd7-e9e1-4d5c-93f8-df712b260e09",
   "metadata": {},
   "outputs": [],
   "source": [
    "test_dic = {}\n",
    "for k in range(1, 10):\n",
    "    hit_ratios = df_predicted_merged.groupby('cust').apply(lambda x: calc_hit_top_k(x[['pred', 'true']], k=k, ng_num=args.test_num_ng)).value_counts(normalize=True)\n",
    "    test_dic[k] = hit_ratios.sort_index()"
   ]
  },
  {
   "cell_type": "code",
   "execution_count": 44,
   "id": "8e6ae95b-c12a-47bf-a686-9756211b3316",
   "metadata": {},
   "outputs": [],
   "source": [
    "df_predicted_merged.to_csv(\"csv_prediction_for_test_ng49.csv\")"
   ]
  },
  {
   "cell_type": "code",
   "execution_count": 45,
   "id": "979b959f-08c4-4a94-908f-a4577d71ba76",
   "metadata": {},
   "outputs": [
    {
     "data": {
      "text/html": [
       "<div>\n",
       "<style scoped>\n",
       "    .dataframe tbody tr th:only-of-type {\n",
       "        vertical-align: middle;\n",
       "    }\n",
       "\n",
       "    .dataframe tbody tr th {\n",
       "        vertical-align: top;\n",
       "    }\n",
       "\n",
       "    .dataframe thead th {\n",
       "        text-align: right;\n",
       "    }\n",
       "</style>\n",
       "<table border=\"1\" class=\"dataframe\">\n",
       "  <thead>\n",
       "    <tr style=\"text-align: right;\">\n",
       "      <th></th>\n",
       "      <th>pred</th>\n",
       "      <th>true</th>\n",
       "      <th>cust_no</th>\n",
       "      <th>prod_no</th>\n",
       "      <th>pd_c</th>\n",
       "      <th>cust</th>\n",
       "    </tr>\n",
       "  </thead>\n",
       "  <tbody>\n",
       "    <tr>\n",
       "      <th>0</th>\n",
       "      <td>-0.104241</td>\n",
       "      <td>1.0</td>\n",
       "      <td>20763</td>\n",
       "      <td>501</td>\n",
       "      <td>PD0502</td>\n",
       "      <td>M825964298</td>\n",
       "    </tr>\n",
       "    <tr>\n",
       "      <th>1</th>\n",
       "      <td>1.273770</td>\n",
       "      <td>0.0</td>\n",
       "      <td>20763</td>\n",
       "      <td>1416</td>\n",
       "      <td>PD1417</td>\n",
       "      <td>M825964298</td>\n",
       "    </tr>\n",
       "    <tr>\n",
       "      <th>2</th>\n",
       "      <td>-0.503362</td>\n",
       "      <td>0.0</td>\n",
       "      <td>20763</td>\n",
       "      <td>1676</td>\n",
       "      <td>PD1677</td>\n",
       "      <td>M825964298</td>\n",
       "    </tr>\n",
       "    <tr>\n",
       "      <th>3</th>\n",
       "      <td>-0.170538</td>\n",
       "      <td>0.0</td>\n",
       "      <td>20763</td>\n",
       "      <td>1852</td>\n",
       "      <td>PD1853</td>\n",
       "      <td>M825964298</td>\n",
       "    </tr>\n",
       "    <tr>\n",
       "      <th>4</th>\n",
       "      <td>-0.170538</td>\n",
       "      <td>0.0</td>\n",
       "      <td>20763</td>\n",
       "      <td>1852</td>\n",
       "      <td>PD1853</td>\n",
       "      <td>M825964298</td>\n",
       "    </tr>\n",
       "  </tbody>\n",
       "</table>\n",
       "</div>"
      ],
      "text/plain": [
       "       pred  true  cust_no  prod_no    pd_c        cust\n",
       "0 -0.104241   1.0    20763      501  PD0502  M825964298\n",
       "1  1.273770   0.0    20763     1416  PD1417  M825964298\n",
       "2 -0.503362   0.0    20763     1676  PD1677  M825964298\n",
       "3 -0.170538   0.0    20763     1852  PD1853  M825964298\n",
       "4 -0.170538   0.0    20763     1852  PD1853  M825964298"
      ]
     },
     "execution_count": 45,
     "metadata": {},
     "output_type": "execute_result"
    }
   ],
   "source": [
    "df_predicted_merged.head()"
   ]
  },
  {
   "cell_type": "markdown",
   "id": "a0bb52fb-be7d-4244-812e-5c8f649dcd9c",
   "metadata": {},
   "source": [
    "### Top-k에 따른 HitRatio (HR)"
   ]
  },
  {
   "cell_type": "code",
   "execution_count": 41,
   "id": "2950b79b-2749-49f5-adab-bac1c3fc9e41",
   "metadata": {},
   "outputs": [
    {
     "data": {
      "text/html": [
       "<div>\n",
       "<style scoped>\n",
       "    .dataframe tbody tr th:only-of-type {\n",
       "        vertical-align: middle;\n",
       "    }\n",
       "\n",
       "    .dataframe tbody tr th {\n",
       "        vertical-align: top;\n",
       "    }\n",
       "\n",
       "    .dataframe thead th {\n",
       "        text-align: right;\n",
       "    }\n",
       "</style>\n",
       "<table border=\"1\" class=\"dataframe\">\n",
       "  <thead>\n",
       "    <tr style=\"text-align: right;\">\n",
       "      <th></th>\n",
       "      <th>HR</th>\n",
       "    </tr>\n",
       "    <tr>\n",
       "      <th>k</th>\n",
       "      <th></th>\n",
       "    </tr>\n",
       "  </thead>\n",
       "  <tbody>\n",
       "    <tr>\n",
       "      <th>1</th>\n",
       "      <td>0.045123</td>\n",
       "    </tr>\n",
       "    <tr>\n",
       "      <th>2</th>\n",
       "      <td>0.087498</td>\n",
       "    </tr>\n",
       "    <tr>\n",
       "      <th>3</th>\n",
       "      <td>0.132164</td>\n",
       "    </tr>\n",
       "    <tr>\n",
       "      <th>4</th>\n",
       "      <td>0.171194</td>\n",
       "    </tr>\n",
       "    <tr>\n",
       "      <th>5</th>\n",
       "      <td>0.212378</td>\n",
       "    </tr>\n",
       "    <tr>\n",
       "      <th>6</th>\n",
       "      <td>0.252920</td>\n",
       "    </tr>\n",
       "    <tr>\n",
       "      <th>7</th>\n",
       "      <td>0.289706</td>\n",
       "    </tr>\n",
       "    <tr>\n",
       "      <th>8</th>\n",
       "      <td>0.327638</td>\n",
       "    </tr>\n",
       "    <tr>\n",
       "      <th>9</th>\n",
       "      <td>0.367584</td>\n",
       "    </tr>\n",
       "  </tbody>\n",
       "</table>\n",
       "</div>"
      ],
      "text/plain": [
       "         HR\n",
       "k          \n",
       "1  0.045123\n",
       "2  0.087498\n",
       "3  0.132164\n",
       "4  0.171194\n",
       "5  0.212378\n",
       "6  0.252920\n",
       "7  0.289706\n",
       "8  0.327638\n",
       "9  0.367584"
      ]
     },
     "execution_count": 41,
     "metadata": {},
     "output_type": "execute_result"
    }
   ],
   "source": [
    "hit_ratio_dic = {k:info.iloc[1] for k, info in test_dic.items()}\n",
    "\n",
    "df_hit_ratio = pd.DataFrame.from_dict(hit_ratio_dic, orient='index', columns=['HR']).rename_axis('k')\n",
    "\n",
    "df_hit_ratio"
   ]
  },
  {
   "cell_type": "code",
   "execution_count": 42,
   "id": "9f84b90b-2636-4328-81ec-baad33d180d7",
   "metadata": {},
   "outputs": [
    {
     "data": {
      "text/plain": [
       "<AxesSubplot:xlabel='k'>"
      ]
     },
     "execution_count": 42,
     "metadata": {},
     "output_type": "execute_result"
    },
    {
     "data": {
      "image/png": "[encoded data removed]",
      "text/plain": [
       "<Figure size 432x288 with 1 Axes>"
      ]
     },
     "metadata": {},
     "output_type": "display_data"
    }
   ],
   "source": [
    "df_hit_ratio.plot.bar()"
   ]
  }
 ],
 "metadata": {
  "kernelspec": {
   "display_name": "Python 3",
   "language": "python",
   "name": "python3"
  },
  "language_info": {
   "codemirror_mode": {
    "name": "ipython",
    "version": 3
   },
   "file_extension": ".py",
   "mimetype": "text/x-python",
   "name": "python",
   "nbconvert_exporter": "python",
   "pygments_lexer": "ipython3",
   "version": "3.6.9"
  }
 },
 "nbformat": 4,
 "nbformat_minor": 5
}
