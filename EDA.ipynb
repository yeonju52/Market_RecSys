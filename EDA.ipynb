{
  "nbformat": 4,
  "nbformat_minor": 0,
  "metadata": {
    "colab": {
      "name": "EDAipynb",
      "provenance": [],
      "collapsed_sections": [],
      "toc_visible": true
    },
    "kernelspec": {
      "name": "python3",
      "display_name": "Python 3"
    },
    "language_info": {
      "name": "python"
    }
  },
  "cells": [
    {
      "cell_type": "code",
      "source": [
        "# 1단계 (다운완료)\n",
        "!apt install fonts-nanum\n",
        "!ls /usr/share/fonts/truetype/nanum/\n",
        "\n",
        "# 2단계\n",
        "import matplotlib.font_manager as fm\n",
        "font_path = '/usr/share/fonts/truetype/nanum/NanumGothicBold.ttf'\n",
        "font = fm.FontProperties(fname=font_path, size=9)\n",
        "fm._rebuild()\n",
        "\n",
        "# 3단계 (수동으로 런타임 재시작을 안 해도 됨, 실행버튼은 다시 눌러야 함.)\n",
        "import os\n",
        "os.kill(os.getpid(), 9)"
      ],
      "metadata": {
        "colab": {
          "base_uri": "https://localhost:8080/"
        },
        "id": "vhEyeMgq6vsz",
        "outputId": "6c21a5bb-d0df-4e07-c3a0-58acc7bbc69c"
      },
      "execution_count": null,
      "outputs": [
        {
          "output_type": "stream",
          "name": "stdout",
          "text": [
            "Reading package lists... Done\n",
            "Building dependency tree       \n",
            "Reading state information... Done\n",
            "The following package was automatically installed and is no longer required:\n",
            "  libnvidia-common-460\n",
            "Use 'apt autoremove' to remove it.\n",
            "The following NEW packages will be installed:\n",
            "  fonts-nanum\n",
            "0 upgraded, 1 newly installed, 0 to remove and 19 not upgraded.\n",
            "Need to get 9,604 kB of archives.\n",
            "After this operation, 29.5 MB of additional disk space will be used.\n",
            "Get:1 http://archive.ubuntu.com/ubuntu bionic/universe amd64 fonts-nanum all 20170925-1 [9,604 kB]\n",
            "Fetched 9,604 kB in 1s (9,714 kB/s)\n",
            "Selecting previously unselected package fonts-nanum.\n",
            "(Reading database ... 155680 files and directories currently installed.)\n",
            "Preparing to unpack .../fonts-nanum_20170925-1_all.deb ...\n",
            "Unpacking fonts-nanum (20170925-1) ...\n",
            "Setting up fonts-nanum (20170925-1) ...\n",
            "Processing triggers for fontconfig (2.12.6-0ubuntu2) ...\n",
            "NanumBarunGothicBold.ttf  NanumMyeongjoBold.ttf  NanumSquareRoundR.ttf\n",
            "NanumBarunGothic.ttf\t  NanumMyeongjo.ttf\t NanumSquareR.ttf\n",
            "NanumGothicBold.ttf\t  NanumSquareB.ttf\n",
            "NanumGothic.ttf\t\t  NanumSquareRoundB.ttf\n"
          ]
        }
      ]
    },
    {
      "cell_type": "markdown",
      "source": [
        "# 환경세팅\n",
        "\n",
        "- 나눔고딕 폰트 설치\n",
        "- 구글 드라이브 연결\n",
        "- 데이터 로딩"
      ],
      "metadata": {
        "id": "mz8OdG3pg9AE"
      }
    },
    {
      "cell_type": "code",
      "execution_count": null,
      "metadata": {
        "id": "7pRmS-q5GtHO"
      },
      "outputs": [],
      "source": [
        "# 4단계 (최종설정)\n",
        "import os\n",
        "import pandas as pd\n",
        "pd.plotting.register_matplotlib_converters()\n",
        "import matplotlib.pyplot as plt\n",
        "%matplotlib inline\n",
        "import seaborn as sns\n",
        "import matplotlib.font_manager as fm\n",
        "\n",
        "font_path = '/usr/share/fonts/truetype/nanum/NanumGothicBold.ttf'\n",
        "font_name = fm.FontProperties(fname=font_path, size=9).get_name()\n",
        "fm._rebuild()"
      ]
    },
    {
      "cell_type": "code",
      "source": [
        "# sns 설정\n",
        "sns.set(font=font_name, \n",
        "        rc={\"axes.unicode_minus\":False, 'figure.figsize': (10,6)},    \n",
        "        style='darkgrid') # style=\"whitegrid\""
      ],
      "metadata": {
        "id": "dNa_fnwDHBjf"
      },
      "execution_count": null,
      "outputs": []
    },
    {
      "cell_type": "code",
      "source": [
        "from google.colab import drive\n",
        "drive.mount('/gdrive', force_remount=True)"
      ],
      "metadata": {
        "colab": {
          "base_uri": "https://localhost:8080/"
        },
        "id": "TJzMvjcL7C-Z",
        "outputId": "767b8747-dd62-41ec-bc80-07acd89497af"
      },
      "execution_count": null,
      "outputs": [
        {
          "output_type": "stream",
          "name": "stdout",
          "text": [
            "Mounted at /gdrive\n"
          ]
        }
      ]
    },
    {
      "cell_type": "code",
      "source": [
        "base_path = \"/gdrive/MyDrive/Colab Notebooks/LPOINT_BIG_COMP/LPOINT_BIG_COMP_csv_agg/\""
      ],
      "metadata": {
        "id": "0eswdrgX7HKm"
      },
      "execution_count": null,
      "outputs": []
    },
    {
      "cell_type": "code",
      "source": [
        "file_path_dic = {\n",
        "    'demo':'LPOINT_BIG_COMP_01_DEMO.csv',\n",
        "    'pdde':'LPOINT_BIG_COMP_02_PDDE.csv',\n",
        "    'cop_u':'LPOINT_BIG_COMP_03_COP_U.csv',\n",
        "    'pd_clac':'LPOINT_BIG_COMP_04_PD_CLAC.csv',\n",
        "    'br':'LPOINT_BIG_COMP_05_BR.csv',\n",
        "    'lpay':'LPOINT_BIG_COMP_06_LPAY.csv',\n",
        "}"
      ],
      "metadata": {
        "id": "zUoW0V7j7KZY"
      },
      "execution_count": null,
      "outputs": []
    },
    {
      "cell_type": "code",
      "source": [
        "df_demo = pd.read_csv(os.path.join(base_path, file_path_dic['demo']))\n",
        "\n",
        "df_pdde = pd.read_csv(os.path.join(base_path, file_path_dic['pdde']), dtype={'br_c':str, 'de_dt':str, 'de_hr':str})\n",
        "df_pdde_clean = df_pdde[~df_pdde.duplicated()].reset_index(drop=True)\n",
        "df_pdde_clean = pd.concat((df_pdde_clean[['cust', 'rct_no', 'chnl_dv', 'cop_c', 'br_c', 'pd_c', 'buy_am', 'buy_ct']], \n",
        "           pd.to_datetime(df_pdde_clean.de_dt.str.cat(df_pdde_clean.de_hr), format='%Y%m%d%H').rename('buy_dt')), axis=1)\n",
        "df_pdde = df_pdde_clean.set_index('buy_dt').sort_index()\n",
        "\n",
        "df_cop_u = pd.read_csv(os.path.join(base_path, file_path_dic['cop_u']), dtype={'br_c':str, 'de_dt':str, 'de_hr':str})\n",
        "df_cop_u = pd.concat((df_cop_u[['cust', 'rct_no', 'cop_c', 'br_c', 'buy_am']], \n",
        "           pd.to_datetime(df_cop_u.de_dt.str.cat(df_cop_u.de_hr), format='%Y%m%d%H').rename('buy_dt')), axis=1).set_index('buy_dt').sort_index()\n",
        "\n",
        "df_pd_clac = pd.read_csv(os.path.join(base_path, file_path_dic['pd_clac']))\n",
        "\n",
        "df_br = pd.read_csv(os.path.join(base_path, file_path_dic['br']))\n",
        "\n",
        "df_lpay = pd.read_csv(os.path.join(base_path, file_path_dic['lpay']), dtype={'de_dt':str, 'de_hr':str})\n",
        "df_lpay = pd.concat((df_lpay[['cust', 'rct_no', 'chnl_dv', 'cop_c', 'buy_am']], \n",
        "           pd.to_datetime(df_lpay.de_dt.str.cat(df_lpay.de_hr), format='%Y%m%d%H').rename('buy_dt')), axis=1).set_index('buy_dt').sort_index()"
      ],
      "metadata": {
        "id": "UCNwoFDdHC17"
      },
      "execution_count": null,
      "outputs": []
    },
    {
      "cell_type": "markdown",
      "source": [
        "# 데이터 전처리"
      ],
      "metadata": {
        "id": "a_OI-zJptcDI"
      }
    },
    {
      "cell_type": "markdown",
      "source": [
        "## df_buy"
      ],
      "metadata": {
        "id": "aaSlcyLEhnSR"
      }
    },
    {
      "cell_type": "code",
      "source": [
        "df_buy = pd.concat([df_pdde, df_cop_u])\n",
        "df_buy"
      ],
      "metadata": {
        "colab": {
          "base_uri": "https://localhost:8080/",
          "height": 455
        },
        "id": "e7OT_8OWHMeX",
        "outputId": "39914ed2-b293-4f17-ee49-650b04bc72ac"
      },
      "execution_count": null,
      "outputs": [
        {
          "output_type": "execute_result",
          "data": {
            "text/plain": [
              "                           cust              rct_no  chnl_dv cop_c     br_c  \\\n",
              "buy_dt                                                                        \n",
              "2021-01-01 00:00:00  M762029395        A04000119545      1.0   A04  A044918   \n",
              "2021-01-01 00:00:00  M073970063        E02000059635      2.0   A02      NaN   \n",
              "2021-01-01 00:00:00  M073970063        E02000059635      2.0   A02      NaN   \n",
              "2021-01-01 00:00:00  M073970063        E02000059635      2.0   A02      NaN   \n",
              "2021-01-01 00:00:00  M350725409        E02000058229      2.0   A02      NaN   \n",
              "...                         ...                 ...      ...   ...      ...   \n",
              "2021-12-31 22:00:00  M716433837  21123122E012916542      NaN   E01  E010001   \n",
              "2021-12-31 22:00:00  M421637803  21123122D013417945      NaN   D01  D010717   \n",
              "2021-12-31 22:00:00  M176248707  21123122D010144319      NaN   D01  D010636   \n",
              "2021-12-31 23:00:00  M375102383  21123123E011838053      NaN   E01  E010001   \n",
              "2021-12-31 23:00:00  M449095124  21123123D010326849      NaN   D01  D010717   \n",
              "\n",
              "                       pd_c   buy_am  buy_ct  \n",
              "buy_dt                                        \n",
              "2021-01-01 00:00:00  PD0333   7000.0     1.0  \n",
              "2021-01-01 00:00:00  PD1321   2480.0     1.0  \n",
              "2021-01-01 00:00:00  PD1440   2980.0     1.0  \n",
              "2021-01-01 00:00:00  PD0436   4600.0     2.0  \n",
              "2021-01-01 00:00:00  PD1173   5880.0     1.0  \n",
              "...                     ...      ...     ...  \n",
              "2021-12-31 22:00:00     NaN  17770.0     NaN  \n",
              "2021-12-31 22:00:00     NaN  11100.0     NaN  \n",
              "2021-12-31 22:00:00     NaN   4900.0     NaN  \n",
              "2021-12-31 23:00:00     NaN  32700.0     NaN  \n",
              "2021-12-31 23:00:00     NaN  25300.0     NaN  \n",
              "\n",
              "[4392693 rows x 8 columns]"
            ],
            "text/html": [
              "\n",
              "  <div id=\"df-d93b839f-54a1-4359-bc5c-439576df9e9a\">\n",
              "    <div class=\"colab-df-container\">\n",
              "      <div>\n",
              "<style scoped>\n",
              "    .dataframe tbody tr th:only-of-type {\n",
              "        vertical-align: middle;\n",
              "    }\n",
              "\n",
              "    .dataframe tbody tr th {\n",
              "        vertical-align: top;\n",
              "    }\n",
              "\n",
              "    .dataframe thead th {\n",
              "        text-align: right;\n",
              "    }\n",
              "</style>\n",
              "<table border=\"1\" class=\"dataframe\">\n",
              "  <thead>\n",
              "    <tr style=\"text-align: right;\">\n",
              "      <th></th>\n",
              "      <th>cust</th>\n",
              "      <th>rct_no</th>\n",
              "      <th>chnl_dv</th>\n",
              "      <th>cop_c</th>\n",
              "      <th>br_c</th>\n",
              "      <th>pd_c</th>\n",
              "      <th>buy_am</th>\n",
              "      <th>buy_ct</th>\n",
              "    </tr>\n",
              "    <tr>\n",
              "      <th>buy_dt</th>\n",
              "      <th></th>\n",
              "      <th></th>\n",
              "      <th></th>\n",
              "      <th></th>\n",
              "      <th></th>\n",
              "      <th></th>\n",
              "      <th></th>\n",
              "      <th></th>\n",
              "    </tr>\n",
              "  </thead>\n",
              "  <tbody>\n",
              "    <tr>\n",
              "      <th>2021-01-01 00:00:00</th>\n",
              "      <td>M762029395</td>\n",
              "      <td>A04000119545</td>\n",
              "      <td>1.0</td>\n",
              "      <td>A04</td>\n",
              "      <td>A044918</td>\n",
              "      <td>PD0333</td>\n",
              "      <td>7000.0</td>\n",
              "      <td>1.0</td>\n",
              "    </tr>\n",
              "    <tr>\n",
              "      <th>2021-01-01 00:00:00</th>\n",
              "      <td>M073970063</td>\n",
              "      <td>E02000059635</td>\n",
              "      <td>2.0</td>\n",
              "      <td>A02</td>\n",
              "      <td>NaN</td>\n",
              "      <td>PD1321</td>\n",
              "      <td>2480.0</td>\n",
              "      <td>1.0</td>\n",
              "    </tr>\n",
              "    <tr>\n",
              "      <th>2021-01-01 00:00:00</th>\n",
              "      <td>M073970063</td>\n",
              "      <td>E02000059635</td>\n",
              "      <td>2.0</td>\n",
              "      <td>A02</td>\n",
              "      <td>NaN</td>\n",
              "      <td>PD1440</td>\n",
              "      <td>2980.0</td>\n",
              "      <td>1.0</td>\n",
              "    </tr>\n",
              "    <tr>\n",
              "      <th>2021-01-01 00:00:00</th>\n",
              "      <td>M073970063</td>\n",
              "      <td>E02000059635</td>\n",
              "      <td>2.0</td>\n",
              "      <td>A02</td>\n",
              "      <td>NaN</td>\n",
              "      <td>PD0436</td>\n",
              "      <td>4600.0</td>\n",
              "      <td>2.0</td>\n",
              "    </tr>\n",
              "    <tr>\n",
              "      <th>2021-01-01 00:00:00</th>\n",
              "      <td>M350725409</td>\n",
              "      <td>E02000058229</td>\n",
              "      <td>2.0</td>\n",
              "      <td>A02</td>\n",
              "      <td>NaN</td>\n",
              "      <td>PD1173</td>\n",
              "      <td>5880.0</td>\n",
              "      <td>1.0</td>\n",
              "    </tr>\n",
              "    <tr>\n",
              "      <th>...</th>\n",
              "      <td>...</td>\n",
              "      <td>...</td>\n",
              "      <td>...</td>\n",
              "      <td>...</td>\n",
              "      <td>...</td>\n",
              "      <td>...</td>\n",
              "      <td>...</td>\n",
              "      <td>...</td>\n",
              "    </tr>\n",
              "    <tr>\n",
              "      <th>2021-12-31 22:00:00</th>\n",
              "      <td>M716433837</td>\n",
              "      <td>21123122E012916542</td>\n",
              "      <td>NaN</td>\n",
              "      <td>E01</td>\n",
              "      <td>E010001</td>\n",
              "      <td>NaN</td>\n",
              "      <td>17770.0</td>\n",
              "      <td>NaN</td>\n",
              "    </tr>\n",
              "    <tr>\n",
              "      <th>2021-12-31 22:00:00</th>\n",
              "      <td>M421637803</td>\n",
              "      <td>21123122D013417945</td>\n",
              "      <td>NaN</td>\n",
              "      <td>D01</td>\n",
              "      <td>D010717</td>\n",
              "      <td>NaN</td>\n",
              "      <td>11100.0</td>\n",
              "      <td>NaN</td>\n",
              "    </tr>\n",
              "    <tr>\n",
              "      <th>2021-12-31 22:00:00</th>\n",
              "      <td>M176248707</td>\n",
              "      <td>21123122D010144319</td>\n",
              "      <td>NaN</td>\n",
              "      <td>D01</td>\n",
              "      <td>D010636</td>\n",
              "      <td>NaN</td>\n",
              "      <td>4900.0</td>\n",
              "      <td>NaN</td>\n",
              "    </tr>\n",
              "    <tr>\n",
              "      <th>2021-12-31 23:00:00</th>\n",
              "      <td>M375102383</td>\n",
              "      <td>21123123E011838053</td>\n",
              "      <td>NaN</td>\n",
              "      <td>E01</td>\n",
              "      <td>E010001</td>\n",
              "      <td>NaN</td>\n",
              "      <td>32700.0</td>\n",
              "      <td>NaN</td>\n",
              "    </tr>\n",
              "    <tr>\n",
              "      <th>2021-12-31 23:00:00</th>\n",
              "      <td>M449095124</td>\n",
              "      <td>21123123D010326849</td>\n",
              "      <td>NaN</td>\n",
              "      <td>D01</td>\n",
              "      <td>D010717</td>\n",
              "      <td>NaN</td>\n",
              "      <td>25300.0</td>\n",
              "      <td>NaN</td>\n",
              "    </tr>\n",
              "  </tbody>\n",
              "</table>\n",
              "<p>4392693 rows × 8 columns</p>\n",
              "</div>\n",
              "      <button class=\"colab-df-convert\" onclick=\"convertToInteractive('df-d93b839f-54a1-4359-bc5c-439576df9e9a')\"\n",
              "              title=\"Convert this dataframe to an interactive table.\"\n",
              "              style=\"display:none;\">\n",
              "        \n",
              "  <svg xmlns=\"http://www.w3.org/2000/svg\" height=\"24px\"viewBox=\"0 0 24 24\"\n",
              "       width=\"24px\">\n",
              "    <path d=\"M0 0h24v24H0V0z\" fill=\"none\"/>\n",
              "    <path d=\"M18.56 5.44l.94 2.06.94-2.06 2.06-.94-2.06-.94-.94-2.06-.94 2.06-2.06.94zm-11 1L8.5 8.5l.94-2.06 2.06-.94-2.06-.94L8.5 2.5l-.94 2.06-2.06.94zm10 10l.94 2.06.94-2.06 2.06-.94-2.06-.94-.94-2.06-.94 2.06-2.06.94z\"/><path d=\"M17.41 7.96l-1.37-1.37c-.4-.4-.92-.59-1.43-.59-.52 0-1.04.2-1.43.59L10.3 9.45l-7.72 7.72c-.78.78-.78 2.05 0 2.83L4 21.41c.39.39.9.59 1.41.59.51 0 1.02-.2 1.41-.59l7.78-7.78 2.81-2.81c.8-.78.8-2.07 0-2.86zM5.41 20L4 18.59l7.72-7.72 1.47 1.35L5.41 20z\"/>\n",
              "  </svg>\n",
              "      </button>\n",
              "      \n",
              "  <style>\n",
              "    .colab-df-container {\n",
              "      display:flex;\n",
              "      flex-wrap:wrap;\n",
              "      gap: 12px;\n",
              "    }\n",
              "\n",
              "    .colab-df-convert {\n",
              "      background-color: #E8F0FE;\n",
              "      border: none;\n",
              "      border-radius: 50%;\n",
              "      cursor: pointer;\n",
              "      display: none;\n",
              "      fill: #1967D2;\n",
              "      height: 32px;\n",
              "      padding: 0 0 0 0;\n",
              "      width: 32px;\n",
              "    }\n",
              "\n",
              "    .colab-df-convert:hover {\n",
              "      background-color: #E2EBFA;\n",
              "      box-shadow: 0px 1px 2px rgba(60, 64, 67, 0.3), 0px 1px 3px 1px rgba(60, 64, 67, 0.15);\n",
              "      fill: #174EA6;\n",
              "    }\n",
              "\n",
              "    [theme=dark] .colab-df-convert {\n",
              "      background-color: #3B4455;\n",
              "      fill: #D2E3FC;\n",
              "    }\n",
              "\n",
              "    [theme=dark] .colab-df-convert:hover {\n",
              "      background-color: #434B5C;\n",
              "      box-shadow: 0px 1px 3px 1px rgba(0, 0, 0, 0.15);\n",
              "      filter: drop-shadow(0px 1px 2px rgba(0, 0, 0, 0.3));\n",
              "      fill: #FFFFFF;\n",
              "    }\n",
              "  </style>\n",
              "\n",
              "      <script>\n",
              "        const buttonEl =\n",
              "          document.querySelector('#df-d93b839f-54a1-4359-bc5c-439576df9e9a button.colab-df-convert');\n",
              "        buttonEl.style.display =\n",
              "          google.colab.kernel.accessAllowed ? 'block' : 'none';\n",
              "\n",
              "        async function convertToInteractive(key) {\n",
              "          const element = document.querySelector('#df-d93b839f-54a1-4359-bc5c-439576df9e9a');\n",
              "          const dataTable =\n",
              "            await google.colab.kernel.invokeFunction('convertToInteractive',\n",
              "                                                     [key], {});\n",
              "          if (!dataTable) return;\n",
              "\n",
              "          const docLinkHtml = 'Like what you see? Visit the ' +\n",
              "            '<a target=\"_blank\" href=https://colab.research.google.com/notebooks/data_table.ipynb>data table notebook</a>'\n",
              "            + ' to learn more about interactive tables.';\n",
              "          element.innerHTML = '';\n",
              "          dataTable['output_type'] = 'display_data';\n",
              "          await google.colab.output.renderOutput(dataTable, element);\n",
              "          const docLink = document.createElement('div');\n",
              "          docLink.innerHTML = docLinkHtml;\n",
              "          element.appendChild(docLink);\n",
              "        }\n",
              "      </script>\n",
              "    </div>\n",
              "  </div>\n",
              "  "
            ]
          },
          "metadata": {},
          "execution_count": 7
        }
      ]
    },
    {
      "cell_type": "markdown",
      "source": [
        "aggregation **df_buy**"
      ],
      "metadata": {
        "id": "yOl4M-An7f3V"
      }
    },
    {
      "cell_type": "code",
      "source": [
        "df_buy_compact = df_buy.reset_index().groupby(['cust', 'rct_no'], as_index=False).agg({'buy_dt':'first', 'chnl_dv':'first', 'cop_c':'first', 'buy_am':'sum', 'buy_ct':'sum'}).set_index('buy_dt').sort_index()\n",
        "df_buy_compact"
      ],
      "metadata": {
        "colab": {
          "base_uri": "https://localhost:8080/",
          "height": 455
        },
        "id": "_w6I2u2aL0bG",
        "outputId": "3f49f8ca-7cda-4bd2-8d2e-8bda51a620ac"
      },
      "execution_count": null,
      "outputs": [
        {
          "output_type": "execute_result",
          "data": {
            "text/plain": [
              "                           cust              rct_no  chnl_dv cop_c    buy_am  \\\n",
              "buy_dt                                                                         \n",
              "2020-12-27 13:00:00  M495972460  20122713C012328716      NaN   C01   26000.0   \n",
              "2020-12-29 00:00:00  M192531170  20122900C013317930      NaN   C01   10000.0   \n",
              "2020-12-29 11:00:00  M039320884  20122911C011862577      NaN   C01    6500.0   \n",
              "2020-12-30 09:00:00  M201983289  20123009C012921880      NaN   C01   24000.0   \n",
              "2020-12-30 12:00:00  M205977381  20123012C011060420      NaN   C01    6500.0   \n",
              "...                         ...                 ...      ...   ...       ...   \n",
              "2021-12-31 23:00:00  M209126885        A04129059539      1.0   A04    5000.0   \n",
              "2021-12-31 23:00:00  M182645944        E06052117103      2.0   A06  289000.0   \n",
              "2021-12-31 23:00:00  M452775982        A04129053601      1.0   A04    7700.0   \n",
              "2021-12-31 23:00:00  M562823758        A04128987327      1.0   A04    9000.0   \n",
              "2021-12-31 23:00:00  M629230802        A04128958050      1.0   A04    2000.0   \n",
              "\n",
              "                     buy_ct  \n",
              "buy_dt                       \n",
              "2020-12-27 13:00:00     0.0  \n",
              "2020-12-29 00:00:00     0.0  \n",
              "2020-12-29 11:00:00     0.0  \n",
              "2020-12-30 09:00:00     0.0  \n",
              "2020-12-30 12:00:00     0.0  \n",
              "...                     ...  \n",
              "2021-12-31 23:00:00     2.0  \n",
              "2021-12-31 23:00:00     1.0  \n",
              "2021-12-31 23:00:00     3.0  \n",
              "2021-12-31 23:00:00     2.0  \n",
              "2021-12-31 23:00:00     1.0  \n",
              "\n",
              "[1514893 rows x 6 columns]"
            ],
            "text/html": [
              "\n",
              "  <div id=\"df-c381ef06-f692-400e-8cd8-61f34100b674\">\n",
              "    <div class=\"colab-df-container\">\n",
              "      <div>\n",
              "<style scoped>\n",
              "    .dataframe tbody tr th:only-of-type {\n",
              "        vertical-align: middle;\n",
              "    }\n",
              "\n",
              "    .dataframe tbody tr th {\n",
              "        vertical-align: top;\n",
              "    }\n",
              "\n",
              "    .dataframe thead th {\n",
              "        text-align: right;\n",
              "    }\n",
              "</style>\n",
              "<table border=\"1\" class=\"dataframe\">\n",
              "  <thead>\n",
              "    <tr style=\"text-align: right;\">\n",
              "      <th></th>\n",
              "      <th>cust</th>\n",
              "      <th>rct_no</th>\n",
              "      <th>chnl_dv</th>\n",
              "      <th>cop_c</th>\n",
              "      <th>buy_am</th>\n",
              "      <th>buy_ct</th>\n",
              "    </tr>\n",
              "    <tr>\n",
              "      <th>buy_dt</th>\n",
              "      <th></th>\n",
              "      <th></th>\n",
              "      <th></th>\n",
              "      <th></th>\n",
              "      <th></th>\n",
              "      <th></th>\n",
              "    </tr>\n",
              "  </thead>\n",
              "  <tbody>\n",
              "    <tr>\n",
              "      <th>2020-12-27 13:00:00</th>\n",
              "      <td>M495972460</td>\n",
              "      <td>20122713C012328716</td>\n",
              "      <td>NaN</td>\n",
              "      <td>C01</td>\n",
              "      <td>26000.0</td>\n",
              "      <td>0.0</td>\n",
              "    </tr>\n",
              "    <tr>\n",
              "      <th>2020-12-29 00:00:00</th>\n",
              "      <td>M192531170</td>\n",
              "      <td>20122900C013317930</td>\n",
              "      <td>NaN</td>\n",
              "      <td>C01</td>\n",
              "      <td>10000.0</td>\n",
              "      <td>0.0</td>\n",
              "    </tr>\n",
              "    <tr>\n",
              "      <th>2020-12-29 11:00:00</th>\n",
              "      <td>M039320884</td>\n",
              "      <td>20122911C011862577</td>\n",
              "      <td>NaN</td>\n",
              "      <td>C01</td>\n",
              "      <td>6500.0</td>\n",
              "      <td>0.0</td>\n",
              "    </tr>\n",
              "    <tr>\n",
              "      <th>2020-12-30 09:00:00</th>\n",
              "      <td>M201983289</td>\n",
              "      <td>20123009C012921880</td>\n",
              "      <td>NaN</td>\n",
              "      <td>C01</td>\n",
              "      <td>24000.0</td>\n",
              "      <td>0.0</td>\n",
              "    </tr>\n",
              "    <tr>\n",
              "      <th>2020-12-30 12:00:00</th>\n",
              "      <td>M205977381</td>\n",
              "      <td>20123012C011060420</td>\n",
              "      <td>NaN</td>\n",
              "      <td>C01</td>\n",
              "      <td>6500.0</td>\n",
              "      <td>0.0</td>\n",
              "    </tr>\n",
              "    <tr>\n",
              "      <th>...</th>\n",
              "      <td>...</td>\n",
              "      <td>...</td>\n",
              "      <td>...</td>\n",
              "      <td>...</td>\n",
              "      <td>...</td>\n",
              "      <td>...</td>\n",
              "    </tr>\n",
              "    <tr>\n",
              "      <th>2021-12-31 23:00:00</th>\n",
              "      <td>M209126885</td>\n",
              "      <td>A04129059539</td>\n",
              "      <td>1.0</td>\n",
              "      <td>A04</td>\n",
              "      <td>5000.0</td>\n",
              "      <td>2.0</td>\n",
              "    </tr>\n",
              "    <tr>\n",
              "      <th>2021-12-31 23:00:00</th>\n",
              "      <td>M182645944</td>\n",
              "      <td>E06052117103</td>\n",
              "      <td>2.0</td>\n",
              "      <td>A06</td>\n",
              "      <td>289000.0</td>\n",
              "      <td>1.0</td>\n",
              "    </tr>\n",
              "    <tr>\n",
              "      <th>2021-12-31 23:00:00</th>\n",
              "      <td>M452775982</td>\n",
              "      <td>A04129053601</td>\n",
              "      <td>1.0</td>\n",
              "      <td>A04</td>\n",
              "      <td>7700.0</td>\n",
              "      <td>3.0</td>\n",
              "    </tr>\n",
              "    <tr>\n",
              "      <th>2021-12-31 23:00:00</th>\n",
              "      <td>M562823758</td>\n",
              "      <td>A04128987327</td>\n",
              "      <td>1.0</td>\n",
              "      <td>A04</td>\n",
              "      <td>9000.0</td>\n",
              "      <td>2.0</td>\n",
              "    </tr>\n",
              "    <tr>\n",
              "      <th>2021-12-31 23:00:00</th>\n",
              "      <td>M629230802</td>\n",
              "      <td>A04128958050</td>\n",
              "      <td>1.0</td>\n",
              "      <td>A04</td>\n",
              "      <td>2000.0</td>\n",
              "      <td>1.0</td>\n",
              "    </tr>\n",
              "  </tbody>\n",
              "</table>\n",
              "<p>1514893 rows × 6 columns</p>\n",
              "</div>\n",
              "      <button class=\"colab-df-convert\" onclick=\"convertToInteractive('df-c381ef06-f692-400e-8cd8-61f34100b674')\"\n",
              "              title=\"Convert this dataframe to an interactive table.\"\n",
              "              style=\"display:none;\">\n",
              "        \n",
              "  <svg xmlns=\"http://www.w3.org/2000/svg\" height=\"24px\"viewBox=\"0 0 24 24\"\n",
              "       width=\"24px\">\n",
              "    <path d=\"M0 0h24v24H0V0z\" fill=\"none\"/>\n",
              "    <path d=\"M18.56 5.44l.94 2.06.94-2.06 2.06-.94-2.06-.94-.94-2.06-.94 2.06-2.06.94zm-11 1L8.5 8.5l.94-2.06 2.06-.94-2.06-.94L8.5 2.5l-.94 2.06-2.06.94zm10 10l.94 2.06.94-2.06 2.06-.94-2.06-.94-.94-2.06-.94 2.06-2.06.94z\"/><path d=\"M17.41 7.96l-1.37-1.37c-.4-.4-.92-.59-1.43-.59-.52 0-1.04.2-1.43.59L10.3 9.45l-7.72 7.72c-.78.78-.78 2.05 0 2.83L4 21.41c.39.39.9.59 1.41.59.51 0 1.02-.2 1.41-.59l7.78-7.78 2.81-2.81c.8-.78.8-2.07 0-2.86zM5.41 20L4 18.59l7.72-7.72 1.47 1.35L5.41 20z\"/>\n",
              "  </svg>\n",
              "      </button>\n",
              "      \n",
              "  <style>\n",
              "    .colab-df-container {\n",
              "      display:flex;\n",
              "      flex-wrap:wrap;\n",
              "      gap: 12px;\n",
              "    }\n",
              "\n",
              "    .colab-df-convert {\n",
              "      background-color: #E8F0FE;\n",
              "      border: none;\n",
              "      border-radius: 50%;\n",
              "      cursor: pointer;\n",
              "      display: none;\n",
              "      fill: #1967D2;\n",
              "      height: 32px;\n",
              "      padding: 0 0 0 0;\n",
              "      width: 32px;\n",
              "    }\n",
              "\n",
              "    .colab-df-convert:hover {\n",
              "      background-color: #E2EBFA;\n",
              "      box-shadow: 0px 1px 2px rgba(60, 64, 67, 0.3), 0px 1px 3px 1px rgba(60, 64, 67, 0.15);\n",
              "      fill: #174EA6;\n",
              "    }\n",
              "\n",
              "    [theme=dark] .colab-df-convert {\n",
              "      background-color: #3B4455;\n",
              "      fill: #D2E3FC;\n",
              "    }\n",
              "\n",
              "    [theme=dark] .colab-df-convert:hover {\n",
              "      background-color: #434B5C;\n",
              "      box-shadow: 0px 1px 3px 1px rgba(0, 0, 0, 0.15);\n",
              "      filter: drop-shadow(0px 1px 2px rgba(0, 0, 0, 0.3));\n",
              "      fill: #FFFFFF;\n",
              "    }\n",
              "  </style>\n",
              "\n",
              "      <script>\n",
              "        const buttonEl =\n",
              "          document.querySelector('#df-c381ef06-f692-400e-8cd8-61f34100b674 button.colab-df-convert');\n",
              "        buttonEl.style.display =\n",
              "          google.colab.kernel.accessAllowed ? 'block' : 'none';\n",
              "\n",
              "        async function convertToInteractive(key) {\n",
              "          const element = document.querySelector('#df-c381ef06-f692-400e-8cd8-61f34100b674');\n",
              "          const dataTable =\n",
              "            await google.colab.kernel.invokeFunction('convertToInteractive',\n",
              "                                                     [key], {});\n",
              "          if (!dataTable) return;\n",
              "\n",
              "          const docLinkHtml = 'Like what you see? Visit the ' +\n",
              "            '<a target=\"_blank\" href=https://colab.research.google.com/notebooks/data_table.ipynb>data table notebook</a>'\n",
              "            + ' to learn more about interactive tables.';\n",
              "          element.innerHTML = '';\n",
              "          dataTable['output_type'] = 'display_data';\n",
              "          await google.colab.output.renderOutput(dataTable, element);\n",
              "          const docLink = document.createElement('div');\n",
              "          docLink.innerHTML = docLinkHtml;\n",
              "          element.appendChild(docLink);\n",
              "        }\n",
              "      </script>\n",
              "    </div>\n",
              "  </div>\n",
              "  "
            ]
          },
          "metadata": {},
          "execution_count": 8
        }
      ]
    },
    {
      "cell_type": "code",
      "source": [
        "df_buy_compact.rct_no.value_counts(ascending=True)"
      ],
      "metadata": {
        "id": "CdcGgNpMciL_",
        "colab": {
          "base_uri": "https://localhost:8080/"
        },
        "outputId": "d8aab767-f431-463d-e283-5ec5a86275ce"
      },
      "execution_count": null,
      "outputs": [
        {
          "output_type": "execute_result",
          "data": {
            "text/plain": [
              "20122713C012328716    1\n",
              "A02287651320          1\n",
              "A01321005696          1\n",
              "A03067202398          1\n",
              "21082717C014569969    1\n",
              "                     ..\n",
              "21050114D024187398    1\n",
              "A01157504508          1\n",
              "A01157544637          1\n",
              "A01157646982          1\n",
              "A04128958050          1\n",
              "Name: rct_no, Length: 1514893, dtype: int64"
            ]
          },
          "metadata": {},
          "execution_count": 10
        }
      ]
    },
    {
      "cell_type": "code",
      "source": [
        "df_2021 = df_buy_compact.query('buy_dt >= \"2021-01-01 00:00:00\"')\n",
        "df_2021"
      ],
      "metadata": {
        "id": "UyRpAmpQcke1",
        "colab": {
          "base_uri": "https://localhost:8080/",
          "height": 455
        },
        "outputId": "adfa5643-23c7-41c6-ddab-566e5f2b6b79"
      },
      "execution_count": null,
      "outputs": [
        {
          "output_type": "execute_result",
          "data": {
            "text/plain": [
              "                           cust        rct_no  chnl_dv cop_c    buy_am  buy_ct\n",
              "buy_dt                                                                        \n",
              "2021-01-01 00:00:00  M296393297  E06000103150      2.0   A06   12900.0     1.0\n",
              "2021-01-01 00:00:00  M978764630  E02000052541      2.0   A02  444800.0     2.0\n",
              "2021-01-01 00:00:00  M102283139  E02000055173      2.0   A02    9360.0     2.0\n",
              "2021-01-01 00:00:00  M296393297  E06000106717      2.0   A06   34300.0     3.0\n",
              "2021-01-01 00:00:00  M102283139  E06000100696      2.0   A06   32900.0     1.0\n",
              "...                         ...           ...      ...   ...       ...     ...\n",
              "2021-12-31 23:00:00  M209126885  A04129059539      1.0   A04    5000.0     2.0\n",
              "2021-12-31 23:00:00  M182645944  E06052117103      2.0   A06  289000.0     1.0\n",
              "2021-12-31 23:00:00  M452775982  A04129053601      1.0   A04    7700.0     3.0\n",
              "2021-12-31 23:00:00  M562823758  A04128987327      1.0   A04    9000.0     2.0\n",
              "2021-12-31 23:00:00  M629230802  A04128958050      1.0   A04    2000.0     1.0\n",
              "\n",
              "[1514836 rows x 6 columns]"
            ],
            "text/html": [
              "\n",
              "  <div id=\"df-a980e638-eb98-4a18-a5a7-24fc5dbc5075\">\n",
              "    <div class=\"colab-df-container\">\n",
              "      <div>\n",
              "<style scoped>\n",
              "    .dataframe tbody tr th:only-of-type {\n",
              "        vertical-align: middle;\n",
              "    }\n",
              "\n",
              "    .dataframe tbody tr th {\n",
              "        vertical-align: top;\n",
              "    }\n",
              "\n",
              "    .dataframe thead th {\n",
              "        text-align: right;\n",
              "    }\n",
              "</style>\n",
              "<table border=\"1\" class=\"dataframe\">\n",
              "  <thead>\n",
              "    <tr style=\"text-align: right;\">\n",
              "      <th></th>\n",
              "      <th>cust</th>\n",
              "      <th>rct_no</th>\n",
              "      <th>chnl_dv</th>\n",
              "      <th>cop_c</th>\n",
              "      <th>buy_am</th>\n",
              "      <th>buy_ct</th>\n",
              "    </tr>\n",
              "    <tr>\n",
              "      <th>buy_dt</th>\n",
              "      <th></th>\n",
              "      <th></th>\n",
              "      <th></th>\n",
              "      <th></th>\n",
              "      <th></th>\n",
              "      <th></th>\n",
              "    </tr>\n",
              "  </thead>\n",
              "  <tbody>\n",
              "    <tr>\n",
              "      <th>2021-01-01 00:00:00</th>\n",
              "      <td>M296393297</td>\n",
              "      <td>E06000103150</td>\n",
              "      <td>2.0</td>\n",
              "      <td>A06</td>\n",
              "      <td>12900.0</td>\n",
              "      <td>1.0</td>\n",
              "    </tr>\n",
              "    <tr>\n",
              "      <th>2021-01-01 00:00:00</th>\n",
              "      <td>M978764630</td>\n",
              "      <td>E02000052541</td>\n",
              "      <td>2.0</td>\n",
              "      <td>A02</td>\n",
              "      <td>444800.0</td>\n",
              "      <td>2.0</td>\n",
              "    </tr>\n",
              "    <tr>\n",
              "      <th>2021-01-01 00:00:00</th>\n",
              "      <td>M102283139</td>\n",
              "      <td>E02000055173</td>\n",
              "      <td>2.0</td>\n",
              "      <td>A02</td>\n",
              "      <td>9360.0</td>\n",
              "      <td>2.0</td>\n",
              "    </tr>\n",
              "    <tr>\n",
              "      <th>2021-01-01 00:00:00</th>\n",
              "      <td>M296393297</td>\n",
              "      <td>E06000106717</td>\n",
              "      <td>2.0</td>\n",
              "      <td>A06</td>\n",
              "      <td>34300.0</td>\n",
              "      <td>3.0</td>\n",
              "    </tr>\n",
              "    <tr>\n",
              "      <th>2021-01-01 00:00:00</th>\n",
              "      <td>M102283139</td>\n",
              "      <td>E06000100696</td>\n",
              "      <td>2.0</td>\n",
              "      <td>A06</td>\n",
              "      <td>32900.0</td>\n",
              "      <td>1.0</td>\n",
              "    </tr>\n",
              "    <tr>\n",
              "      <th>...</th>\n",
              "      <td>...</td>\n",
              "      <td>...</td>\n",
              "      <td>...</td>\n",
              "      <td>...</td>\n",
              "      <td>...</td>\n",
              "      <td>...</td>\n",
              "    </tr>\n",
              "    <tr>\n",
              "      <th>2021-12-31 23:00:00</th>\n",
              "      <td>M209126885</td>\n",
              "      <td>A04129059539</td>\n",
              "      <td>1.0</td>\n",
              "      <td>A04</td>\n",
              "      <td>5000.0</td>\n",
              "      <td>2.0</td>\n",
              "    </tr>\n",
              "    <tr>\n",
              "      <th>2021-12-31 23:00:00</th>\n",
              "      <td>M182645944</td>\n",
              "      <td>E06052117103</td>\n",
              "      <td>2.0</td>\n",
              "      <td>A06</td>\n",
              "      <td>289000.0</td>\n",
              "      <td>1.0</td>\n",
              "    </tr>\n",
              "    <tr>\n",
              "      <th>2021-12-31 23:00:00</th>\n",
              "      <td>M452775982</td>\n",
              "      <td>A04129053601</td>\n",
              "      <td>1.0</td>\n",
              "      <td>A04</td>\n",
              "      <td>7700.0</td>\n",
              "      <td>3.0</td>\n",
              "    </tr>\n",
              "    <tr>\n",
              "      <th>2021-12-31 23:00:00</th>\n",
              "      <td>M562823758</td>\n",
              "      <td>A04128987327</td>\n",
              "      <td>1.0</td>\n",
              "      <td>A04</td>\n",
              "      <td>9000.0</td>\n",
              "      <td>2.0</td>\n",
              "    </tr>\n",
              "    <tr>\n",
              "      <th>2021-12-31 23:00:00</th>\n",
              "      <td>M629230802</td>\n",
              "      <td>A04128958050</td>\n",
              "      <td>1.0</td>\n",
              "      <td>A04</td>\n",
              "      <td>2000.0</td>\n",
              "      <td>1.0</td>\n",
              "    </tr>\n",
              "  </tbody>\n",
              "</table>\n",
              "<p>1514836 rows × 6 columns</p>\n",
              "</div>\n",
              "      <button class=\"colab-df-convert\" onclick=\"convertToInteractive('df-a980e638-eb98-4a18-a5a7-24fc5dbc5075')\"\n",
              "              title=\"Convert this dataframe to an interactive table.\"\n",
              "              style=\"display:none;\">\n",
              "        \n",
              "  <svg xmlns=\"http://www.w3.org/2000/svg\" height=\"24px\"viewBox=\"0 0 24 24\"\n",
              "       width=\"24px\">\n",
              "    <path d=\"M0 0h24v24H0V0z\" fill=\"none\"/>\n",
              "    <path d=\"M18.56 5.44l.94 2.06.94-2.06 2.06-.94-2.06-.94-.94-2.06-.94 2.06-2.06.94zm-11 1L8.5 8.5l.94-2.06 2.06-.94-2.06-.94L8.5 2.5l-.94 2.06-2.06.94zm10 10l.94 2.06.94-2.06 2.06-.94-2.06-.94-.94-2.06-.94 2.06-2.06.94z\"/><path d=\"M17.41 7.96l-1.37-1.37c-.4-.4-.92-.59-1.43-.59-.52 0-1.04.2-1.43.59L10.3 9.45l-7.72 7.72c-.78.78-.78 2.05 0 2.83L4 21.41c.39.39.9.59 1.41.59.51 0 1.02-.2 1.41-.59l7.78-7.78 2.81-2.81c.8-.78.8-2.07 0-2.86zM5.41 20L4 18.59l7.72-7.72 1.47 1.35L5.41 20z\"/>\n",
              "  </svg>\n",
              "      </button>\n",
              "      \n",
              "  <style>\n",
              "    .colab-df-container {\n",
              "      display:flex;\n",
              "      flex-wrap:wrap;\n",
              "      gap: 12px;\n",
              "    }\n",
              "\n",
              "    .colab-df-convert {\n",
              "      background-color: #E8F0FE;\n",
              "      border: none;\n",
              "      border-radius: 50%;\n",
              "      cursor: pointer;\n",
              "      display: none;\n",
              "      fill: #1967D2;\n",
              "      height: 32px;\n",
              "      padding: 0 0 0 0;\n",
              "      width: 32px;\n",
              "    }\n",
              "\n",
              "    .colab-df-convert:hover {\n",
              "      background-color: #E2EBFA;\n",
              "      box-shadow: 0px 1px 2px rgba(60, 64, 67, 0.3), 0px 1px 3px 1px rgba(60, 64, 67, 0.15);\n",
              "      fill: #174EA6;\n",
              "    }\n",
              "\n",
              "    [theme=dark] .colab-df-convert {\n",
              "      background-color: #3B4455;\n",
              "      fill: #D2E3FC;\n",
              "    }\n",
              "\n",
              "    [theme=dark] .colab-df-convert:hover {\n",
              "      background-color: #434B5C;\n",
              "      box-shadow: 0px 1px 3px 1px rgba(0, 0, 0, 0.15);\n",
              "      filter: drop-shadow(0px 1px 2px rgba(0, 0, 0, 0.3));\n",
              "      fill: #FFFFFF;\n",
              "    }\n",
              "  </style>\n",
              "\n",
              "      <script>\n",
              "        const buttonEl =\n",
              "          document.querySelector('#df-a980e638-eb98-4a18-a5a7-24fc5dbc5075 button.colab-df-convert');\n",
              "        buttonEl.style.display =\n",
              "          google.colab.kernel.accessAllowed ? 'block' : 'none';\n",
              "\n",
              "        async function convertToInteractive(key) {\n",
              "          const element = document.querySelector('#df-a980e638-eb98-4a18-a5a7-24fc5dbc5075');\n",
              "          const dataTable =\n",
              "            await google.colab.kernel.invokeFunction('convertToInteractive',\n",
              "                                                     [key], {});\n",
              "          if (!dataTable) return;\n",
              "\n",
              "          const docLinkHtml = 'Like what you see? Visit the ' +\n",
              "            '<a target=\"_blank\" href=https://colab.research.google.com/notebooks/data_table.ipynb>data table notebook</a>'\n",
              "            + ' to learn more about interactive tables.';\n",
              "          element.innerHTML = '';\n",
              "          dataTable['output_type'] = 'display_data';\n",
              "          await google.colab.output.renderOutput(dataTable, element);\n",
              "          const docLink = document.createElement('div');\n",
              "          docLink.innerHTML = docLinkHtml;\n",
              "          element.appendChild(docLink);\n",
              "        }\n",
              "      </script>\n",
              "    </div>\n",
              "  </div>\n",
              "  "
            ]
          },
          "metadata": {},
          "execution_count": 33
        }
      ]
    },
    {
      "cell_type": "markdown",
      "source": [
        "## df_pdde\n",
        "\n",
        "클렌징 결과\n",
        "  - 전체 4,381,743 건\n",
        "  - 클렌징 후 1,266,589 건"
      ],
      "metadata": {
        "id": "rDl1xDVx9mSJ"
      }
    },
    {
      "cell_type": "code",
      "source": [
        "print((df_pdde.groupby(['cust', 'rct_no']).chnl_dv.nunique() != 1).sum())\n",
        "print((df_pdde.groupby(['cust', 'rct_no']).cop_c.nunique() != 1).sum())"
      ],
      "metadata": {
        "colab": {
          "base_uri": "https://localhost:8080/"
        },
        "id": "fMSFWA3z9Z2E",
        "outputId": "a69f0190-80b0-460c-c802-cf84c8c6c8b8"
      },
      "execution_count": null,
      "outputs": [
        {
          "output_type": "stream",
          "name": "stdout",
          "text": [
            "0\n",
            "0\n"
          ]
        }
      ]
    },
    {
      "cell_type": "code",
      "source": [
        "df_pdde_compact = df_pdde.reset_index().groupby(['cust', 'rct_no'], as_index=False).agg({'buy_dt':'first', 'chnl_dv':'first', 'cop_c':'first', 'buy_am':'sum', 'buy_ct':'sum'}).set_index('buy_dt').sort_index()"
      ],
      "metadata": {
        "id": "nX86UNmh9d8C"
      },
      "execution_count": null,
      "outputs": []
    },
    {
      "cell_type": "code",
      "source": [
        "df_pdde_compact.rct_no.value_counts(ascending=True)"
      ],
      "metadata": {
        "colab": {
          "base_uri": "https://localhost:8080/"
        },
        "id": "AWnC1QPb9fws",
        "outputId": "293e0282-0fc2-4aed-c540-91da791a379a"
      },
      "execution_count": null,
      "outputs": [
        {
          "output_type": "execute_result",
          "data": {
            "text/plain": [
              "A04000035215    1\n",
              "A02121768586    1\n",
              "A02115620503    1\n",
              "A03136051256    1\n",
              "A02178523983    1\n",
              "               ..\n",
              "A01153601256    1\n",
              "A03026529338    1\n",
              "E05000325375    1\n",
              "A04031981572    1\n",
              "E06052118403    1\n",
              "Name: rct_no, Length: 1266589, dtype: int64"
            ]
          },
          "metadata": {},
          "execution_count": 36
        }
      ]
    },
    {
      "cell_type": "markdown",
      "source": [
        "# 문제정의 (1) - 1"
      ],
      "metadata": {
        "id": "UPXN6pN472u8"
      }
    },
    {
      "cell_type": "code",
      "source": [
        "#월별 구매자수\n",
        "df_2021.resample('M').cust.nunique()"
      ],
      "metadata": {
        "colab": {
          "base_uri": "https://localhost:8080/"
        },
        "id": "CjFdApfr4wR5",
        "outputId": "5cc5b014-933a-4a98-bf8b-555a512ba81c"
      },
      "execution_count": null,
      "outputs": [
        {
          "output_type": "execute_result",
          "data": {
            "text/plain": [
              "buy_dt\n",
              "2021-01-31    19394\n",
              "2021-02-28    20002\n",
              "2021-03-31    20539\n",
              "2021-04-30    20626\n",
              "2021-05-31    21358\n",
              "2021-06-30    20595\n",
              "2021-07-31    20786\n",
              "2021-08-31    20805\n",
              "2021-09-30    20433\n",
              "2021-10-31    20807\n",
              "2021-11-30    20087\n",
              "2021-12-31    20553\n",
              "Freq: M, Name: cust, dtype: int64"
            ]
          },
          "metadata": {},
          "execution_count": 37
        }
      ]
    },
    {
      "cell_type": "code",
      "source": [
        "#월별 구매자수-그래프\n",
        "df_2021.resample('M').cust.nunique().plot()\n",
        "plt.title('월별 구매자수')"
      ],
      "metadata": {
        "colab": {
          "base_uri": "https://localhost:8080/",
          "height": 438
        },
        "id": "Wu6pyhDvNO_K",
        "outputId": "27e311d1-29b6-4574-ba53-5507ddc99ad0"
      },
      "execution_count": null,
      "outputs": [
        {
          "output_type": "execute_result",
          "data": {
            "text/plain": [
              "Text(0.5, 1.0, '월별 구매자수')"
            ]
          },
          "metadata": {},
          "execution_count": 38
        },
        {
          "output_type": "display_data",
          "data": {
            "text/plain": [
              "<Figure size 720x432 with 1 Axes>"
            ],
            "image/png": "[encoded data removed]"
          },
          "metadata": {}
        }
      ]
    },
    {
      "cell_type": "code",
      "source": [
        "df_2021.resample('M').buy_am.sum()"
      ],
      "metadata": {
        "colab": {
          "base_uri": "https://localhost:8080/"
        },
        "id": "zsjpWV0o8dKO",
        "outputId": "857681f1-1d75-4912-b78d-2d6258b8b91b"
      },
      "execution_count": null,
      "outputs": [
        {
          "output_type": "execute_result",
          "data": {
            "text/plain": [
              "buy_dt\n",
              "2021-01-31    8.527396e+09\n",
              "2021-02-28    8.511855e+09\n",
              "2021-03-31    8.966854e+09\n",
              "2021-04-30    9.055123e+09\n",
              "2021-05-31    1.012179e+10\n",
              "2021-06-30    7.790165e+09\n",
              "2021-07-31    7.732687e+09\n",
              "2021-08-31    8.099217e+09\n",
              "2021-09-30    8.760359e+09\n",
              "2021-10-31    9.355846e+09\n",
              "2021-11-30    8.682425e+09\n",
              "2021-12-31    8.890422e+09\n",
              "Freq: M, Name: buy_am, dtype: float64"
            ]
          },
          "metadata": {},
          "execution_count": 39
        }
      ]
    },
    {
      "cell_type": "code",
      "source": [
        "#월별 매출액\n",
        "df_2021.resample('M').buy_am.sum().plot()\n",
        "plt.title('월별 매출액')"
      ],
      "metadata": {
        "colab": {
          "base_uri": "https://localhost:8080/",
          "height": 438
        },
        "id": "3ygZ1xVgMYK5",
        "outputId": "fca42c3a-fa4d-400c-803a-b994c19c9bdf"
      },
      "execution_count": null,
      "outputs": [
        {
          "output_type": "execute_result",
          "data": {
            "text/plain": [
              "Text(0.5, 1.0, '월별 매출액')"
            ]
          },
          "metadata": {},
          "execution_count": 40
        },
        {
          "output_type": "display_data",
          "data": {
            "text/plain": [
              "<Figure size 720x432 with 1 Axes>"
            ],
            "image/png": "[encoded data removed]"
          },
          "metadata": {}
        }
      ]
    },
    {
      "cell_type": "code",
      "source": [
        "#월별 구매당 주문 금액 추이\n",
        "df_2021.resample('M').buy_am.mean()"
      ],
      "metadata": {
        "colab": {
          "base_uri": "https://localhost:8080/"
        },
        "id": "AXNFvOCm4dhW",
        "outputId": "3ea4a71c-e1ef-40ad-c517-bba0bdce5909"
      },
      "execution_count": null,
      "outputs": [
        {
          "output_type": "execute_result",
          "data": {
            "text/plain": [
              "buy_dt\n",
              "2021-01-31    73837.936989\n",
              "2021-02-28    71519.780622\n",
              "2021-03-31    67625.376874\n",
              "2021-04-30    66941.594608\n",
              "2021-05-31    70227.317806\n",
              "2021-06-30    61978.700917\n",
              "2021-07-31    59392.203062\n",
              "2021-08-31    64271.847201\n",
              "2021-09-30    72653.045473\n",
              "2021-10-31    72339.758320\n",
              "2021-11-30    76550.421492\n",
              "2021-12-31    72217.615778\n",
              "Freq: M, Name: buy_am, dtype: float64"
            ]
          },
          "metadata": {},
          "execution_count": 41
        }
      ]
    },
    {
      "cell_type": "code",
      "source": [
        "#월별 구매당 주문 금액 추이\n",
        "df_2021.resample('M').buy_am.mean().plot()\n",
        "plt.title('월별 구매당 주문 금액추이')"
      ],
      "metadata": {
        "colab": {
          "base_uri": "https://localhost:8080/",
          "height": 438
        },
        "id": "rn2gOL5cMval",
        "outputId": "9ba4e7be-8a52-4d8b-dab5-11fd45ea38ac"
      },
      "execution_count": null,
      "outputs": [
        {
          "output_type": "execute_result",
          "data": {
            "text/plain": [
              "Text(0.5, 1.0, '월별 구매당 주문 금액추이')"
            ]
          },
          "metadata": {},
          "execution_count": 42
        },
        {
          "output_type": "display_data",
          "data": {
            "text/plain": [
              "<Figure size 720x432 with 1 Axes>"
            ],
            "image/png": "[encoded data removed]"
          },
          "metadata": {}
        }
      ]
    },
    {
      "cell_type": "markdown",
      "source": [
        "# 문제정의 (1) - 2\n",
        "EDA - 전체 기간동안 1인당 구매 건수"
      ],
      "metadata": {
        "id": "X2voZoXRsVYc"
      }
    },
    {
      "cell_type": "code",
      "source": [
        "df_crm_raw = (df_2021.reset_index().groupby(['rct_no'])\n",
        "         .agg({'cust':'first', 'buy_dt':'first', 'buy_am':'first'}).reset_index().set_index('buy_dt'))\n",
        "df_crm_raw.head(3)"
      ],
      "metadata": {
        "id": "xDCod9zcSw2C",
        "colab": {
          "base_uri": "https://localhost:8080/",
          "height": 175
        },
        "outputId": "fd161a1d-8083-4b15-a3e0-81a623b64df0"
      },
      "execution_count": null,
      "outputs": [
        {
          "output_type": "execute_result",
          "data": {
            "text/plain": [
              "                                 rct_no        cust   buy_am\n",
              "buy_dt                                                      \n",
              "2021-01-01 00:00:00  21010100E012237934  M418948906   3874.0\n",
              "2021-01-01 01:00:00  21010101C014916264  M249037492  18000.0\n",
              "2021-01-01 01:00:00  21010101E012118029  M610884729  12030.0"
            ],
            "text/html": [
              "\n",
              "  <div id=\"df-af72c1b4-9701-45cd-a536-bc5516a96a7b\">\n",
              "    <div class=\"colab-df-container\">\n",
              "      <div>\n",
              "<style scoped>\n",
              "    .dataframe tbody tr th:only-of-type {\n",
              "        vertical-align: middle;\n",
              "    }\n",
              "\n",
              "    .dataframe tbody tr th {\n",
              "        vertical-align: top;\n",
              "    }\n",
              "\n",
              "    .dataframe thead th {\n",
              "        text-align: right;\n",
              "    }\n",
              "</style>\n",
              "<table border=\"1\" class=\"dataframe\">\n",
              "  <thead>\n",
              "    <tr style=\"text-align: right;\">\n",
              "      <th></th>\n",
              "      <th>rct_no</th>\n",
              "      <th>cust</th>\n",
              "      <th>buy_am</th>\n",
              "    </tr>\n",
              "    <tr>\n",
              "      <th>buy_dt</th>\n",
              "      <th></th>\n",
              "      <th></th>\n",
              "      <th></th>\n",
              "    </tr>\n",
              "  </thead>\n",
              "  <tbody>\n",
              "    <tr>\n",
              "      <th>2021-01-01 00:00:00</th>\n",
              "      <td>21010100E012237934</td>\n",
              "      <td>M418948906</td>\n",
              "      <td>3874.0</td>\n",
              "    </tr>\n",
              "    <tr>\n",
              "      <th>2021-01-01 01:00:00</th>\n",
              "      <td>21010101C014916264</td>\n",
              "      <td>M249037492</td>\n",
              "      <td>18000.0</td>\n",
              "    </tr>\n",
              "    <tr>\n",
              "      <th>2021-01-01 01:00:00</th>\n",
              "      <td>21010101E012118029</td>\n",
              "      <td>M610884729</td>\n",
              "      <td>12030.0</td>\n",
              "    </tr>\n",
              "  </tbody>\n",
              "</table>\n",
              "</div>\n",
              "      <button class=\"colab-df-convert\" onclick=\"convertToInteractive('df-af72c1b4-9701-45cd-a536-bc5516a96a7b')\"\n",
              "              title=\"Convert this dataframe to an interactive table.\"\n",
              "              style=\"display:none;\">\n",
              "        \n",
              "  <svg xmlns=\"http://www.w3.org/2000/svg\" height=\"24px\"viewBox=\"0 0 24 24\"\n",
              "       width=\"24px\">\n",
              "    <path d=\"M0 0h24v24H0V0z\" fill=\"none\"/>\n",
              "    <path d=\"M18.56 5.44l.94 2.06.94-2.06 2.06-.94-2.06-.94-.94-2.06-.94 2.06-2.06.94zm-11 1L8.5 8.5l.94-2.06 2.06-.94-2.06-.94L8.5 2.5l-.94 2.06-2.06.94zm10 10l.94 2.06.94-2.06 2.06-.94-2.06-.94-.94-2.06-.94 2.06-2.06.94z\"/><path d=\"M17.41 7.96l-1.37-1.37c-.4-.4-.92-.59-1.43-.59-.52 0-1.04.2-1.43.59L10.3 9.45l-7.72 7.72c-.78.78-.78 2.05 0 2.83L4 21.41c.39.39.9.59 1.41.59.51 0 1.02-.2 1.41-.59l7.78-7.78 2.81-2.81c.8-.78.8-2.07 0-2.86zM5.41 20L4 18.59l7.72-7.72 1.47 1.35L5.41 20z\"/>\n",
              "  </svg>\n",
              "      </button>\n",
              "      \n",
              "  <style>\n",
              "    .colab-df-container {\n",
              "      display:flex;\n",
              "      flex-wrap:wrap;\n",
              "      gap: 12px;\n",
              "    }\n",
              "\n",
              "    .colab-df-convert {\n",
              "      background-color: #E8F0FE;\n",
              "      border: none;\n",
              "      border-radius: 50%;\n",
              "      cursor: pointer;\n",
              "      display: none;\n",
              "      fill: #1967D2;\n",
              "      height: 32px;\n",
              "      padding: 0 0 0 0;\n",
              "      width: 32px;\n",
              "    }\n",
              "\n",
              "    .colab-df-convert:hover {\n",
              "      background-color: #E2EBFA;\n",
              "      box-shadow: 0px 1px 2px rgba(60, 64, 67, 0.3), 0px 1px 3px 1px rgba(60, 64, 67, 0.15);\n",
              "      fill: #174EA6;\n",
              "    }\n",
              "\n",
              "    [theme=dark] .colab-df-convert {\n",
              "      background-color: #3B4455;\n",
              "      fill: #D2E3FC;\n",
              "    }\n",
              "\n",
              "    [theme=dark] .colab-df-convert:hover {\n",
              "      background-color: #434B5C;\n",
              "      box-shadow: 0px 1px 3px 1px rgba(0, 0, 0, 0.15);\n",
              "      filter: drop-shadow(0px 1px 2px rgba(0, 0, 0, 0.3));\n",
              "      fill: #FFFFFF;\n",
              "    }\n",
              "  </style>\n",
              "\n",
              "      <script>\n",
              "        const buttonEl =\n",
              "          document.querySelector('#df-af72c1b4-9701-45cd-a536-bc5516a96a7b button.colab-df-convert');\n",
              "        buttonEl.style.display =\n",
              "          google.colab.kernel.accessAllowed ? 'block' : 'none';\n",
              "\n",
              "        async function convertToInteractive(key) {\n",
              "          const element = document.querySelector('#df-af72c1b4-9701-45cd-a536-bc5516a96a7b');\n",
              "          const dataTable =\n",
              "            await google.colab.kernel.invokeFunction('convertToInteractive',\n",
              "                                                     [key], {});\n",
              "          if (!dataTable) return;\n",
              "\n",
              "          const docLinkHtml = 'Like what you see? Visit the ' +\n",
              "            '<a target=\"_blank\" href=https://colab.research.google.com/notebooks/data_table.ipynb>data table notebook</a>'\n",
              "            + ' to learn more about interactive tables.';\n",
              "          element.innerHTML = '';\n",
              "          dataTable['output_type'] = 'display_data';\n",
              "          await google.colab.output.renderOutput(dataTable, element);\n",
              "          const docLink = document.createElement('div');\n",
              "          docLink.innerHTML = docLinkHtml;\n",
              "          element.appendChild(docLink);\n",
              "        }\n",
              "      </script>\n",
              "    </div>\n",
              "  </div>\n",
              "  "
            ]
          },
          "metadata": {},
          "execution_count": 48
        }
      ]
    },
    {
      "cell_type": "code",
      "source": [
        "df_crm = (df_crm_raw.groupby(['cust'])\n",
        "          .agg({'rct_no': lambda num: num.nunique(), 'buy_am':'sum'}))\n",
        "df_crm.columns=['frequency', 'monetary']\n",
        "df_crm.head(3)"
      ],
      "metadata": {
        "colab": {
          "base_uri": "https://localhost:8080/",
          "height": 175
        },
        "id": "J4pAdjoDTe8H",
        "outputId": "c4e53cf9-16bf-49e7-9ac9-6762bb2cf35d"
      },
      "execution_count": null,
      "outputs": [
        {
          "output_type": "execute_result",
          "data": {
            "text/plain": [
              "            frequency    monetary\n",
              "cust                             \n",
              "M000034966         13    616240.0\n",
              "M000059535          1     46000.0\n",
              "M000136117         85  27559530.0"
            ],
            "text/html": [
              "\n",
              "  <div id=\"df-61355fa6-b862-4c0d-a85b-3bb8248edc6b\">\n",
              "    <div class=\"colab-df-container\">\n",
              "      <div>\n",
              "<style scoped>\n",
              "    .dataframe tbody tr th:only-of-type {\n",
              "        vertical-align: middle;\n",
              "    }\n",
              "\n",
              "    .dataframe tbody tr th {\n",
              "        vertical-align: top;\n",
              "    }\n",
              "\n",
              "    .dataframe thead th {\n",
              "        text-align: right;\n",
              "    }\n",
              "</style>\n",
              "<table border=\"1\" class=\"dataframe\">\n",
              "  <thead>\n",
              "    <tr style=\"text-align: right;\">\n",
              "      <th></th>\n",
              "      <th>frequency</th>\n",
              "      <th>monetary</th>\n",
              "    </tr>\n",
              "    <tr>\n",
              "      <th>cust</th>\n",
              "      <th></th>\n",
              "      <th></th>\n",
              "    </tr>\n",
              "  </thead>\n",
              "  <tbody>\n",
              "    <tr>\n",
              "      <th>M000034966</th>\n",
              "      <td>13</td>\n",
              "      <td>616240.0</td>\n",
              "    </tr>\n",
              "    <tr>\n",
              "      <th>M000059535</th>\n",
              "      <td>1</td>\n",
              "      <td>46000.0</td>\n",
              "    </tr>\n",
              "    <tr>\n",
              "      <th>M000136117</th>\n",
              "      <td>85</td>\n",
              "      <td>27559530.0</td>\n",
              "    </tr>\n",
              "  </tbody>\n",
              "</table>\n",
              "</div>\n",
              "      <button class=\"colab-df-convert\" onclick=\"convertToInteractive('df-61355fa6-b862-4c0d-a85b-3bb8248edc6b')\"\n",
              "              title=\"Convert this dataframe to an interactive table.\"\n",
              "              style=\"display:none;\">\n",
              "        \n",
              "  <svg xmlns=\"http://www.w3.org/2000/svg\" height=\"24px\"viewBox=\"0 0 24 24\"\n",
              "       width=\"24px\">\n",
              "    <path d=\"M0 0h24v24H0V0z\" fill=\"none\"/>\n",
              "    <path d=\"M18.56 5.44l.94 2.06.94-2.06 2.06-.94-2.06-.94-.94-2.06-.94 2.06-2.06.94zm-11 1L8.5 8.5l.94-2.06 2.06-.94-2.06-.94L8.5 2.5l-.94 2.06-2.06.94zm10 10l.94 2.06.94-2.06 2.06-.94-2.06-.94-.94-2.06-.94 2.06-2.06.94z\"/><path d=\"M17.41 7.96l-1.37-1.37c-.4-.4-.92-.59-1.43-.59-.52 0-1.04.2-1.43.59L10.3 9.45l-7.72 7.72c-.78.78-.78 2.05 0 2.83L4 21.41c.39.39.9.59 1.41.59.51 0 1.02-.2 1.41-.59l7.78-7.78 2.81-2.81c.8-.78.8-2.07 0-2.86zM5.41 20L4 18.59l7.72-7.72 1.47 1.35L5.41 20z\"/>\n",
              "  </svg>\n",
              "      </button>\n",
              "      \n",
              "  <style>\n",
              "    .colab-df-container {\n",
              "      display:flex;\n",
              "      flex-wrap:wrap;\n",
              "      gap: 12px;\n",
              "    }\n",
              "\n",
              "    .colab-df-convert {\n",
              "      background-color: #E8F0FE;\n",
              "      border: none;\n",
              "      border-radius: 50%;\n",
              "      cursor: pointer;\n",
              "      display: none;\n",
              "      fill: #1967D2;\n",
              "      height: 32px;\n",
              "      padding: 0 0 0 0;\n",
              "      width: 32px;\n",
              "    }\n",
              "\n",
              "    .colab-df-convert:hover {\n",
              "      background-color: #E2EBFA;\n",
              "      box-shadow: 0px 1px 2px rgba(60, 64, 67, 0.3), 0px 1px 3px 1px rgba(60, 64, 67, 0.15);\n",
              "      fill: #174EA6;\n",
              "    }\n",
              "\n",
              "    [theme=dark] .colab-df-convert {\n",
              "      background-color: #3B4455;\n",
              "      fill: #D2E3FC;\n",
              "    }\n",
              "\n",
              "    [theme=dark] .colab-df-convert:hover {\n",
              "      background-color: #434B5C;\n",
              "      box-shadow: 0px 1px 3px 1px rgba(0, 0, 0, 0.15);\n",
              "      filter: drop-shadow(0px 1px 2px rgba(0, 0, 0, 0.3));\n",
              "      fill: #FFFFFF;\n",
              "    }\n",
              "  </style>\n",
              "\n",
              "      <script>\n",
              "        const buttonEl =\n",
              "          document.querySelector('#df-61355fa6-b862-4c0d-a85b-3bb8248edc6b button.colab-df-convert');\n",
              "        buttonEl.style.display =\n",
              "          google.colab.kernel.accessAllowed ? 'block' : 'none';\n",
              "\n",
              "        async function convertToInteractive(key) {\n",
              "          const element = document.querySelector('#df-61355fa6-b862-4c0d-a85b-3bb8248edc6b');\n",
              "          const dataTable =\n",
              "            await google.colab.kernel.invokeFunction('convertToInteractive',\n",
              "                                                     [key], {});\n",
              "          if (!dataTable) return;\n",
              "\n",
              "          const docLinkHtml = 'Like what you see? Visit the ' +\n",
              "            '<a target=\"_blank\" href=https://colab.research.google.com/notebooks/data_table.ipynb>data table notebook</a>'\n",
              "            + ' to learn more about interactive tables.';\n",
              "          element.innerHTML = '';\n",
              "          dataTable['output_type'] = 'display_data';\n",
              "          await google.colab.output.renderOutput(dataTable, element);\n",
              "          const docLink = document.createElement('div');\n",
              "          docLink.innerHTML = docLinkHtml;\n",
              "          element.appendChild(docLink);\n",
              "        }\n",
              "      </script>\n",
              "    </div>\n",
              "  </div>\n",
              "  "
            ]
          },
          "metadata": {},
          "execution_count": 49
        }
      ]
    },
    {
      "cell_type": "code",
      "source": [
        "df_crm.frequency.describe([0.01, 0.25, 0.50, 0.75, 0.99])"
      ],
      "metadata": {
        "id": "Jb9KUSi2UH8E",
        "colab": {
          "base_uri": "https://localhost:8080/"
        },
        "outputId": "6649e533-b7d0-4472-8935-312f3b04eeca"
      },
      "execution_count": null,
      "outputs": [
        {
          "output_type": "execute_result",
          "data": {
            "text/plain": [
              "count    29756.000000\n",
              "mean        50.908590\n",
              "std         59.416786\n",
              "min          1.000000\n",
              "1%           1.000000\n",
              "25%         11.000000\n",
              "50%         34.000000\n",
              "75%         69.000000\n",
              "99%        248.000000\n",
              "max       3032.000000\n",
              "Name: frequency, dtype: float64"
            ]
          },
          "metadata": {},
          "execution_count": 50
        }
      ]
    },
    {
      "cell_type": "code",
      "source": [
        "print('한 번만 구매한 cust', len(df_crm[df_crm.frequency == 1]))"
      ],
      "metadata": {
        "id": "L9bRuWBET4KE",
        "colab": {
          "base_uri": "https://localhost:8080/"
        },
        "outputId": "1a493a06-684b-491b-9d49-e44ff48902d1"
      },
      "execution_count": null,
      "outputs": [
        {
          "output_type": "stream",
          "name": "stdout",
          "text": [
            "한 번만 구매한 cust 1908\n"
          ]
        }
      ]
    },
    {
      "cell_type": "code",
      "source": [
        "sns.distplot(df_crm['frequency'], bins=200)"
      ],
      "metadata": {
        "id": "fECS-38nUK9O",
        "colab": {
          "base_uri": "https://localhost:8080/",
          "height": 467
        },
        "outputId": "b8b742a6-ac87-421e-a688-52ccb6769de4"
      },
      "execution_count": null,
      "outputs": [
        {
          "output_type": "stream",
          "name": "stderr",
          "text": [
            "/usr/local/lib/python3.7/dist-packages/seaborn/distributions.py:2619: FutureWarning: `distplot` is a deprecated function and will be removed in a future version. Please adapt your code to use either `displot` (a figure-level function with similar flexibility) or `histplot` (an axes-level function for histograms).\n",
            "  warnings.warn(msg, FutureWarning)\n"
          ]
        },
        {
          "output_type": "execute_result",
          "data": {
            "text/plain": [
              "<matplotlib.axes._subplots.AxesSubplot at 0x7f820d52e0d0>"
            ]
          },
          "metadata": {},
          "execution_count": 52
        },
        {
          "output_type": "display_data",
          "data": {
            "text/plain": [
              "<Figure size 720x432 with 1 Axes>"
            ],
            "image/png": "[encoded data removed]"
          },
          "metadata": {}
        }
      ]
    },
    {
      "cell_type": "markdown",
      "source": [
        "# 문제 정의 (2)"
      ],
      "metadata": {
        "id": "ue8GmC_ItGrL"
      }
    },
    {
      "cell_type": "code",
      "source": [
        "# 월별 인당 구매 건수\n",
        "df_pdde_compact.resample('M').agg({\"cust\": lambda x: x.value_counts().mean()}).plot()"
      ],
      "metadata": {
        "colab": {
          "base_uri": "https://localhost:8080/",
          "height": 423
        },
        "id": "-f1iY_kYzVNZ",
        "outputId": "323a661d-36fc-4b6f-aa0a-1ca0fd27c615"
      },
      "execution_count": null,
      "outputs": [
        {
          "output_type": "execute_result",
          "data": {
            "text/plain": [
              "<matplotlib.axes._subplots.AxesSubplot at 0x7f820a48f990>"
            ]
          },
          "metadata": {},
          "execution_count": 53
        },
        {
          "output_type": "display_data",
          "data": {
            "text/plain": [
              "<Figure size 720x432 with 1 Axes>"
            ],
            "image/png": "[encoded data removed]"
          },
          "metadata": {}
        }
      ]
    },
    {
      "cell_type": "code",
      "source": [
        "# 월별 인당 구매 금액\n",
        "pd.Series({name:group.groupby(['cust']).buy_am.sum().mean() for name, group in df_pdde_compact.resample('M')}).plot()"
      ],
      "metadata": {
        "colab": {
          "base_uri": "https://localhost:8080/",
          "height": 408
        },
        "id": "yEA4IkeDzg8D",
        "outputId": "1fc030c1-4843-4fda-bd55-87dfcf979f9b"
      },
      "execution_count": null,
      "outputs": [
        {
          "output_type": "execute_result",
          "data": {
            "text/plain": [
              "<matplotlib.axes._subplots.AxesSubplot at 0x7f820a388190>"
            ]
          },
          "metadata": {},
          "execution_count": 55
        },
        {
          "output_type": "display_data",
          "data": {
            "text/plain": [
              "<Figure size 720x432 with 1 Axes>"
            ],
            "image/png": "[encoded data removed]"
          },
          "metadata": {}
        }
      ]
    },
    {
      "cell_type": "markdown",
      "source": [
        "# RFM 가중치 선정이유"
      ],
      "metadata": {
        "id": "aDpNvY00-pkH"
      }
    },
    {
      "cell_type": "markdown",
      "source": [
        "월별 매출액\n",
        "\n",
        "- 5월: 9,680,000,000 원"
      ],
      "metadata": {
        "id": "ukKD6TF4_Cvj"
      }
    },
    {
      "cell_type": "code",
      "source": [
        "df_pdde_compact.resample('M').buy_am.sum().plot()"
      ],
      "metadata": {
        "colab": {
          "base_uri": "https://localhost:8080/",
          "height": 435
        },
        "id": "SmyUlDVg-Hlc",
        "outputId": "8e8c9eef-f9ad-430e-c895-67382336f23f"
      },
      "execution_count": null,
      "outputs": [
        {
          "output_type": "execute_result",
          "data": {
            "text/plain": [
              "<matplotlib.axes._subplots.AxesSubplot at 0x7f820a2ce710>"
            ]
          },
          "metadata": {},
          "execution_count": 56
        },
        {
          "output_type": "display_data",
          "data": {
            "text/plain": [
              "<Figure size 720x432 with 1 Axes>"
            ],
            "image/png": "[encoded data removed]"
          },
          "metadata": {}
        }
      ]
    },
    {
      "cell_type": "markdown",
      "source": [
        "월별 구매당 주문 금액 추이\n",
        "\n",
        "- 8월 이후 크게 증가 (7월 68,000원 이던게 11월 89,000 초과)"
      ],
      "metadata": {
        "id": "mGkl4zVv_Jub"
      }
    },
    {
      "cell_type": "code",
      "source": [
        "df_pdde_compact.resample('M').buy_am.mean().plot()"
      ],
      "metadata": {
        "colab": {
          "base_uri": "https://localhost:8080/",
          "height": 423
        },
        "id": "dQ9oAmqs_ERQ",
        "outputId": "0c30de34-9975-47dd-e5dd-d8f87d77a0ad"
      },
      "execution_count": null,
      "outputs": [
        {
          "output_type": "execute_result",
          "data": {
            "text/plain": [
              "<matplotlib.axes._subplots.AxesSubplot at 0x7f820a2665d0>"
            ]
          },
          "metadata": {},
          "execution_count": 57
        },
        {
          "output_type": "display_data",
          "data": {
            "text/plain": [
              "<Figure size 720x432 with 1 Axes>"
            ],
            "image/png": "[encoded data removed]"
          },
          "metadata": {}
        }
      ]
    },
    {
      "cell_type": "markdown",
      "source": [
        "# LGBM 데이터셋에 제휴사 추가한 이유"
      ],
      "metadata": {
        "id": "2q-NdRE8AMV8"
      }
    },
    {
      "cell_type": "markdown",
      "source": [
        "## 상품구매정보 월별 구매 통계"
      ],
      "metadata": {
        "id": "QIn8O7KVAVns"
      }
    },
    {
      "cell_type": "markdown",
      "source": [
        "월별 유통사별 구매건수 추이\n",
        "\n",
        "- A04: 6월부터 비중이 갑자기 확대\n",
        "- A06: 6월 이후 비중 갑자기 축소"
      ],
      "metadata": {
        "id": "wLu1dXX7ATAw"
      }
    },
    {
      "cell_type": "code",
      "source": [
        "seq = []\n",
        "for name, group in r:\n",
        "    dic = group.cop_c.value_counts(normalize=True).to_dict()\n",
        "    dic.update({'dt':name})\n",
        "    seq.append(dic)\n",
        "\n",
        "pd.DataFrame.from_records(seq).set_index('dt')[[f'A0{i+1}' for i in range(6)]].plot.bar(stacked=True)"
      ],
      "metadata": {
        "colab": {
          "base_uri": "https://localhost:8080/",
          "height": 510
        },
        "id": "CBGf1O-4ARNJ",
        "outputId": "791959dc-0476-47cf-f41e-0701f24d7e49"
      },
      "execution_count": null,
      "outputs": [
        {
          "output_type": "execute_result",
          "data": {
            "text/plain": [
              "<matplotlib.axes._subplots.AxesSubplot at 0x7f820a1d9ed0>"
            ]
          },
          "metadata": {},
          "execution_count": 58
        },
        {
          "output_type": "display_data",
          "data": {
            "text/plain": [
              "<Figure size 720x432 with 1 Axes>"
            ],
            "image/png": "[encoded data removed]"
          },
          "metadata": {}
        }
      ]
    },
    {
      "cell_type": "markdown",
      "metadata": {
        "id": "jCyPqceuX97L"
      },
      "source": [
        "# 제휴사이용정보 월별 구매 통계"
      ]
    },
    {
      "cell_type": "markdown",
      "source": [
        "월별 제휴사별 이용건수 추이\n",
        "- F&B 비중 축소 (D01, D02)\n",
        "- 엔터테인먼트 비중 확대 (C01, C02)\n",
        "- 숙박 큰 변동 없음\n",
        "- 렌탈 축소"
      ],
      "metadata": {
        "id": "dsTtZ1NQAqO8"
      }
    },
    {
      "cell_type": "code",
      "execution_count": null,
      "metadata": {
        "id": "1ecaf8a7-1c68-4bea-b258-a1f2db653124"
      },
      "outputs": [],
      "source": [
        "df_x = pd.concat((df_cop_u.reset_index()['buy_dt'].dt.strftime('%Y-%m').rename('buy_month'), df_cop_u[['cust','cop_c', 'buy_am']].reset_index()),axis=1)"
      ]
    },
    {
      "cell_type": "code",
      "execution_count": null,
      "metadata": {
        "id": "8276959c-1579-40ec-b42b-8ebadc2c99ea",
        "outputId": "44dce76e-d881-4be0-d3c5-38fbd4c0996c",
        "colab": {
          "base_uri": "https://localhost:8080/",
          "height": 443
        }
      },
      "outputs": [
        {
          "output_type": "execute_result",
          "data": {
            "text/plain": [
              "<matplotlib.axes._subplots.AxesSubplot at 0x7f820d5fc650>"
            ]
          },
          "metadata": {},
          "execution_count": 60
        },
        {
          "output_type": "display_data",
          "data": {
            "text/plain": [
              "<Figure size 720x432 with 1 Axes>"
            ],
            "image/png": "[encoded data removed]"
          },
          "metadata": {}
        }
      ],
      "source": [
        "df_x.groupby(['buy_month', 'cop_c']).buy_am.count().unstack('cop_c').fillna(0).div(df_x.groupby(['buy_month', 'cop_c']).buy_am.count().unstack('cop_c').fillna(0).sum(axis=1), axis=0).plot.bar(stacked=True)"
      ]
    },
    {
      "cell_type": "code",
      "source": [
        ""
      ],
      "metadata": {
        "id": "lVmRhLN9Ax08"
      },
      "execution_count": null,
      "outputs": []
    }
  ]
}