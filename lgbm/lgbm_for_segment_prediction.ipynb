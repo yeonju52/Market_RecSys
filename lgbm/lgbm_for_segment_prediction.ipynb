{
 "cells": [
  {
   "cell_type": "markdown",
   "id": "dc65bb49-2c27-42d6-b4bb-8c7c51c9047f",
   "metadata": {},
   "source": [
    "# 확정된 상 -> 하반기 세그먼트를 예측하는 모델\n",
    "\n",
    "1. AutoML인 FLAML로 lightgbm classifier를 찾아본다.\n",
    "\n",
    "2. 찾아진 모델에서 피쳐 중요도를 분석해본다."
   ]
  },
  {
   "cell_type": "code",
   "execution_count": 1,
   "id": "f59bbbc0-029b-45c5-8e99-f680b3b2faaa",
   "metadata": {},
   "outputs": [],
   "source": [
    "import pandas as pd\n",
    "import numpy as np\n",
    "from glob import glob\n",
    "import os\n",
    "import tqdm\n",
    "# from datasets import load_dataset, Dataset\n",
    "import torch\n",
    "import torch.nn as nn\n",
    "import torch.nn.functional as F\n",
    "import torch.utils.data as data\n",
    "import pytorch_lightning as pl\n",
    "from typing import List, Optional, Tuple, Union\n",
    "import argparse\n",
    "from sklearn.model_selection import train_test_split\n",
    "import seaborn as sns"
   ]
  },
  {
   "cell_type": "code",
   "execution_count": 2,
   "id": "3d35bade-4545-4728-b4d9-3fe491aa80e6",
   "metadata": {},
   "outputs": [],
   "source": [
    "#@title 마이너 패키지 로딩\n",
    "%matplotlib inline\n",
    "from datetime import datetime\n",
    "import matplotlib.pyplot as plt\n",
    "sns.set(font=\"NanumGothic\", \n",
    "        rc={\"axes.unicode_minus\":False, 'figure.figsize': (10,6)},\n",
    "        style='darkgrid')\n",
    "\n",
    "from IPython.display import display, HTML"
   ]
  },
  {
   "cell_type": "code",
   "execution_count": 3,
   "id": "46a12ac6-53c6-4268-aa19-6886e1ff1664",
   "metadata": {},
   "outputs": [],
   "source": [
    "from sklearn.preprocessing import OneHotEncoder, OrdinalEncoder, MinMaxScaler\n",
    "\n",
    "from sklearn.model_selection import train_test_split\n",
    "\n",
    "from sklearn.metrics import mean_squared_error, mean_absolute_error, classification_report\n",
    "\n",
    "import lightgbm as lgb"
   ]
  },
  {
   "cell_type": "markdown",
   "id": "baf4a339-ce8c-4fb3-9525-ff0b7a106ade",
   "metadata": {},
   "source": [
    "# 데이터 로딩"
   ]
  },
  {
   "cell_type": "code",
   "execution_count": 4,
   "id": "3eee05e7-858b-428c-9704-6c1ae4b8fac9",
   "metadata": {},
   "outputs": [],
   "source": [
    "df_user_merged = pd.read_csv('csv_user_merged_copPlus.csv')"
   ]
  },
  {
   "cell_type": "code",
   "execution_count": 5,
   "id": "25aeeba3-015e-44c6-b68c-dcdea9362c3b",
   "metadata": {},
   "outputs": [],
   "source": [
    "cat_features = ['ma_fem_dv', 'ages', 'zon_hlv', 'label']\n",
    "\n",
    "for i in enumerate (cat_features) :\n",
    "    ca = i[1]\n",
    "    df_user_merged[ca] = df_user_merged[ca].astype('category')\n",
    "    df_user_merged[ca] = df_user_merged[ca].astype('category')"
   ]
  },
  {
   "cell_type": "code",
   "execution_count": 6,
   "id": "b9704845-b231-4786-9251-dc79586ce27e",
   "metadata": {},
   "outputs": [],
   "source": [
    "target_col = 'label'"
   ]
  },
  {
   "cell_type": "code",
   "execution_count": 7,
   "id": "cef49270-ad3b-4b21-aab0-8be240e72482",
   "metadata": {},
   "outputs": [],
   "source": [
    "df_user_merged = df_user_merged.drop(['grade_first','grade_second', 'cust_no'], axis=1).set_index('cust')"
   ]
  },
  {
   "cell_type": "code",
   "execution_count": 8,
   "id": "d7d60ebf-ecc7-4f6b-a544-73dfc169fe89",
   "metadata": {},
   "outputs": [],
   "source": [
    "df_train, df_test = train_test_split(df_user_merged, test_size=0.2, random_state=0)"
   ]
  },
  {
   "cell_type": "code",
   "execution_count": 9,
   "id": "cdd09331-a420-4b5a-a1a2-9d55be968ead",
   "metadata": {},
   "outputs": [],
   "source": [
    "y_train = df_train[target_col]\n",
    "y_test = df_test[target_col]"
   ]
  },
  {
   "cell_type": "code",
   "execution_count": 10,
   "id": "f65e4965-02d4-469e-84a2-28cc65d12b28",
   "metadata": {},
   "outputs": [],
   "source": [
    "x_train = df_train.drop(target_col, axis=1)\n",
    "x_test = df_test.drop(target_col, axis=1)"
   ]
  },
  {
   "cell_type": "markdown",
   "id": "f9d9a62a-9f42-4f17-b94a-d270d5c101c2",
   "metadata": {},
   "source": [
    "# 학습"
   ]
  },
  {
   "cell_type": "code",
   "execution_count": 11,
   "id": "5f538432-7ccc-46f0-af0a-bb24944f9b73",
   "metadata": {},
   "outputs": [],
   "source": [
    "import ray"
   ]
  },
  {
   "cell_type": "code",
   "execution_count": 12,
   "id": "eeb0f606-ed70-4155-9b73-6e0dbdbac6dc",
   "metadata": {},
   "outputs": [],
   "source": [
    "from flaml import AutoML\n",
    "automl = AutoML()"
   ]
  },
  {
   "cell_type": "code",
   "execution_count": 13,
   "id": "83d99692-bab5-4d2b-acde-7b5f8ee3a5b6",
   "metadata": {},
   "outputs": [],
   "source": [
    "# ray.shutdown()"
   ]
  },
  {
   "cell_type": "code",
   "execution_count": 14,
   "id": "3fd97951-db3f-4344-8364-98bf8d457326",
   "metadata": {},
   "outputs": [
    {
     "name": "stderr",
     "output_type": "stream",
     "text": [
      "2022-08-10 10:09:44,336\tINFO services.py:1476 -- View the Ray dashboard at \u001b[1m\u001b[32mhttp://127.0.0.1:8267\u001b[39m\u001b[22m\n"
     ]
    },
    {
     "data": {
      "text/plain": [
       "RayContext(dashboard_url='127.0.0.1:8267', python_version='3.6.9', ray_version='1.13.0', ray_commit='e4ce38d001dbbe09cd21c497fedd03d692b2be3e', address_info={'node_ip_address': '172.17.0.2', 'raylet_ip_address': '172.17.0.2', 'redis_address': None, 'object_store_address': '/tmp/ray/session_2022-08-10_10-09-41_690501_29507/sockets/plasma_store', 'raylet_socket_name': '/tmp/ray/session_2022-08-10_10-09-41_690501_29507/sockets/raylet', 'webui_url': '127.0.0.1:8267', 'session_dir': '/tmp/ray/session_2022-08-10_10-09-41_690501_29507', 'metrics_export_port': 61700, 'gcs_address': '172.17.0.2:51484', 'address': '172.17.0.2:51484', 'node_id': 'bff0060dc895e2f2f5ec6b5ccacb74c7f85af4fc65c9ef043cd6c514'})"
      ]
     },
     "execution_count": 14,
     "metadata": {},
     "output_type": "execute_result"
    }
   ],
   "source": [
    "ray.init(num_cpus=12)"
   ]
  },
  {
   "cell_type": "code",
   "execution_count": 15,
   "id": "cdf00bf6-1cdc-4c78-872d-3dba70eea859",
   "metadata": {},
   "outputs": [
    {
     "data": {
      "text/html": [
       "== Status ==<br>Current time: 2022-08-10 15:10:37 (running for 05:00:04.65)<br>Memory usage on this node: 17.1/187.5 GiB<br>Using FIFO scheduling algorithm.<br>Resources requested: 0/12 CPUs, 0/3 GPUs, 0.0/133.06 GiB heap, 0.0/30.39 GiB objects (0.0/1.0 accelerator_type:TITAN)<br>Current best trial: d442f308 with val_loss=1.7156423027740288 and parameters={'n_estimators': 1396, 'num_leaves': 4, 'min_child_samples': 2, 'learning_rate': 0.018951508635514553, 'log_max_bin': 6, 'colsample_bytree': 0.6492182214919888, 'reg_alpha': 0.5607567989480035, 'reg_lambda': 0.0009765625, 'learner': 'lgbm'}<br>Result logdir: /ray_results/train_2022-08-10_10-10-32<br>Number of trials: 366/1000000 (366 TERMINATED)<br><br>"
      ],
      "text/plain": [
       "<IPython.core.display.HTML object>"
      ]
     },
     "metadata": {},
     "output_type": "display_data"
    },
    {
     "name": "stderr",
     "output_type": "stream",
     "text": [
      "2022-08-10 15:12:48,450\tINFO tune.py:748 -- Total run time: 18135.67 seconds (18004.59 seconds for the tuning loop).\n",
      "[flaml.automl: 08-10 15:12:49] {3311} INFO - selected model: None\n",
      "[flaml.automl: 08-10 15:13:13] {3456} INFO - retrain lgbm for 24.0s\n",
      "[flaml.automl: 08-10 15:13:13] {3461} INFO - retrained model: LGBMClassifier(colsample_bytree=0.6492182214919888,\n",
      "               learning_rate=0.018951508635514553, max_bin=63,\n",
      "               min_child_samples=2, n_estimators=1396, n_jobs=6, num_leaves=4,\n",
      "               reg_alpha=0.5607567989480035, reg_lambda=0.0009765625,\n",
      "               verbose=-1)\n",
      "[flaml.automl: 08-10 15:13:13] {2739} INFO - fit succeeded\n",
      "[flaml.automl: 08-10 15:13:13] {2741} INFO - Time taken to find the best model: 15635.808030366898\n",
      "[flaml.automl: 08-10 15:13:13] {2755} WARNING - Time taken to find the best model is 87% of the provided time budget and not all estimators' hyperparameter search converged. Consider increasing the time budget.\n"
     ]
    }
   ],
   "source": [
    "automl.fit(x_train, y_train, task=\"classification\", time_budget=3600*5, n_jobs=6, n_concurrent_trials=2, log_file_name='segment_automl.log', estimator_list=[\"lgbm\"])"
   ]
  },
  {
   "cell_type": "markdown",
   "id": "c41fd8b1-4726-4708-877c-c69996101e55",
   "metadata": {},
   "source": [
    "## 베스트 탐색 결과\n",
    "\n",
    "```               \n",
    "LGBMClassifier(colsample_bytree=0.6492182214919888,\n",
    "               learning_rate=0.018951508635514553, max_bin=63,\n",
    "               min_child_samples=2, n_estimators=1396, n_jobs=6, num_leaves=4,\n",
    "               reg_alpha=0.5607567989480035, reg_lambda=0.0009765625,\n",
    "               verbose=-1)\n",
    "```"
   ]
  },
  {
   "cell_type": "code",
   "execution_count": 16,
   "id": "0a21e2eb-15f8-43b6-83b7-5870223e6100",
   "metadata": {},
   "outputs": [
    {
     "name": "stdout",
     "output_type": "stream",
     "text": [
      "Best hyperparmeter config: {'n_estimators': 1396, 'num_leaves': 4, 'min_child_samples': 2, 'learning_rate': 0.018951508635514553, 'log_max_bin': 6, 'colsample_bytree': 0.6492182214919888, 'reg_alpha': 0.5607567989480035, 'reg_lambda': 0.0009765625, 'learner': 'lgbm'}\n",
      "Best loss on validation data: 1.716\n",
      "Training duration of best run: 23.97 s\n",
      "LGBMClassifier(colsample_bytree=0.6492182214919888,\n",
      "               learning_rate=0.018951508635514553, max_bin=63,\n",
      "               min_child_samples=2, n_estimators=1396, n_jobs=6, num_leaves=4,\n",
      "               reg_alpha=0.5607567989480035, reg_lambda=0.0009765625,\n",
      "               verbose=-1)\n"
     ]
    }
   ],
   "source": [
    "print('Best hyperparmeter config:', automl.best_config)\n",
    "print('Best loss on validation data: {0:.4g}'.format(automl.best_loss))\n",
    "print('Training duration of best run: {0:.4g} s'.format(automl.best_config_train_time))\n",
    "print(automl.model.estimator)"
   ]
  },
  {
   "cell_type": "code",
   "execution_count": 17,
   "id": "42336072-a6c7-498d-bf63-917f1c7767da",
   "metadata": {},
   "outputs": [
    {
     "name": "stderr",
     "output_type": "stream",
     "text": [
      "findfont: Font family ['NanumGothic'] not found. Falling back to DejaVu Sans.\n",
      "findfont: Font family ['NanumGothic'] not found. Falling back to DejaVu Sans.\n"
     ]
    },
    {
     "data": {
      "image/png": "[encoded data removed]",
      "text/plain": [
       "<Figure size 720x432 with 1 Axes>"
      ]
     },
     "metadata": {},
     "output_type": "display_data"
    }
   ],
   "source": [
    "from flaml.data import get_output_from_log\n",
    "import matplotlib.pyplot as plt\n",
    "import numpy as np\n",
    "\n",
    "time_history, best_valid_loss_history, valid_loss_history, config_history, metric_history = \\\n",
    "    get_output_from_log(filename='segment_automl.log', time_budget=60)\n",
    "\n",
    "plt.title(\"Learning Curve\")\n",
    "plt.xlabel(\"Wall Clock Time (s)\")\n",
    "plt.ylabel(\"Validation loss\")\n",
    "plt.step(time_history, np.array(best_valid_loss_history), where=\"post\")\n",
    "plt.show()"
   ]
  },
  {
   "cell_type": "code",
   "execution_count": 18,
   "id": "d4832f53-9bf9-48a0-8190-8e8c39798830",
   "metadata": {},
   "outputs": [],
   "source": [
    "y_pred = automl.predict(x_test)"
   ]
  },
  {
   "cell_type": "markdown",
   "id": "7d717745-30d2-4810-b631-9c0e2d491bff",
   "metadata": {},
   "source": [
    "# 피쳐 중요도"
   ]
  },
  {
   "cell_type": "code",
   "execution_count": 19,
   "id": "06ec47c8-aef6-4d40-aefa-b842a1aabbe6",
   "metadata": {
    "tags": []
   },
   "outputs": [
    {
     "data": {
      "text/plain": [
       "<AxesSubplot:>"
      ]
     },
     "execution_count": 19,
     "metadata": {},
     "output_type": "execute_result"
    },
    {
     "data": {
      "image/png": "[encoded data removed]",
      "text/plain": [
       "<Figure size 720x432 with 1 Axes>"
      ]
     },
     "metadata": {},
     "output_type": "display_data"
    }
   ],
   "source": [
    "pd.Series(automl.feature_importances_, index=automl.feature_names_in_).sort_values(ascending=False).plot.bar()"
   ]
  },
  {
   "cell_type": "markdown",
   "id": "d1a91a4f-a11f-49e0-ab4a-e0c4f2aaa96c",
   "metadata": {},
   "source": [
    "# classification-report"
   ]
  },
  {
   "cell_type": "markdown",
   "id": "2a735b3c-a97a-481c-bf02-1c26e883b100",
   "metadata": {},
   "source": [
    "분류가 잘되는 두 클래스\n",
    "- 기타고객/비활동고객의 f1-score: 0.73\n",
    "- 최우수고객/최우수고객의 f1-score: 0.75\n",
    "\n",
    "기타고객/비활동고객 분류가 잘됨\n",
    "- 이들 세그먼트로 예측되는 고객들을 케어할 수 있다.\n",
    "- 엘페이 결제시 할인 이벤트\n",
    "    - NCF 추천 알고리즘으로 추천한 상품들 구매시 (이유: 고객이 관심 가질만한 상품 제안이니)"
   ]
  },
  {
   "cell_type": "code",
   "execution_count": 20,
   "id": "420217b5-aae9-41bd-9108-14d4b927b7ad",
   "metadata": {},
   "outputs": [
    {
     "name": "stderr",
     "output_type": "stream",
     "text": [
      "/usr/local/lib/python3.6/dist-packages/sklearn/metrics/_classification.py:1248: UndefinedMetricWarning:\n",
      "\n",
      "Precision and F-score are ill-defined and being set to 0.0 in labels with no predicted samples. Use `zero_division` parameter to control this behavior.\n",
      "\n",
      "/usr/local/lib/python3.6/dist-packages/sklearn/metrics/_classification.py:1248: UndefinedMetricWarning:\n",
      "\n",
      "Precision and F-score are ill-defined and being set to 0.0 in labels with no predicted samples. Use `zero_division` parameter to control this behavior.\n",
      "\n",
      "/usr/local/lib/python3.6/dist-packages/sklearn/metrics/_classification.py:1248: UndefinedMetricWarning:\n",
      "\n",
      "Precision and F-score are ill-defined and being set to 0.0 in labels with no predicted samples. Use `zero_division` parameter to control this behavior.\n",
      "\n"
     ]
    }
   ],
   "source": [
    "report = classification_report(y_test, y_pred)"
   ]
  },
  {
   "cell_type": "code",
   "execution_count": 21,
   "id": "49af7ebd-04f2-42ac-a835-9675e5b32b44",
   "metadata": {},
   "outputs": [
    {
     "name": "stdout",
     "output_type": "stream",
     "text": [
      "              precision    recall  f1-score   support\n",
      "\n",
      "   기타고객/기타고객       0.56      0.80      0.66       556\n",
      "  기타고객/비활동고객       0.70      0.77      0.73       299\n",
      "   기타고객/우수고객       0.00      0.00      0.00       130\n",
      "   기타고객/일반고객       0.23      0.19      0.21       245\n",
      "  기타고객/최우수고객       0.00      0.00      0.00        37\n",
      "   우수고객/기타고객       0.10      0.01      0.01       132\n",
      "  우수고객/비활동고객       0.00      0.00      0.00        16\n",
      "   우수고객/우수고객       0.28      0.57      0.38       587\n",
      "   우수고객/일반고객       0.17      0.06      0.08       354\n",
      "  우수고객/최우수고객       0.18      0.08      0.11       383\n",
      "   일반고객/기타고객       0.23      0.14      0.18       274\n",
      "  일반고객/비활동고객       0.16      0.04      0.07        71\n",
      "   일반고객/우수고객       0.14      0.08      0.11       355\n",
      "   일반고객/일반고객       0.22      0.44      0.30       411\n",
      "  일반고객/최우수고객       0.00      0.00      0.00       133\n",
      "  최우수고객/기타고객       0.00      0.00      0.00        30\n",
      " 최우수고객/비활동고객       0.00      0.00      0.00         3\n",
      "  최우수고객/우수고객       0.25      0.08      0.13       347\n",
      "  최우수고객/일반고객       0.21      0.03      0.05       110\n",
      " 최우수고객/최우수고객       0.65      0.86      0.74      1016\n",
      "\n",
      "    accuracy                           0.41      5489\n",
      "   macro avg       0.20      0.21      0.19      5489\n",
      "weighted avg       0.34      0.41      0.35      5489\n",
      "\n"
     ]
    }
   ],
   "source": [
    "print(report)"
   ]
  },
  {
   "cell_type": "code",
   "execution_count": null,
   "id": "ee225806-6e1d-466e-8ff8-e008aa410d87",
   "metadata": {},
   "outputs": [],
   "source": []
  }
 ],
 "metadata": {
  "kernelspec": {
   "display_name": "Python 3",
   "language": "python",
   "name": "python3"
  },
  "language_info": {
   "codemirror_mode": {
    "name": "ipython",
    "version": 3
   },
   "file_extension": ".py",
   "mimetype": "text/x-python",
   "name": "python",
   "nbconvert_exporter": "python",
   "pygments_lexer": "ipython3",
   "version": "3.6.9"
  }
 },
 "nbformat": 4,
 "nbformat_minor": 5
}
