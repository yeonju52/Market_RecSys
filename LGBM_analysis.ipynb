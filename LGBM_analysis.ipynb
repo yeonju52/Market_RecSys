{
  "nbformat": 4,
  "nbformat_minor": 0,
  "metadata": {
    "colab": {
      "name": "LGBM_analysis.ipynb",
      "provenance": [],
      "collapsed_sections": [
        "_mJSzOEGu2-F"
      ],
      "toc_visible": true
    },
    "kernelspec": {
      "name": "python3",
      "display_name": "Python 3"
    },
    "language_info": {
      "name": "python"
    }
  },
  "cells": [
    {
      "cell_type": "code",
      "execution_count": null,
      "metadata": {
        "id": "ZGcCs1iePBkZ",
        "colab": {
          "base_uri": "https://localhost:8080/"
        },
        "outputId": "47833607-b603-4726-8044-25dc7c579296"
      },
      "outputs": [
        {
          "output_type": "stream",
          "name": "stdout",
          "text": [
            "Reading package lists... Done\n",
            "Building dependency tree       \n",
            "Reading state information... Done\n",
            "The following package was automatically installed and is no longer required:\n",
            "  libnvidia-common-460\n",
            "Use 'apt autoremove' to remove it.\n",
            "The following NEW packages will be installed:\n",
            "  fonts-nanum\n",
            "0 upgraded, 1 newly installed, 0 to remove and 19 not upgraded.\n",
            "Need to get 9,604 kB of archives.\n",
            "After this operation, 29.5 MB of additional disk space will be used.\n",
            "Get:1 http://archive.ubuntu.com/ubuntu bionic/universe amd64 fonts-nanum all 20170925-1 [9,604 kB]\n",
            "Fetched 9,604 kB in 2s (5,363 kB/s)\n",
            "Selecting previously unselected package fonts-nanum.\n",
            "(Reading database ... 155680 files and directories currently installed.)\n",
            "Preparing to unpack .../fonts-nanum_20170925-1_all.deb ...\n",
            "Unpacking fonts-nanum (20170925-1) ...\n",
            "Setting up fonts-nanum (20170925-1) ...\n",
            "Processing triggers for fontconfig (2.12.6-0ubuntu2) ...\n",
            "NanumBarunGothicBold.ttf  NanumMyeongjoBold.ttf  NanumSquareRoundR.ttf\n",
            "NanumBarunGothic.ttf\t  NanumMyeongjo.ttf\t NanumSquareR.ttf\n",
            "NanumGothicBold.ttf\t  NanumSquareB.ttf\n",
            "NanumGothic.ttf\t\t  NanumSquareRoundB.ttf\n"
          ]
        }
      ],
      "source": [
        "# 1단계 (다운완료)\n",
        "!apt install fonts-nanum\n",
        "!ls /usr/share/fonts/truetype/nanum/"
      ]
    },
    {
      "cell_type": "code",
      "execution_count": null,
      "metadata": {
        "id": "W8UuwJipioW0"
      },
      "outputs": [],
      "source": [
        "# 2단계\n",
        "import matplotlib.font_manager as fm\n",
        "font_path = '/usr/share/fonts/truetype/nanum/NanumGothicBold.ttf'\n",
        "font = fm.FontProperties(fname=font_path, size=9)\n",
        "fm._rebuild()\n",
        "\n",
        "# 3단계 (수동으로 런타임 재시작을 안 해도 됨, 실행버튼은 다시 눌러야 함.)\n",
        "import os\n",
        "os.kill(os.getpid(), 9)"
      ]
    },
    {
      "cell_type": "markdown",
      "source": [
        "# 환경세팅"
      ],
      "metadata": {
        "id": "nJNXZ1tvJJmL"
      }
    },
    {
      "cell_type": "code",
      "source": [
        "import pandas as pd\n",
        "import numpy as np\n",
        "import os\n",
        "import datetime as dt\n",
        "import matplotlib.pyplot as plt\n",
        "import seaborn as sns"
      ],
      "metadata": {
        "id": "4368CfTFe38F"
      },
      "execution_count": null,
      "outputs": []
    },
    {
      "cell_type": "code",
      "execution_count": null,
      "metadata": {
        "id": "6BlPYuXSataZ"
      },
      "outputs": [],
      "source": [
        "# 4단계 (최종설정)\n",
        "import matplotlib.pyplot as plt\n",
        "import matplotlib.font_manager as fm\n",
        "%matplotlib inline\n",
        "import seaborn as sns\n",
        "\n",
        "font_path = '/usr/share/fonts/truetype/nanum/NanumGothicBold.ttf'\n",
        "font_name = fm.FontProperties(fname=font_path, size=9).get_name()\n",
        "\n",
        "# sns 설정\n",
        "sns.set(font=font_name, \n",
        "        rc={\"axes.unicode_minus\":False,\n",
        "            'figure.figsize': (10,6)},    \n",
        "        style='darkgrid')\n",
        "fm._rebuild()\n",
        "\n",
        "pd.plotting.register_matplotlib_converters()"
      ]
    },
    {
      "cell_type": "code",
      "execution_count": null,
      "metadata": {
        "id": "0e90710a-c5d8-4d4b-9583-a14c80305596"
      },
      "outputs": [],
      "source": [
        "sns.set(font=\"NanumGothic\", \n",
        "        rc={\"axes.unicode_minus\":False, 'figure.figsize': (10,6)},\n",
        "        style='darkgrid')"
      ]
    },
    {
      "cell_type": "code",
      "source": [
        "from google.colab import drive\n",
        "drive.mount('/content/drive')"
      ],
      "metadata": {
        "id": "l-gBDaFOrbwC",
        "colab": {
          "base_uri": "https://localhost:8080/"
        },
        "outputId": "97859304-1f02-469d-8916-15413763dd1f"
      },
      "execution_count": null,
      "outputs": [
        {
          "output_type": "stream",
          "name": "stdout",
          "text": [
            "Mounted at /content/drive\n"
          ]
        }
      ]
    },
    {
      "cell_type": "code",
      "source": [
        "base_path=\"/content/drive/MyDrive/lotte_competition/data\"\n",
        "# base_path = \"/content/drive/MyDrive/Colab Notebooks/for_Check\""
      ],
      "metadata": {
        "id": "8-eKrGC9l3GV"
      },
      "execution_count": null,
      "outputs": []
    },
    {
      "cell_type": "code",
      "source": [
        "file_path_dic = {\n",
        "    'demo':'LPOINT_BIG_COMP_01_DEMO.csv',\n",
        "    'pdde':'LPOINT_BIG_COMP_02_PDDE.csv',\n",
        "    'cop_u':'LPOINT_BIG_COMP_03_COP_U.csv',\n",
        "    'pd_clac':'LPOINT_BIG_COMP_04_PD_CLAC.csv',\n",
        "    'br':'LPOINT_BIG_COMP_05_BR.csv',\n",
        "    'lpay':'LPOINT_BIG_COMP_06_LPAY.csv',\n",
        "}"
      ],
      "metadata": {
        "id": "n0dVlyhMmaYs"
      },
      "execution_count": null,
      "outputs": []
    },
    {
      "cell_type": "markdown",
      "source": [
        "# 데이터 로드"
      ],
      "metadata": {
        "id": "2ahOfPxUoBBb"
      }
    },
    {
      "cell_type": "markdown",
      "source": [
        "## df_cust\n",
        "- csv_user_merged_colplus.csv\n",
        "  - 상품구매정보와 제휴사이용정보 concat 후, 세그먼트 라벨링"
      ],
      "metadata": {
        "id": "cXaHbuLTKMec"
      }
    },
    {
      "cell_type": "code",
      "source": [
        "df_cust = pd.read_csv(os.path.join(base_path,'csv_user_merged_copPlus.csv'))"
      ],
      "metadata": {
        "id": "A39c3GAOmvfN"
      },
      "execution_count": null,
      "outputs": []
    },
    {
      "cell_type": "code",
      "source": [
        "df_cust = df_cust[[\"cust\", \"grade_first\", \"grade_second\", \"label\"]]\n",
        "df_cust.head(3)"
      ],
      "metadata": {
        "id": "YHr90B15YoWI",
        "colab": {
          "base_uri": "https://localhost:8080/"
        },
        "outputId": "f6a9ffe6-0cb1-45ef-8088-b310d8312eed"
      },
      "execution_count": null,
      "outputs": [
        {
          "output_type": "execute_result",
          "data": {
            "text/plain": [
              "         cust grade_first grade_second        label\n",
              "0  M000034966        일반고객         일반고객    일반고객/일반고객\n",
              "1  M000059535        기타고객        비활동고객   기타고객/비활동고객\n",
              "2  M000136117       최우수고객        최우수고객  최우수고객/최우수고객"
            ],
            "text/html": [
              "\n",
              "  <div id=\"df-485a0c7d-0fb8-4425-a14d-53b267e0e6d3\">\n",
              "    <div class=\"colab-df-container\">\n",
              "      <div>\n",
              "<style scoped>\n",
              "    .dataframe tbody tr th:only-of-type {\n",
              "        vertical-align: middle;\n",
              "    }\n",
              "\n",
              "    .dataframe tbody tr th {\n",
              "        vertical-align: top;\n",
              "    }\n",
              "\n",
              "    .dataframe thead th {\n",
              "        text-align: right;\n",
              "    }\n",
              "</style>\n",
              "<table border=\"1\" class=\"dataframe\">\n",
              "  <thead>\n",
              "    <tr style=\"text-align: right;\">\n",
              "      <th></th>\n",
              "      <th>cust</th>\n",
              "      <th>grade_first</th>\n",
              "      <th>grade_second</th>\n",
              "      <th>label</th>\n",
              "    </tr>\n",
              "  </thead>\n",
              "  <tbody>\n",
              "    <tr>\n",
              "      <th>0</th>\n",
              "      <td>M000034966</td>\n",
              "      <td>일반고객</td>\n",
              "      <td>일반고객</td>\n",
              "      <td>일반고객/일반고객</td>\n",
              "    </tr>\n",
              "    <tr>\n",
              "      <th>1</th>\n",
              "      <td>M000059535</td>\n",
              "      <td>기타고객</td>\n",
              "      <td>비활동고객</td>\n",
              "      <td>기타고객/비활동고객</td>\n",
              "    </tr>\n",
              "    <tr>\n",
              "      <th>2</th>\n",
              "      <td>M000136117</td>\n",
              "      <td>최우수고객</td>\n",
              "      <td>최우수고객</td>\n",
              "      <td>최우수고객/최우수고객</td>\n",
              "    </tr>\n",
              "  </tbody>\n",
              "</table>\n",
              "</div>\n",
              "      <button class=\"colab-df-convert\" onclick=\"convertToInteractive('df-485a0c7d-0fb8-4425-a14d-53b267e0e6d3')\"\n",
              "              title=\"Convert this dataframe to an interactive table.\"\n",
              "              style=\"display:none;\">\n",
              "        \n",
              "  <svg xmlns=\"http://www.w3.org/2000/svg\" height=\"24px\"viewBox=\"0 0 24 24\"\n",
              "       width=\"24px\">\n",
              "    <path d=\"M0 0h24v24H0V0z\" fill=\"none\"/>\n",
              "    <path d=\"M18.56 5.44l.94 2.06.94-2.06 2.06-.94-2.06-.94-.94-2.06-.94 2.06-2.06.94zm-11 1L8.5 8.5l.94-2.06 2.06-.94-2.06-.94L8.5 2.5l-.94 2.06-2.06.94zm10 10l.94 2.06.94-2.06 2.06-.94-2.06-.94-.94-2.06-.94 2.06-2.06.94z\"/><path d=\"M17.41 7.96l-1.37-1.37c-.4-.4-.92-.59-1.43-.59-.52 0-1.04.2-1.43.59L10.3 9.45l-7.72 7.72c-.78.78-.78 2.05 0 2.83L4 21.41c.39.39.9.59 1.41.59.51 0 1.02-.2 1.41-.59l7.78-7.78 2.81-2.81c.8-.78.8-2.07 0-2.86zM5.41 20L4 18.59l7.72-7.72 1.47 1.35L5.41 20z\"/>\n",
              "  </svg>\n",
              "      </button>\n",
              "      \n",
              "  <style>\n",
              "    .colab-df-container {\n",
              "      display:flex;\n",
              "      flex-wrap:wrap;\n",
              "      gap: 12px;\n",
              "    }\n",
              "\n",
              "    .colab-df-convert {\n",
              "      background-color: #E8F0FE;\n",
              "      border: none;\n",
              "      border-radius: 50%;\n",
              "      cursor: pointer;\n",
              "      display: none;\n",
              "      fill: #1967D2;\n",
              "      height: 32px;\n",
              "      padding: 0 0 0 0;\n",
              "      width: 32px;\n",
              "    }\n",
              "\n",
              "    .colab-df-convert:hover {\n",
              "      background-color: #E2EBFA;\n",
              "      box-shadow: 0px 1px 2px rgba(60, 64, 67, 0.3), 0px 1px 3px 1px rgba(60, 64, 67, 0.15);\n",
              "      fill: #174EA6;\n",
              "    }\n",
              "\n",
              "    [theme=dark] .colab-df-convert {\n",
              "      background-color: #3B4455;\n",
              "      fill: #D2E3FC;\n",
              "    }\n",
              "\n",
              "    [theme=dark] .colab-df-convert:hover {\n",
              "      background-color: #434B5C;\n",
              "      box-shadow: 0px 1px 3px 1px rgba(0, 0, 0, 0.15);\n",
              "      filter: drop-shadow(0px 1px 2px rgba(0, 0, 0, 0.3));\n",
              "      fill: #FFFFFF;\n",
              "    }\n",
              "  </style>\n",
              "\n",
              "      <script>\n",
              "        const buttonEl =\n",
              "          document.querySelector('#df-485a0c7d-0fb8-4425-a14d-53b267e0e6d3 button.colab-df-convert');\n",
              "        buttonEl.style.display =\n",
              "          google.colab.kernel.accessAllowed ? 'block' : 'none';\n",
              "\n",
              "        async function convertToInteractive(key) {\n",
              "          const element = document.querySelector('#df-485a0c7d-0fb8-4425-a14d-53b267e0e6d3');\n",
              "          const dataTable =\n",
              "            await google.colab.kernel.invokeFunction('convertToInteractive',\n",
              "                                                     [key], {});\n",
              "          if (!dataTable) return;\n",
              "\n",
              "          const docLinkHtml = 'Like what you see? Visit the ' +\n",
              "            '<a target=\"_blank\" href=https://colab.research.google.com/notebooks/data_table.ipynb>data table notebook</a>'\n",
              "            + ' to learn more about interactive tables.';\n",
              "          element.innerHTML = '';\n",
              "          dataTable['output_type'] = 'display_data';\n",
              "          await google.colab.output.renderOutput(dataTable, element);\n",
              "          const docLink = document.createElement('div');\n",
              "          docLink.innerHTML = docLinkHtml;\n",
              "          element.appendChild(docLink);\n",
              "        }\n",
              "      </script>\n",
              "    </div>\n",
              "  </div>\n",
              "  "
            ]
          },
          "metadata": {},
          "execution_count": 11
        }
      ]
    },
    {
      "cell_type": "markdown",
      "source": [
        "## 데이터셋"
      ],
      "metadata": {
        "id": "ErrqT1SDKXNt"
      }
    },
    {
      "cell_type": "markdown",
      "source": [
        "- df_demo: 고객 데모 정보\n",
        "- df_pdde: 상품 구매 정보\n",
        "- df_cop_u:제휴사 이용 정보\n",
        "- df_lpay:엘페이 이용\n",
        "- df_pd_clac:상품 분류 정보"
      ],
      "metadata": {
        "id": "b6zLThNADi-V"
      }
    },
    {
      "cell_type": "code",
      "source": [
        "df_demo = pd.read_csv(os.path.join(base_path, file_path_dic['demo']))\n",
        "df_pdde = pd.read_csv(os.path.join(base_path, file_path_dic['pdde']), dtype={'de_dt':str, 'de_hr':str})\n",
        "df_cop_u = pd.read_csv(os.path.join(base_path, file_path_dic['cop_u']), dtype={'de_dt':str, 'de_hr':str})\n",
        "df_lpay = pd.read_csv(os.path.join(base_path, file_path_dic['lpay']), dtype={'de_dt':str, 'de_hr':str})\n",
        "df_pd_clac = pd.read_csv(os.path.join(base_path, file_path_dic['pd_clac']))"
      ],
      "metadata": {
        "id": "Ozw5gJHImJpJ",
        "colab": {
          "base_uri": "https://localhost:8080/"
        },
        "outputId": "ffa4c797-c7a1-4b1c-f9d8-7c4bd23d05a0"
      },
      "execution_count": null,
      "outputs": [
        {
          "output_type": "stream",
          "name": "stderr",
          "text": [
            "/usr/local/lib/python3.7/dist-packages/IPython/core/interactiveshell.py:2882: DtypeWarning: Columns (4) have mixed types.Specify dtype option on import or set low_memory=False.\n",
            "  exec(code_obj, self.user_global_ns, self.user_ns)\n"
          ]
        }
      ]
    },
    {
      "cell_type": "code",
      "source": [
        "df_pdde[\"de_dthr\"] = pd.to_datetime(df_pdde.de_dt.str.cat(df_pdde.de_hr), format='%Y%m%d%H')\n",
        "df_pdde.drop(labels=['de_dt','de_hr'], axis=1, inplace=True)\n",
        "df_cop_u[\"de_dthr\"] = pd.to_datetime(df_cop_u.de_dt.str.cat(df_cop_u.de_hr), format='%Y%m%d%H')\n",
        "df_cop_u.drop(labels=['de_dt','de_hr'], axis=1, inplace=True)\n",
        "df_lpay[\"de_dthr\"] = pd.to_datetime(df_lpay.de_dt.str.cat(df_lpay.de_hr), format='%Y%m%d%H')\n",
        "df_lpay.drop(labels=['de_dt','de_hr'], axis=1, inplace=True)"
      ],
      "metadata": {
        "id": "mUPdRWtdEhHr"
      },
      "execution_count": null,
      "outputs": []
    },
    {
      "cell_type": "markdown",
      "source": [
        "# 데이터 준비"
      ],
      "metadata": {
        "id": "_mJSzOEGu2-F"
      }
    },
    {
      "cell_type": "markdown",
      "source": [
        "**1. 제휴사 유통사 통합 (concat)**"
      ],
      "metadata": {
        "id": "XkFM5B6BIa-A"
      }
    },
    {
      "cell_type": "code",
      "source": [
        "df_buy = pd.concat([df_pdde, df_cop_u])"
      ],
      "metadata": {
        "id": "zd0aMBnOnxen"
      },
      "execution_count": null,
      "outputs": []
    },
    {
      "cell_type": "code",
      "source": [
        "df_buy.head(3)"
      ],
      "metadata": {
        "id": "fl-bCJMP6dFS",
        "colab": {
          "base_uri": "https://localhost:8080/"
        },
        "outputId": "88f5f4be-cfc5-44bc-914d-eb7903a5117c"
      },
      "execution_count": null,
      "outputs": [
        {
          "output_type": "execute_result",
          "data": {
            "text/plain": [
              "         cust        rct_no  chnl_dv cop_c     br_c    pd_c   buy_am  buy_ct  \\\n",
              "0  M430112881  A01000001113        1   A01  A010039  PD0290  15000.0     1.0   \n",
              "1  M646853852  A01000002265        1   A01  A010025  PD1369  79700.0     1.0   \n",
              "2  M430112881  A01000003148        1   A01  A010039  PD0290  19000.0     1.0   \n",
              "\n",
              "              de_dthr  vst_dt  \n",
              "0 2021-01-01 10:00:00     NaN  \n",
              "1 2021-01-01 10:00:00     NaN  \n",
              "2 2021-01-01 10:00:00     NaN  "
            ],
            "text/html": [
              "\n",
              "  <div id=\"df-580d9a80-e8ce-4598-a9d9-4cfa5f952e4d\">\n",
              "    <div class=\"colab-df-container\">\n",
              "      <div>\n",
              "<style scoped>\n",
              "    .dataframe tbody tr th:only-of-type {\n",
              "        vertical-align: middle;\n",
              "    }\n",
              "\n",
              "    .dataframe tbody tr th {\n",
              "        vertical-align: top;\n",
              "    }\n",
              "\n",
              "    .dataframe thead th {\n",
              "        text-align: right;\n",
              "    }\n",
              "</style>\n",
              "<table border=\"1\" class=\"dataframe\">\n",
              "  <thead>\n",
              "    <tr style=\"text-align: right;\">\n",
              "      <th></th>\n",
              "      <th>cust</th>\n",
              "      <th>rct_no</th>\n",
              "      <th>chnl_dv</th>\n",
              "      <th>cop_c</th>\n",
              "      <th>br_c</th>\n",
              "      <th>pd_c</th>\n",
              "      <th>buy_am</th>\n",
              "      <th>buy_ct</th>\n",
              "      <th>de_dthr</th>\n",
              "      <th>vst_dt</th>\n",
              "    </tr>\n",
              "  </thead>\n",
              "  <tbody>\n",
              "    <tr>\n",
              "      <th>0</th>\n",
              "      <td>M430112881</td>\n",
              "      <td>A01000001113</td>\n",
              "      <td>1</td>\n",
              "      <td>A01</td>\n",
              "      <td>A010039</td>\n",
              "      <td>PD0290</td>\n",
              "      <td>15000.0</td>\n",
              "      <td>1.0</td>\n",
              "      <td>2021-01-01 10:00:00</td>\n",
              "      <td>NaN</td>\n",
              "    </tr>\n",
              "    <tr>\n",
              "      <th>1</th>\n",
              "      <td>M646853852</td>\n",
              "      <td>A01000002265</td>\n",
              "      <td>1</td>\n",
              "      <td>A01</td>\n",
              "      <td>A010025</td>\n",
              "      <td>PD1369</td>\n",
              "      <td>79700.0</td>\n",
              "      <td>1.0</td>\n",
              "      <td>2021-01-01 10:00:00</td>\n",
              "      <td>NaN</td>\n",
              "    </tr>\n",
              "    <tr>\n",
              "      <th>2</th>\n",
              "      <td>M430112881</td>\n",
              "      <td>A01000003148</td>\n",
              "      <td>1</td>\n",
              "      <td>A01</td>\n",
              "      <td>A010039</td>\n",
              "      <td>PD0290</td>\n",
              "      <td>19000.0</td>\n",
              "      <td>1.0</td>\n",
              "      <td>2021-01-01 10:00:00</td>\n",
              "      <td>NaN</td>\n",
              "    </tr>\n",
              "  </tbody>\n",
              "</table>\n",
              "</div>\n",
              "      <button class=\"colab-df-convert\" onclick=\"convertToInteractive('df-580d9a80-e8ce-4598-a9d9-4cfa5f952e4d')\"\n",
              "              title=\"Convert this dataframe to an interactive table.\"\n",
              "              style=\"display:none;\">\n",
              "        \n",
              "  <svg xmlns=\"http://www.w3.org/2000/svg\" height=\"24px\"viewBox=\"0 0 24 24\"\n",
              "       width=\"24px\">\n",
              "    <path d=\"M0 0h24v24H0V0z\" fill=\"none\"/>\n",
              "    <path d=\"M18.56 5.44l.94 2.06.94-2.06 2.06-.94-2.06-.94-.94-2.06-.94 2.06-2.06.94zm-11 1L8.5 8.5l.94-2.06 2.06-.94-2.06-.94L8.5 2.5l-.94 2.06-2.06.94zm10 10l.94 2.06.94-2.06 2.06-.94-2.06-.94-.94-2.06-.94 2.06-2.06.94z\"/><path d=\"M17.41 7.96l-1.37-1.37c-.4-.4-.92-.59-1.43-.59-.52 0-1.04.2-1.43.59L10.3 9.45l-7.72 7.72c-.78.78-.78 2.05 0 2.83L4 21.41c.39.39.9.59 1.41.59.51 0 1.02-.2 1.41-.59l7.78-7.78 2.81-2.81c.8-.78.8-2.07 0-2.86zM5.41 20L4 18.59l7.72-7.72 1.47 1.35L5.41 20z\"/>\n",
              "  </svg>\n",
              "      </button>\n",
              "      \n",
              "  <style>\n",
              "    .colab-df-container {\n",
              "      display:flex;\n",
              "      flex-wrap:wrap;\n",
              "      gap: 12px;\n",
              "    }\n",
              "\n",
              "    .colab-df-convert {\n",
              "      background-color: #E8F0FE;\n",
              "      border: none;\n",
              "      border-radius: 50%;\n",
              "      cursor: pointer;\n",
              "      display: none;\n",
              "      fill: #1967D2;\n",
              "      height: 32px;\n",
              "      padding: 0 0 0 0;\n",
              "      width: 32px;\n",
              "    }\n",
              "\n",
              "    .colab-df-convert:hover {\n",
              "      background-color: #E2EBFA;\n",
              "      box-shadow: 0px 1px 2px rgba(60, 64, 67, 0.3), 0px 1px 3px 1px rgba(60, 64, 67, 0.15);\n",
              "      fill: #174EA6;\n",
              "    }\n",
              "\n",
              "    [theme=dark] .colab-df-convert {\n",
              "      background-color: #3B4455;\n",
              "      fill: #D2E3FC;\n",
              "    }\n",
              "\n",
              "    [theme=dark] .colab-df-convert:hover {\n",
              "      background-color: #434B5C;\n",
              "      box-shadow: 0px 1px 3px 1px rgba(0, 0, 0, 0.15);\n",
              "      filter: drop-shadow(0px 1px 2px rgba(0, 0, 0, 0.3));\n",
              "      fill: #FFFFFF;\n",
              "    }\n",
              "  </style>\n",
              "\n",
              "      <script>\n",
              "        const buttonEl =\n",
              "          document.querySelector('#df-580d9a80-e8ce-4598-a9d9-4cfa5f952e4d button.colab-df-convert');\n",
              "        buttonEl.style.display =\n",
              "          google.colab.kernel.accessAllowed ? 'block' : 'none';\n",
              "\n",
              "        async function convertToInteractive(key) {\n",
              "          const element = document.querySelector('#df-580d9a80-e8ce-4598-a9d9-4cfa5f952e4d');\n",
              "          const dataTable =\n",
              "            await google.colab.kernel.invokeFunction('convertToInteractive',\n",
              "                                                     [key], {});\n",
              "          if (!dataTable) return;\n",
              "\n",
              "          const docLinkHtml = 'Like what you see? Visit the ' +\n",
              "            '<a target=\"_blank\" href=https://colab.research.google.com/notebooks/data_table.ipynb>data table notebook</a>'\n",
              "            + ' to learn more about interactive tables.';\n",
              "          element.innerHTML = '';\n",
              "          dataTable['output_type'] = 'display_data';\n",
              "          await google.colab.output.renderOutput(dataTable, element);\n",
              "          const docLink = document.createElement('div');\n",
              "          docLink.innerHTML = docLinkHtml;\n",
              "          element.appendChild(docLink);\n",
              "        }\n",
              "      </script>\n",
              "    </div>\n",
              "  </div>\n",
              "  "
            ]
          },
          "metadata": {},
          "execution_count": 16
        }
      ]
    },
    {
      "cell_type": "markdown",
      "source": [
        "cust.nunique() 다른 이유\n",
        "- df_demo > df_buy\n",
        "  - 엘페이 결제 정보가 없으므로 더 적을 수 있음\n",
        "- df_buy > df_cust\n",
        "  - 상반기-비활동고객의 경우가 없음.\n",
        "  - (df_buy, df_cust) left 조인을 한다면, null 값은 상반기-비활동인 경우임."
      ],
      "metadata": {
        "id": "dpyXbJDt4xsW"
      }
    },
    {
      "cell_type": "code",
      "source": [
        "print(df_demo.cust.nunique())   # 전체 고객 정보\n",
        "print(df_buy.cust.nunique())    # 제휴사 + 유통사 정보\n",
        "print(df_cust.cust.nunique())   # \b세그먼트 있는 정보"
      ],
      "metadata": {
        "id": "iIdcmVJI4IRE",
        "colab": {
          "base_uri": "https://localhost:8080/"
        },
        "outputId": "749ca7bc-7a5f-4801-9dbc-53ab38ff2784"
      },
      "execution_count": null,
      "outputs": [
        {
          "output_type": "stream",
          "name": "stdout",
          "text": [
            "29913\n",
            "29756\n",
            "27443\n"
          ]
        }
      ]
    },
    {
      "cell_type": "markdown",
      "source": [
        "**2. 데이터셋 조인**\n",
        "- df_cust: 세그먼트\n",
        "- df_buy: 구매정보(제휴사+유통사 통합)\n",
        "- df_demo: [성별, 나이, 지역]"
      ],
      "metadata": {
        "id": "f9QlK9SjIyM2"
      }
    },
    {
      "cell_type": "markdown",
      "source": [
        "aggregation - df_buy"
      ],
      "metadata": {
        "id": "SkzGB6iVI0Se"
      }
    },
    {
      "cell_type": "code",
      "source": [
        "df_buy = df_buy.groupby(['cust']).agg({'rct_no':'nunique'}).reset_index()"
      ],
      "metadata": {
        "id": "bAzq-5QXwdGB"
      },
      "execution_count": null,
      "outputs": []
    },
    {
      "cell_type": "markdown",
      "source": [
        "1. df_cust, df_buy 조인\n",
        "- df_cust: 세그먼트\n",
        "- df_buy: 구매정보(제휴사+유통사 통합)"
      ],
      "metadata": {
        "id": "wGJ8KgSMTeMS"
      }
    },
    {
      "cell_type": "code",
      "source": [
        "temp = (df_buy.merge(df_cust, on=['cust'], how='outer')).fillna('신규고객')\n",
        "temp.isnull().sum()"
      ],
      "metadata": {
        "id": "1QIpuKuoC-7k",
        "colab": {
          "base_uri": "https://localhost:8080/"
        },
        "outputId": "95dc9881-9b36-4995-fd8f-2e4796afe97f"
      },
      "execution_count": null,
      "outputs": [
        {
          "output_type": "execute_result",
          "data": {
            "text/plain": [
              "cust            0\n",
              "rct_no          0\n",
              "grade_first     0\n",
              "grade_second    0\n",
              "label           0\n",
              "dtype: int64"
            ]
          },
          "metadata": {},
          "execution_count": 19
        }
      ]
    },
    {
      "cell_type": "markdown",
      "source": [
        "2. df_cust, df_buy 조인한 후, df_demo[성별, 나이, 지역] 조인\n",
        "\\+ df_demo 조인"
      ],
      "metadata": {
        "id": "00KChBMpThx9"
      }
    },
    {
      "cell_type": "code",
      "source": [
        "df_buy = df_demo.merge(temp, on=['cust'], how='right')"
      ],
      "metadata": {
        "id": "c__uj8x6BEUn"
      },
      "execution_count": null,
      "outputs": []
    },
    {
      "cell_type": "code",
      "source": [
        "df_buy.head(3)"
      ],
      "metadata": {
        "id": "H7MlXg0UCSWV",
        "colab": {
          "base_uri": "https://localhost:8080/"
        },
        "outputId": "c8af6c3b-00f6-473f-cd92-0a3cbdd9cbd0"
      },
      "execution_count": null,
      "outputs": [
        {
          "output_type": "execute_result",
          "data": {
            "text/plain": [
              "         cust ma_fem_dv ages zon_hlv  rct_no grade_first grade_second  \\\n",
              "0  M000034966        여성  40대     Z07      13        일반고객         일반고객   \n",
              "1  M000059535        여성  30대     Z12       1        기타고객        비활동고객   \n",
              "2  M000136117        여성  30대     Z11      85       최우수고객        최우수고객   \n",
              "\n",
              "         label  \n",
              "0    일반고객/일반고객  \n",
              "1   기타고객/비활동고객  \n",
              "2  최우수고객/최우수고객  "
            ],
            "text/html": [
              "\n",
              "  <div id=\"df-e4a462cf-f433-408b-aad5-ce633db077d6\">\n",
              "    <div class=\"colab-df-container\">\n",
              "      <div>\n",
              "<style scoped>\n",
              "    .dataframe tbody tr th:only-of-type {\n",
              "        vertical-align: middle;\n",
              "    }\n",
              "\n",
              "    .dataframe tbody tr th {\n",
              "        vertical-align: top;\n",
              "    }\n",
              "\n",
              "    .dataframe thead th {\n",
              "        text-align: right;\n",
              "    }\n",
              "</style>\n",
              "<table border=\"1\" class=\"dataframe\">\n",
              "  <thead>\n",
              "    <tr style=\"text-align: right;\">\n",
              "      <th></th>\n",
              "      <th>cust</th>\n",
              "      <th>ma_fem_dv</th>\n",
              "      <th>ages</th>\n",
              "      <th>zon_hlv</th>\n",
              "      <th>rct_no</th>\n",
              "      <th>grade_first</th>\n",
              "      <th>grade_second</th>\n",
              "      <th>label</th>\n",
              "    </tr>\n",
              "  </thead>\n",
              "  <tbody>\n",
              "    <tr>\n",
              "      <th>0</th>\n",
              "      <td>M000034966</td>\n",
              "      <td>여성</td>\n",
              "      <td>40대</td>\n",
              "      <td>Z07</td>\n",
              "      <td>13</td>\n",
              "      <td>일반고객</td>\n",
              "      <td>일반고객</td>\n",
              "      <td>일반고객/일반고객</td>\n",
              "    </tr>\n",
              "    <tr>\n",
              "      <th>1</th>\n",
              "      <td>M000059535</td>\n",
              "      <td>여성</td>\n",
              "      <td>30대</td>\n",
              "      <td>Z12</td>\n",
              "      <td>1</td>\n",
              "      <td>기타고객</td>\n",
              "      <td>비활동고객</td>\n",
              "      <td>기타고객/비활동고객</td>\n",
              "    </tr>\n",
              "    <tr>\n",
              "      <th>2</th>\n",
              "      <td>M000136117</td>\n",
              "      <td>여성</td>\n",
              "      <td>30대</td>\n",
              "      <td>Z11</td>\n",
              "      <td>85</td>\n",
              "      <td>최우수고객</td>\n",
              "      <td>최우수고객</td>\n",
              "      <td>최우수고객/최우수고객</td>\n",
              "    </tr>\n",
              "  </tbody>\n",
              "</table>\n",
              "</div>\n",
              "      <button class=\"colab-df-convert\" onclick=\"convertToInteractive('df-e4a462cf-f433-408b-aad5-ce633db077d6')\"\n",
              "              title=\"Convert this dataframe to an interactive table.\"\n",
              "              style=\"display:none;\">\n",
              "        \n",
              "  <svg xmlns=\"http://www.w3.org/2000/svg\" height=\"24px\"viewBox=\"0 0 24 24\"\n",
              "       width=\"24px\">\n",
              "    <path d=\"M0 0h24v24H0V0z\" fill=\"none\"/>\n",
              "    <path d=\"M18.56 5.44l.94 2.06.94-2.06 2.06-.94-2.06-.94-.94-2.06-.94 2.06-2.06.94zm-11 1L8.5 8.5l.94-2.06 2.06-.94-2.06-.94L8.5 2.5l-.94 2.06-2.06.94zm10 10l.94 2.06.94-2.06 2.06-.94-2.06-.94-.94-2.06-.94 2.06-2.06.94z\"/><path d=\"M17.41 7.96l-1.37-1.37c-.4-.4-.92-.59-1.43-.59-.52 0-1.04.2-1.43.59L10.3 9.45l-7.72 7.72c-.78.78-.78 2.05 0 2.83L4 21.41c.39.39.9.59 1.41.59.51 0 1.02-.2 1.41-.59l7.78-7.78 2.81-2.81c.8-.78.8-2.07 0-2.86zM5.41 20L4 18.59l7.72-7.72 1.47 1.35L5.41 20z\"/>\n",
              "  </svg>\n",
              "      </button>\n",
              "      \n",
              "  <style>\n",
              "    .colab-df-container {\n",
              "      display:flex;\n",
              "      flex-wrap:wrap;\n",
              "      gap: 12px;\n",
              "    }\n",
              "\n",
              "    .colab-df-convert {\n",
              "      background-color: #E8F0FE;\n",
              "      border: none;\n",
              "      border-radius: 50%;\n",
              "      cursor: pointer;\n",
              "      display: none;\n",
              "      fill: #1967D2;\n",
              "      height: 32px;\n",
              "      padding: 0 0 0 0;\n",
              "      width: 32px;\n",
              "    }\n",
              "\n",
              "    .colab-df-convert:hover {\n",
              "      background-color: #E2EBFA;\n",
              "      box-shadow: 0px 1px 2px rgba(60, 64, 67, 0.3), 0px 1px 3px 1px rgba(60, 64, 67, 0.15);\n",
              "      fill: #174EA6;\n",
              "    }\n",
              "\n",
              "    [theme=dark] .colab-df-convert {\n",
              "      background-color: #3B4455;\n",
              "      fill: #D2E3FC;\n",
              "    }\n",
              "\n",
              "    [theme=dark] .colab-df-convert:hover {\n",
              "      background-color: #434B5C;\n",
              "      box-shadow: 0px 1px 3px 1px rgba(0, 0, 0, 0.15);\n",
              "      filter: drop-shadow(0px 1px 2px rgba(0, 0, 0, 0.3));\n",
              "      fill: #FFFFFF;\n",
              "    }\n",
              "  </style>\n",
              "\n",
              "      <script>\n",
              "        const buttonEl =\n",
              "          document.querySelector('#df-e4a462cf-f433-408b-aad5-ce633db077d6 button.colab-df-convert');\n",
              "        buttonEl.style.display =\n",
              "          google.colab.kernel.accessAllowed ? 'block' : 'none';\n",
              "\n",
              "        async function convertToInteractive(key) {\n",
              "          const element = document.querySelector('#df-e4a462cf-f433-408b-aad5-ce633db077d6');\n",
              "          const dataTable =\n",
              "            await google.colab.kernel.invokeFunction('convertToInteractive',\n",
              "                                                     [key], {});\n",
              "          if (!dataTable) return;\n",
              "\n",
              "          const docLinkHtml = 'Like what you see? Visit the ' +\n",
              "            '<a target=\"_blank\" href=https://colab.research.google.com/notebooks/data_table.ipynb>data table notebook</a>'\n",
              "            + ' to learn more about interactive tables.';\n",
              "          element.innerHTML = '';\n",
              "          dataTable['output_type'] = 'display_data';\n",
              "          await google.colab.output.renderOutput(dataTable, element);\n",
              "          const docLink = document.createElement('div');\n",
              "          docLink.innerHTML = docLinkHtml;\n",
              "          element.appendChild(docLink);\n",
              "        }\n",
              "      </script>\n",
              "    </div>\n",
              "  </div>\n",
              "  "
            ]
          },
          "metadata": {},
          "execution_count": 21
        }
      ]
    },
    {
      "cell_type": "markdown",
      "source": [
        "**3. 엘페이 전처리 및 aggregation**"
      ],
      "metadata": {
        "id": "WbVPV-ZAI6_E"
      }
    },
    {
      "cell_type": "code",
      "source": [
        "df_buy_lpay = (df_lpay.groupby(['cust']).agg({'rct_no':'nunique'}).add_prefix(f'{\"\"}lpay_'))"
      ],
      "metadata": {
        "id": "FjaCznB0MXHY"
      },
      "execution_count": null,
      "outputs": []
    },
    {
      "cell_type": "code",
      "source": [
        "df_buy_lpay"
      ],
      "metadata": {
        "id": "NnEAeQAYGByH",
        "colab": {
          "base_uri": "https://localhost:8080/"
        },
        "outputId": "b11f82bd-b189-467e-eac4-107a63c3d166"
      },
      "execution_count": null,
      "outputs": [
        {
          "output_type": "execute_result",
          "data": {
            "text/plain": [
              "            lpay_rct_no\n",
              "cust                   \n",
              "M000136117            4\n",
              "M000419293           42\n",
              "M000494848           94\n",
              "M000557840           38\n",
              "M000871427            5\n",
              "...                 ...\n",
              "M999227380            2\n",
              "M999268192           30\n",
              "M999599111           77\n",
              "M999770689           79\n",
              "M999962961           16\n",
              "\n",
              "[8906 rows x 1 columns]"
            ],
            "text/html": [
              "\n",
              "  <div id=\"df-940a8baf-1f54-4152-8d75-9fb3e1ce98e9\">\n",
              "    <div class=\"colab-df-container\">\n",
              "      <div>\n",
              "<style scoped>\n",
              "    .dataframe tbody tr th:only-of-type {\n",
              "        vertical-align: middle;\n",
              "    }\n",
              "\n",
              "    .dataframe tbody tr th {\n",
              "        vertical-align: top;\n",
              "    }\n",
              "\n",
              "    .dataframe thead th {\n",
              "        text-align: right;\n",
              "    }\n",
              "</style>\n",
              "<table border=\"1\" class=\"dataframe\">\n",
              "  <thead>\n",
              "    <tr style=\"text-align: right;\">\n",
              "      <th></th>\n",
              "      <th>lpay_rct_no</th>\n",
              "    </tr>\n",
              "    <tr>\n",
              "      <th>cust</th>\n",
              "      <th></th>\n",
              "    </tr>\n",
              "  </thead>\n",
              "  <tbody>\n",
              "    <tr>\n",
              "      <th>M000136117</th>\n",
              "      <td>4</td>\n",
              "    </tr>\n",
              "    <tr>\n",
              "      <th>M000419293</th>\n",
              "      <td>42</td>\n",
              "    </tr>\n",
              "    <tr>\n",
              "      <th>M000494848</th>\n",
              "      <td>94</td>\n",
              "    </tr>\n",
              "    <tr>\n",
              "      <th>M000557840</th>\n",
              "      <td>38</td>\n",
              "    </tr>\n",
              "    <tr>\n",
              "      <th>M000871427</th>\n",
              "      <td>5</td>\n",
              "    </tr>\n",
              "    <tr>\n",
              "      <th>...</th>\n",
              "      <td>...</td>\n",
              "    </tr>\n",
              "    <tr>\n",
              "      <th>M999227380</th>\n",
              "      <td>2</td>\n",
              "    </tr>\n",
              "    <tr>\n",
              "      <th>M999268192</th>\n",
              "      <td>30</td>\n",
              "    </tr>\n",
              "    <tr>\n",
              "      <th>M999599111</th>\n",
              "      <td>77</td>\n",
              "    </tr>\n",
              "    <tr>\n",
              "      <th>M999770689</th>\n",
              "      <td>79</td>\n",
              "    </tr>\n",
              "    <tr>\n",
              "      <th>M999962961</th>\n",
              "      <td>16</td>\n",
              "    </tr>\n",
              "  </tbody>\n",
              "</table>\n",
              "<p>8906 rows × 1 columns</p>\n",
              "</div>\n",
              "      <button class=\"colab-df-convert\" onclick=\"convertToInteractive('df-940a8baf-1f54-4152-8d75-9fb3e1ce98e9')\"\n",
              "              title=\"Convert this dataframe to an interactive table.\"\n",
              "              style=\"display:none;\">\n",
              "        \n",
              "  <svg xmlns=\"http://www.w3.org/2000/svg\" height=\"24px\"viewBox=\"0 0 24 24\"\n",
              "       width=\"24px\">\n",
              "    <path d=\"M0 0h24v24H0V0z\" fill=\"none\"/>\n",
              "    <path d=\"M18.56 5.44l.94 2.06.94-2.06 2.06-.94-2.06-.94-.94-2.06-.94 2.06-2.06.94zm-11 1L8.5 8.5l.94-2.06 2.06-.94-2.06-.94L8.5 2.5l-.94 2.06-2.06.94zm10 10l.94 2.06.94-2.06 2.06-.94-2.06-.94-.94-2.06-.94 2.06-2.06.94z\"/><path d=\"M17.41 7.96l-1.37-1.37c-.4-.4-.92-.59-1.43-.59-.52 0-1.04.2-1.43.59L10.3 9.45l-7.72 7.72c-.78.78-.78 2.05 0 2.83L4 21.41c.39.39.9.59 1.41.59.51 0 1.02-.2 1.41-.59l7.78-7.78 2.81-2.81c.8-.78.8-2.07 0-2.86zM5.41 20L4 18.59l7.72-7.72 1.47 1.35L5.41 20z\"/>\n",
              "  </svg>\n",
              "      </button>\n",
              "      \n",
              "  <style>\n",
              "    .colab-df-container {\n",
              "      display:flex;\n",
              "      flex-wrap:wrap;\n",
              "      gap: 12px;\n",
              "    }\n",
              "\n",
              "    .colab-df-convert {\n",
              "      background-color: #E8F0FE;\n",
              "      border: none;\n",
              "      border-radius: 50%;\n",
              "      cursor: pointer;\n",
              "      display: none;\n",
              "      fill: #1967D2;\n",
              "      height: 32px;\n",
              "      padding: 0 0 0 0;\n",
              "      width: 32px;\n",
              "    }\n",
              "\n",
              "    .colab-df-convert:hover {\n",
              "      background-color: #E2EBFA;\n",
              "      box-shadow: 0px 1px 2px rgba(60, 64, 67, 0.3), 0px 1px 3px 1px rgba(60, 64, 67, 0.15);\n",
              "      fill: #174EA6;\n",
              "    }\n",
              "\n",
              "    [theme=dark] .colab-df-convert {\n",
              "      background-color: #3B4455;\n",
              "      fill: #D2E3FC;\n",
              "    }\n",
              "\n",
              "    [theme=dark] .colab-df-convert:hover {\n",
              "      background-color: #434B5C;\n",
              "      box-shadow: 0px 1px 3px 1px rgba(0, 0, 0, 0.15);\n",
              "      filter: drop-shadow(0px 1px 2px rgba(0, 0, 0, 0.3));\n",
              "      fill: #FFFFFF;\n",
              "    }\n",
              "  </style>\n",
              "\n",
              "      <script>\n",
              "        const buttonEl =\n",
              "          document.querySelector('#df-940a8baf-1f54-4152-8d75-9fb3e1ce98e9 button.colab-df-convert');\n",
              "        buttonEl.style.display =\n",
              "          google.colab.kernel.accessAllowed ? 'block' : 'none';\n",
              "\n",
              "        async function convertToInteractive(key) {\n",
              "          const element = document.querySelector('#df-940a8baf-1f54-4152-8d75-9fb3e1ce98e9');\n",
              "          const dataTable =\n",
              "            await google.colab.kernel.invokeFunction('convertToInteractive',\n",
              "                                                     [key], {});\n",
              "          if (!dataTable) return;\n",
              "\n",
              "          const docLinkHtml = 'Like what you see? Visit the ' +\n",
              "            '<a target=\"_blank\" href=https://colab.research.google.com/notebooks/data_table.ipynb>data table notebook</a>'\n",
              "            + ' to learn more about interactive tables.';\n",
              "          element.innerHTML = '';\n",
              "          dataTable['output_type'] = 'display_data';\n",
              "          await google.colab.output.renderOutput(dataTable, element);\n",
              "          const docLink = document.createElement('div');\n",
              "          docLink.innerHTML = docLinkHtml;\n",
              "          element.appendChild(docLink);\n",
              "        }\n",
              "      </script>\n",
              "    </div>\n",
              "  </div>\n",
              "  "
            ]
          },
          "metadata": {},
          "execution_count": 23
        }
      ]
    },
    {
      "cell_type": "markdown",
      "source": [
        "**엘페이 조인**\n",
        "- 앞서 조인한 결과와 엘페이 정보 조인함"
      ],
      "metadata": {
        "id": "2y_v3s62JKmt"
      }
    },
    {
      "cell_type": "code",
      "source": [
        "df_all = df_buy.merge(df_buy_lpay, on=['cust'], how='left').fillna(0)"
      ],
      "metadata": {
        "id": "-TDcMdhqQhbK"
      },
      "execution_count": null,
      "outputs": []
    },
    {
      "cell_type": "markdown",
      "source": [
        "# LGBM 결과 분석"
      ],
      "metadata": {
        "id": "FmEBWQk1QJtX"
      }
    },
    {
      "cell_type": "markdown",
      "source": [
        "## 엘페이 이용률"
      ],
      "metadata": {
        "id": "S5AeyEwOGZZx"
      }
    },
    {
      "cell_type": "code",
      "source": [
        "df_all.columns"
      ],
      "metadata": {
        "id": "sBZLOsjGRteW",
        "colab": {
          "base_uri": "https://localhost:8080/"
        },
        "outputId": "77e19c23-ddc8-4f7c-db93-c5ebbfe334e6"
      },
      "execution_count": null,
      "outputs": [
        {
          "output_type": "execute_result",
          "data": {
            "text/plain": [
              "Index(['cust', 'ma_fem_dv', 'ages', 'zon_hlv', 'rct_no', 'grade_first',\n",
              "       'grade_second', 'label', 'lpay_rct_no'],\n",
              "      dtype='object')"
            ]
          },
          "metadata": {},
          "execution_count": 42
        }
      ]
    },
    {
      "cell_type": "code",
      "source": [
        "# 한 행은 한 고객의 정보\n",
        "df_nlpay = df_all[[\"rct_no\", \"lpay_rct_no\", \"cust\", \"label\"]].rename_axis('cust_no')\n",
        "df_nlpay"
      ],
      "metadata": {
        "id": "fna72dqpRlBt",
        "colab": {
          "base_uri": "https://localhost:8080/",
          "height": 455
        },
        "outputId": "019a856e-30f4-4f5a-dd37-366075fdd0d3"
      },
      "execution_count": null,
      "outputs": [
        {
          "output_type": "execute_result",
          "data": {
            "text/plain": [
              "         rct_no  lpay_rct_no        cust        label\n",
              "cust_no                                              \n",
              "0            13          0.0  M000034966    일반고객/일반고객\n",
              "1             1          0.0  M000059535   기타고객/비활동고객\n",
              "2            85          4.0  M000136117  최우수고객/최우수고객\n",
              "3             5          0.0  M000201112         신규고객\n",
              "4            88          0.0  M000225114   일반고객/최우수고객\n",
              "...         ...          ...         ...          ...\n",
              "29751         2          0.0  M999708287         신규고객\n",
              "29752       137         79.0  M999770689  최우수고객/최우수고객\n",
              "29753        35          0.0  M999849895    일반고객/일반고객\n",
              "29754         7          0.0  M999926092    일반고객/기타고객\n",
              "29755       138         16.0  M999962961  최우수고객/최우수고객\n",
              "\n",
              "[29756 rows x 4 columns]"
            ],
            "text/html": [
              "\n",
              "  <div id=\"df-395d83d6-32dd-43a7-94bc-7539b24644bd\">\n",
              "    <div class=\"colab-df-container\">\n",
              "      <div>\n",
              "<style scoped>\n",
              "    .dataframe tbody tr th:only-of-type {\n",
              "        vertical-align: middle;\n",
              "    }\n",
              "\n",
              "    .dataframe tbody tr th {\n",
              "        vertical-align: top;\n",
              "    }\n",
              "\n",
              "    .dataframe thead th {\n",
              "        text-align: right;\n",
              "    }\n",
              "</style>\n",
              "<table border=\"1\" class=\"dataframe\">\n",
              "  <thead>\n",
              "    <tr style=\"text-align: right;\">\n",
              "      <th></th>\n",
              "      <th>rct_no</th>\n",
              "      <th>lpay_rct_no</th>\n",
              "      <th>cust</th>\n",
              "      <th>label</th>\n",
              "    </tr>\n",
              "    <tr>\n",
              "      <th>cust_no</th>\n",
              "      <th></th>\n",
              "      <th></th>\n",
              "      <th></th>\n",
              "      <th></th>\n",
              "    </tr>\n",
              "  </thead>\n",
              "  <tbody>\n",
              "    <tr>\n",
              "      <th>0</th>\n",
              "      <td>13</td>\n",
              "      <td>0.0</td>\n",
              "      <td>M000034966</td>\n",
              "      <td>일반고객/일반고객</td>\n",
              "    </tr>\n",
              "    <tr>\n",
              "      <th>1</th>\n",
              "      <td>1</td>\n",
              "      <td>0.0</td>\n",
              "      <td>M000059535</td>\n",
              "      <td>기타고객/비활동고객</td>\n",
              "    </tr>\n",
              "    <tr>\n",
              "      <th>2</th>\n",
              "      <td>85</td>\n",
              "      <td>4.0</td>\n",
              "      <td>M000136117</td>\n",
              "      <td>최우수고객/최우수고객</td>\n",
              "    </tr>\n",
              "    <tr>\n",
              "      <th>3</th>\n",
              "      <td>5</td>\n",
              "      <td>0.0</td>\n",
              "      <td>M000201112</td>\n",
              "      <td>신규고객</td>\n",
              "    </tr>\n",
              "    <tr>\n",
              "      <th>4</th>\n",
              "      <td>88</td>\n",
              "      <td>0.0</td>\n",
              "      <td>M000225114</td>\n",
              "      <td>일반고객/최우수고객</td>\n",
              "    </tr>\n",
              "    <tr>\n",
              "      <th>...</th>\n",
              "      <td>...</td>\n",
              "      <td>...</td>\n",
              "      <td>...</td>\n",
              "      <td>...</td>\n",
              "    </tr>\n",
              "    <tr>\n",
              "      <th>29751</th>\n",
              "      <td>2</td>\n",
              "      <td>0.0</td>\n",
              "      <td>M999708287</td>\n",
              "      <td>신규고객</td>\n",
              "    </tr>\n",
              "    <tr>\n",
              "      <th>29752</th>\n",
              "      <td>137</td>\n",
              "      <td>79.0</td>\n",
              "      <td>M999770689</td>\n",
              "      <td>최우수고객/최우수고객</td>\n",
              "    </tr>\n",
              "    <tr>\n",
              "      <th>29753</th>\n",
              "      <td>35</td>\n",
              "      <td>0.0</td>\n",
              "      <td>M999849895</td>\n",
              "      <td>일반고객/일반고객</td>\n",
              "    </tr>\n",
              "    <tr>\n",
              "      <th>29754</th>\n",
              "      <td>7</td>\n",
              "      <td>0.0</td>\n",
              "      <td>M999926092</td>\n",
              "      <td>일반고객/기타고객</td>\n",
              "    </tr>\n",
              "    <tr>\n",
              "      <th>29755</th>\n",
              "      <td>138</td>\n",
              "      <td>16.0</td>\n",
              "      <td>M999962961</td>\n",
              "      <td>최우수고객/최우수고객</td>\n",
              "    </tr>\n",
              "  </tbody>\n",
              "</table>\n",
              "<p>29756 rows × 4 columns</p>\n",
              "</div>\n",
              "      <button class=\"colab-df-convert\" onclick=\"convertToInteractive('df-395d83d6-32dd-43a7-94bc-7539b24644bd')\"\n",
              "              title=\"Convert this dataframe to an interactive table.\"\n",
              "              style=\"display:none;\">\n",
              "        \n",
              "  <svg xmlns=\"http://www.w3.org/2000/svg\" height=\"24px\"viewBox=\"0 0 24 24\"\n",
              "       width=\"24px\">\n",
              "    <path d=\"M0 0h24v24H0V0z\" fill=\"none\"/>\n",
              "    <path d=\"M18.56 5.44l.94 2.06.94-2.06 2.06-.94-2.06-.94-.94-2.06-.94 2.06-2.06.94zm-11 1L8.5 8.5l.94-2.06 2.06-.94-2.06-.94L8.5 2.5l-.94 2.06-2.06.94zm10 10l.94 2.06.94-2.06 2.06-.94-2.06-.94-.94-2.06-.94 2.06-2.06.94z\"/><path d=\"M17.41 7.96l-1.37-1.37c-.4-.4-.92-.59-1.43-.59-.52 0-1.04.2-1.43.59L10.3 9.45l-7.72 7.72c-.78.78-.78 2.05 0 2.83L4 21.41c.39.39.9.59 1.41.59.51 0 1.02-.2 1.41-.59l7.78-7.78 2.81-2.81c.8-.78.8-2.07 0-2.86zM5.41 20L4 18.59l7.72-7.72 1.47 1.35L5.41 20z\"/>\n",
              "  </svg>\n",
              "      </button>\n",
              "      \n",
              "  <style>\n",
              "    .colab-df-container {\n",
              "      display:flex;\n",
              "      flex-wrap:wrap;\n",
              "      gap: 12px;\n",
              "    }\n",
              "\n",
              "    .colab-df-convert {\n",
              "      background-color: #E8F0FE;\n",
              "      border: none;\n",
              "      border-radius: 50%;\n",
              "      cursor: pointer;\n",
              "      display: none;\n",
              "      fill: #1967D2;\n",
              "      height: 32px;\n",
              "      padding: 0 0 0 0;\n",
              "      width: 32px;\n",
              "    }\n",
              "\n",
              "    .colab-df-convert:hover {\n",
              "      background-color: #E2EBFA;\n",
              "      box-shadow: 0px 1px 2px rgba(60, 64, 67, 0.3), 0px 1px 3px 1px rgba(60, 64, 67, 0.15);\n",
              "      fill: #174EA6;\n",
              "    }\n",
              "\n",
              "    [theme=dark] .colab-df-convert {\n",
              "      background-color: #3B4455;\n",
              "      fill: #D2E3FC;\n",
              "    }\n",
              "\n",
              "    [theme=dark] .colab-df-convert:hover {\n",
              "      background-color: #434B5C;\n",
              "      box-shadow: 0px 1px 3px 1px rgba(0, 0, 0, 0.15);\n",
              "      filter: drop-shadow(0px 1px 2px rgba(0, 0, 0, 0.3));\n",
              "      fill: #FFFFFF;\n",
              "    }\n",
              "  </style>\n",
              "\n",
              "      <script>\n",
              "        const buttonEl =\n",
              "          document.querySelector('#df-395d83d6-32dd-43a7-94bc-7539b24644bd button.colab-df-convert');\n",
              "        buttonEl.style.display =\n",
              "          google.colab.kernel.accessAllowed ? 'block' : 'none';\n",
              "\n",
              "        async function convertToInteractive(key) {\n",
              "          const element = document.querySelector('#df-395d83d6-32dd-43a7-94bc-7539b24644bd');\n",
              "          const dataTable =\n",
              "            await google.colab.kernel.invokeFunction('convertToInteractive',\n",
              "                                                     [key], {});\n",
              "          if (!dataTable) return;\n",
              "\n",
              "          const docLinkHtml = 'Like what you see? Visit the ' +\n",
              "            '<a target=\"_blank\" href=https://colab.research.google.com/notebooks/data_table.ipynb>data table notebook</a>'\n",
              "            + ' to learn more about interactive tables.';\n",
              "          element.innerHTML = '';\n",
              "          dataTable['output_type'] = 'display_data';\n",
              "          await google.colab.output.renderOutput(dataTable, element);\n",
              "          const docLink = document.createElement('div');\n",
              "          docLink.innerHTML = docLinkHtml;\n",
              "          element.appendChild(docLink);\n",
              "        }\n",
              "      </script>\n",
              "    </div>\n",
              "  </div>\n",
              "  "
            ]
          },
          "metadata": {},
          "execution_count": 43
        }
      ]
    },
    {
      "cell_type": "code",
      "source": [
        "df_nlpay[\"lpay_prob\"] = df_nlpay.lpay_rct_no / df_nlpay.rct_no\n",
        "# prob > 1인 경우, 1210개 - 이 경우, 데이터 트래젝션이 잘못되어서 1보다 큰 경우가 나옴. 실제로 1보다 큰 경우가 나오지 않기 때문에 모두 1로 만듬\n",
        "df_nlpay.loc[df_nlpay.lpay_prob > 1, 'lpay_prob'] = 1.0"
      ],
      "metadata": {
        "id": "8dpZmg40boQO"
      },
      "execution_count": null,
      "outputs": []
    },
    {
      "cell_type": "code",
      "source": [
        "sns.ecdfplot((df_nlpay.sort_values('lpay_prob').reset_index()).lpay_prob) # 파란색\n",
        "temp = df_nlpay.query('label == \"기타고객/비활동고객\"')\n",
        "sns.ecdfplot((temp.sort_values('lpay_prob').reset_index()).lpay_prob) # 주황색\n",
        "temp2 = df_nlpay.query('label == \"최우수고객/최우수고객\"')\n",
        "sns.ecdfplot((temp2.sort_values('lpay_prob').reset_index()).lpay_prob) # 초록색"
      ],
      "metadata": {
        "id": "7AycMIbTralE",
        "colab": {
          "base_uri": "https://localhost:8080/",
          "height": 415
        },
        "outputId": "469efb20-c7d2-466b-d041-0254412de594"
      },
      "execution_count": null,
      "outputs": [
        {
          "output_type": "execute_result",
          "data": {
            "text/plain": [
              "<matplotlib.axes._subplots.AxesSubplot at 0x7f38507be0d0>"
            ]
          },
          "metadata": {},
          "execution_count": 45
        },
        {
          "output_type": "display_data",
          "data": {
            "text/plain": [
              "<Figure size 720x432 with 1 Axes>"
            ],
            "image/png": "[encoded data removed]"
          },
          "metadata": {}
        }
      ]
    },
    {
      "cell_type": "code",
      "source": [
        "df_all_clean = df_all[['cust', 'ma_fem_dv', 'ages', 'zon_hlv','grade_first', 'grade_second','label']].set_index('cust')\n",
        "#기타-비활동\n",
        "df_out = df_all_clean.query(\"label == '기타고객/비활동고객'\")\n",
        "#최우수-최우수\n",
        "df_vip = df_all_clean.query(\"label == '최우수고객/최우수고객'\")"
      ],
      "metadata": {
        "id": "l--msxRy0faG"
      },
      "execution_count": null,
      "outputs": []
    },
    {
      "cell_type": "markdown",
      "source": [
        "## 상품 구매 정보 분석"
      ],
      "metadata": {
        "id": "oKuHzmcd14jb"
      }
    },
    {
      "cell_type": "code",
      "source": [
        "df_all_pdde = pd.merge(df_all_clean,df_pdde.set_index('cust'), right_index=True, left_index=True, how=\"inner\")\n",
        "df_out_pdde = pd.merge(df_out,df_pdde.set_index('cust'), right_index=True, left_index=True, how=\"inner\")\n",
        "df_vip_pdde = pd.merge(df_vip,df_pdde.set_index('cust'), right_index=True, left_index=True, how=\"inner\")"
      ],
      "metadata": {
        "id": "nVUSGOcu02dg"
      },
      "execution_count": null,
      "outputs": []
    },
    {
      "cell_type": "markdown",
      "source": [
        "## 온오프 통계 분석"
      ],
      "metadata": {
        "id": "EPRr-QmnEicw"
      }
    },
    {
      "cell_type": "code",
      "source": [
        "df1 = (df_all_pdde\n",
        ".groupby('chnl_dv')['cop_c']\n",
        ".value_counts(normalize=True)\n",
        ".rename('percent')\n",
        ".reset_index()\n",
        ".pipe((sns.catplot,'data'), x=\"chnl_dv\",y='percent',hue=\"cop_c\",kind='bar', hue_order=['A01','A02','A03','A04','A05','A06']))\n",
        "df2 = (df_vip_pdde\n",
        ".groupby('chnl_dv')['cop_c']\n",
        ".value_counts(normalize=True)\n",
        ".rename('percent')\n",
        ".reset_index()\n",
        ".pipe((sns.catplot,'data'), x=\"chnl_dv\",y='percent',hue=\"cop_c\",kind='bar', hue_order=['A01','A02','A03','A04','A05','A06']))\n",
        "df3 = (df_out_pdde\n",
        ".groupby('chnl_dv')['cop_c']\n",
        ".value_counts(normalize=True)\n",
        ".rename('percent')\n",
        ".reset_index()\n",
        ".pipe((sns.catplot,'data'), x=\"chnl_dv\",y='percent',hue=\"cop_c\",kind='bar', hue_order=['A01','A02','A03','A04','A05','A06']))"
      ],
      "metadata": {
        "colab": {
          "base_uri": "https://localhost:8080/",
          "height": 1000
        },
        "id": "5FhvKPPOgMzr",
        "outputId": "56d9db00-63dd-4ba3-bc4f-d6db74aa13ff"
      },
      "execution_count": null,
      "outputs": [
        {
          "output_type": "display_data",
          "data": {
            "text/plain": [
              "<Figure size 420.85x360 with 1 Axes>"
            ],
            "image/png": "[encoded data removed]"
          },
          "metadata": {}
        },
        {
          "output_type": "display_data",
          "data": {
            "text/plain": [
              "<Figure size 420.85x360 with 1 Axes>"
            ],
            "image/png": "[encoded data removed]"
          },
          "metadata": {}
        },
        {
          "output_type": "display_data",
          "data": {
            "text/plain": [
              "<Figure size 420.85x360 with 1 Axes>"
            ],
            "image/png": "[encoded data removed]"
          },
          "metadata": {}
        }
      ]
    },
    {
      "cell_type": "code",
      "source": [
        "plt.figure(figsize=(5,3))\n",
        "sns.countplot(data=df_all_pdde, x=\"chnl_dv\", hue=\"cop_c\", hue_order=['A01','A02','A03','A04','A05','A06'])\n",
        "plt.show()\n",
        "plt.figure(figsize=(5,3))\n",
        "sns.countplot(data=df_vip_pdde, x=\"chnl_dv\", hue=\"cop_c\", hue_order=['A01','A02','A03','A04','A05','A06'])  #, order=df_vip_pdde.cop_c.value_counts().sort_index().index)\n",
        "plt.show()\n",
        "plt.figure(figsize=(5,3))\n",
        "sns.countplot(data=df_out_pdde, x=\"chnl_dv\", hue=\"cop_c\", hue_order=['A01','A02','A03','A04','A05','A06'])\n",
        "plt.show()"
      ],
      "metadata": {
        "id": "i3kJGZ8KFsgi",
        "colab": {
          "base_uri": "https://localhost:8080/",
          "height": 680
        },
        "outputId": "ac1d5334-17ee-4841-b1c9-65b7512beaaa"
      },
      "execution_count": null,
      "outputs": [
        {
          "output_type": "display_data",
          "data": {
            "text/plain": [
              "<Figure size 360x216 with 1 Axes>"
            ],
            "image/png": "[encoded data removed]"
          },
          "metadata": {}
        },
        {
          "output_type": "display_data",
          "data": {
            "text/plain": [
              "<Figure size 360x216 with 1 Axes>"
            ],
            "image/png": "[encoded data removed]"
          },
          "metadata": {}
        },
        {
          "output_type": "display_data",
          "data": {
            "text/plain": [
              "<Figure size 360x216 with 1 Axes>"
            ],
            "image/png": "[encoded data removed]"
          },
          "metadata": {}
        }
      ]
    },
    {
      "cell_type": "code",
      "source": [
        "sns.countplot(data=df_out_pdde, x=\"chnl_dv\", hue=\"cop_c\")"
      ],
      "metadata": {
        "id": "UIPgtPiUEm_I",
        "colab": {
          "base_uri": "https://localhost:8080/",
          "height": 411
        },
        "outputId": "3e04b839-723f-4e2e-d726-e0c91a594765"
      },
      "execution_count": null,
      "outputs": [
        {
          "output_type": "execute_result",
          "data": {
            "text/plain": [
              "<matplotlib.axes._subplots.AxesSubplot at 0x7fe56de86350>"
            ]
          },
          "metadata": {},
          "execution_count": 41
        },
        {
          "output_type": "display_data",
          "data": {
            "text/plain": [
              "<Figure size 720x432 with 1 Axes>"
            ],
            "image/png": "[encoded data removed]"
          },
          "metadata": {}
        }
      ]
    },
    {
      "cell_type": "code",
      "source": [
        "plt.figure(figsize=(5,3))\n",
        "sns.countplot(data=df_all_pdde, x=\"chnl_dv\", hue=\"cop_c\")\n",
        "plt.show()\n",
        "plt.figure(figsize=(5,3))\n",
        "sns.countplot(data=df_vip_pdde, x=\"chnl_dv\", hue=\"cop_c\")\n",
        "plt.show()\n",
        "plt.figure(figsize=(5,3))\n",
        "sns.countplot(data=df_out_pdde, x=\"chnl_dv\", hue=\"cop_c\")\n",
        "plt.show()"
      ],
      "metadata": {
        "id": "c4nY2e_zKeEx",
        "colab": {
          "base_uri": "https://localhost:8080/",
          "height": 680
        },
        "outputId": "9e136b66-1fae-4984-cd90-73d227e3c6d3"
      },
      "execution_count": null,
      "outputs": [
        {
          "output_type": "display_data",
          "data": {
            "text/plain": [
              "<Figure size 360x216 with 1 Axes>"
            ],
            "image/png": "[encoded data removed]"
          },
          "metadata": {}
        },
        {
          "output_type": "display_data",
          "data": {
            "text/plain": [
              "<Figure size 360x216 with 1 Axes>"
            ],
            "image/png": "[encoded data removed]"
          },
          "metadata": {}
        },
        {
          "output_type": "display_data",
          "data": {
            "text/plain": [
              "<Figure size 360x216 with 1 Axes>"
            ],
            "image/png": "[encoded data removed]"
          },
          "metadata": {}
        }
      ]
    },
    {
      "cell_type": "markdown",
      "source": [
        "## 제휴사 이용 정보 분석"
      ],
      "metadata": {
        "id": "zpUc2sjrJBX7"
      }
    },
    {
      "cell_type": "code",
      "source": [
        "df_all_cop = pd.merge(df_all_clean,df_cop_u.set_index('cust'), right_index=True, left_index=True, how=\"inner\")\n",
        "df_out_cop = pd.merge(df_out,df_cop_u.set_index('cust'), right_index=True, left_index=True, how=\"inner\")\n",
        "df_vip_cop = pd.merge(df_vip,df_cop_u.set_index('cust'), right_index=True, left_index=True, how=\"inner\")"
      ],
      "metadata": {
        "id": "AxWvUja6JGP9"
      },
      "execution_count": null,
      "outputs": []
    },
    {
      "cell_type": "code",
      "source": [
        "plt.figure(figsize=(5,3))\n",
        "sns.countplot(data=df_all_cop, x=\"cop_c\", order=df_all_cop.cop_c.value_counts().sort_index().index)\n",
        "plt.show()\n",
        "plt.figure(figsize=(5,3))\n",
        "sns.countplot(data=df_vip_cop, x=\"cop_c\", order=df_vip_cop.cop_c.value_counts().sort_index().index)\n",
        "plt.show()\n",
        "plt.figure(figsize=(5,3))\n",
        "sns.countplot(data=df_out_cop, x=\"cop_c\", order=df_out_cop.cop_c.value_counts().sort_index().index)\n",
        "plt.show()"
      ],
      "metadata": {
        "id": "hTiGMR3DJg2Q",
        "colab": {
          "base_uri": "https://localhost:8080/",
          "height": 653
        },
        "outputId": "9aa2cd9e-7eed-4930-9453-3a746e8a6cb1"
      },
      "execution_count": null,
      "outputs": [
        {
          "output_type": "display_data",
          "data": {
            "text/plain": [
              "<Figure size 360x216 with 1 Axes>"
            ],
            "image/png": "[encoded data removed]"
          },
          "metadata": {}
        },
        {
          "output_type": "display_data",
          "data": {
            "text/plain": [
              "<Figure size 360x216 with 1 Axes>"
            ],
            "image/png": "[encoded data removed]"
          },
          "metadata": {}
        },
        {
          "output_type": "display_data",
          "data": {
            "text/plain": [
              "<Figure size 360x216 with 1 Axes>"
            ],
            "image/png": "[encoded data removed]"
          },
          "metadata": {}
        }
      ]
    },
    {
      "cell_type": "code",
      "source": [
        "plt.figure(figsize=(5,3))\n",
        "sns.barplot(data=df_all_cop, x=\"cop_c\", y=\"buy_am\", estimator=np.sum, order=df_all_cop.cop_c.value_counts().sort_index().index)\n",
        "plt.show()\n",
        "plt.figure(figsize=(5,3))\n",
        "sns.barplot(data=df_vip_cop, x=\"cop_c\", y=\"buy_am\", estimator=np.sum, order=df_vip_cop.cop_c.value_counts().sort_index().index)\n",
        "plt.show()\n",
        "plt.figure(figsize=(5,3))\n",
        "sns.barplot(data=df_out_cop, x=\"cop_c\", y=\"buy_am\", estimator=np.sum, order=df_out_cop.cop_c.value_counts().sort_index().index)\n",
        "plt.show()"
      ],
      "metadata": {
        "id": "CEmpqjaDMaRv",
        "colab": {
          "base_uri": "https://localhost:8080/",
          "height": 689
        },
        "outputId": "a0a53f15-5fd0-41bd-fa21-21e3ef5eae98"
      },
      "execution_count": null,
      "outputs": [
        {
          "output_type": "display_data",
          "data": {
            "text/plain": [
              "<Figure size 360x216 with 1 Axes>"
            ],
            "image/png": "[encoded data removed]"
          },
          "metadata": {}
        },
        {
          "output_type": "display_data",
          "data": {
            "text/plain": [
              "<Figure size 360x216 with 1 Axes>"
            ],
            "image/png": "[encoded data removed]"
          },
          "metadata": {}
        },
        {
          "output_type": "display_data",
          "data": {
            "text/plain": [
              "<Figure size 360x216 with 1 Axes>"
            ],
            "image/png": "[encoded data removed]"
          },
          "metadata": {}
        }
      ]
    },
    {
      "cell_type": "markdown",
      "source": [
        "## KL divergence 분석"
      ],
      "metadata": {
        "id": "WF4RUNg3cdgY"
      }
    },
    {
      "cell_type": "markdown",
      "source": [
        "\n",
        "- 카운트 분포화하여 KL-divergence 이용 정렬 (P=기타/비활성, Q=전체고객)\n",
        "- 도드라지게 차이나는 제휴사를 집중하기로 함 (P=기타/비활성, Q=전체고객)\n"
      ],
      "metadata": {
        "id": "BEL2nNqSgGI2"
      }
    },
    {
      "cell_type": "markdown",
      "source": [
        "### 온/오프라인 카운트 분석"
      ],
      "metadata": {
        "id": "-bjqi4FPe3fi"
      }
    },
    {
      "cell_type": "code",
      "source": [
        "P = df_out_pdde.groupby('chnl_dv')['cop_c'].value_counts()\n",
        "Q = df_all_pdde.groupby('chnl_dv')['cop_c'].value_counts()"
      ],
      "metadata": {
        "id": "DXd5f02ZfNtB"
      },
      "execution_count": null,
      "outputs": []
    },
    {
      "cell_type": "code",
      "source": [
        "P /= P.sum()\n",
        "Q /= Q.sum()"
      ],
      "metadata": {
        "id": "Ejgnq0vEfNtB"
      },
      "execution_count": null,
      "outputs": []
    },
    {
      "cell_type": "code",
      "source": [
        "P_ = P + 1e-6\n",
        "Q_ = Q + 1e-6"
      ],
      "metadata": {
        "id": "EHmQJxrjfNtB"
      },
      "execution_count": null,
      "outputs": []
    },
    {
      "cell_type": "code",
      "source": [
        "dl = pd.Series(P_ * (np.log(P_) - np.log(Q_)))"
      ],
      "metadata": {
        "id": "Qtzh7DLJfNtB"
      },
      "execution_count": null,
      "outputs": []
    },
    {
      "cell_type": "code",
      "source": [
        "dl.sort_values()"
      ],
      "metadata": {
        "colab": {
          "base_uri": "https://localhost:8080/"
        },
        "outputId": "384e9d7c-fa6b-43f8-8221-843447ad0a94",
        "id": "ULW00JOCfNtB"
      },
      "execution_count": null,
      "outputs": [
        {
          "output_type": "execute_result",
          "data": {
            "text/plain": [
              "chnl_dv  cop_c\n",
              "1        A02     -0.095287\n",
              "         A01     -0.037293\n",
              "2        A03     -0.002205\n",
              "1        A03     -0.001247\n",
              "2        A05      0.000882\n",
              "         A02      0.028749\n",
              "         A01      0.039198\n",
              "1        A04      0.039708\n",
              "         A05      0.049149\n",
              "2        A06      0.129672\n",
              "Name: cop_c, dtype: float64"
            ]
          },
          "metadata": {},
          "execution_count": 90
        }
      ]
    },
    {
      "cell_type": "markdown",
      "source": [
        "### 상품 구매 정보 제휴사 카운트 분석"
      ],
      "metadata": {
        "id": "SdWmBmOoePEH"
      }
    },
    {
      "cell_type": "code",
      "source": [
        "P = df_out_pdde['cop_c'].value_counts()\n",
        "Q = df_all_pdde['cop_c'].value_counts()"
      ],
      "metadata": {
        "id": "DDOVcyFgczSB"
      },
      "execution_count": null,
      "outputs": []
    },
    {
      "cell_type": "code",
      "source": [
        "P /= P.sum()\n",
        "Q /= Q.sum()"
      ],
      "metadata": {
        "id": "yXd8L9GCdTrz"
      },
      "execution_count": null,
      "outputs": []
    },
    {
      "cell_type": "code",
      "source": [
        "P_ = P + 1e-6\n",
        "Q_ = Q + 1e-6"
      ],
      "metadata": {
        "id": "TJ3PpsRLdX6-"
      },
      "execution_count": null,
      "outputs": []
    },
    {
      "cell_type": "code",
      "source": [
        "dl = pd.Series(P_ * (np.log(P_) - np.log(Q_)))"
      ],
      "metadata": {
        "id": "iCGaMSPPEpzR"
      },
      "execution_count": null,
      "outputs": []
    },
    {
      "cell_type": "code",
      "source": [
        "dl.sort_values()"
      ],
      "metadata": {
        "colab": {
          "base_uri": "https://localhost:8080/"
        },
        "id": "lkw-bliQE1Ix",
        "outputId": "0035f2e5-a6d2-429b-b4c4-243777bea8c2"
      },
      "execution_count": null,
      "outputs": [
        {
          "output_type": "execute_result",
          "data": {
            "text/plain": [
              "A02   -0.077366\n",
              "A01   -0.026490\n",
              "A03   -0.003531\n",
              "A04    0.039708\n",
              "A05    0.048880\n",
              "A06    0.129672\n",
              "Name: cop_c, dtype: float64"
            ]
          },
          "metadata": {},
          "execution_count": 68
        }
      ]
    },
    {
      "cell_type": "markdown",
      "source": [
        "### 제휴사 이용 정보 카운트 분석"
      ],
      "metadata": {
        "id": "4p2_7bK7eWga"
      }
    },
    {
      "cell_type": "code",
      "source": [
        "P = df_out_cop['cop_c'].value_counts()\n",
        "Q = df_all_cop['cop_c'].value_counts()"
      ],
      "metadata": {
        "id": "cWe6DHsfeZL4"
      },
      "execution_count": null,
      "outputs": []
    },
    {
      "cell_type": "code",
      "source": [
        "P /= P.sum()\n",
        "Q /= Q.sum()"
      ],
      "metadata": {
        "id": "3pq2m-9ZeZL4"
      },
      "execution_count": null,
      "outputs": []
    },
    {
      "cell_type": "code",
      "source": [
        "P_ = P + 1e-6\n",
        "Q_ = Q + 1e-6"
      ],
      "metadata": {
        "id": "JuktN2k0eZL5"
      },
      "execution_count": null,
      "outputs": []
    },
    {
      "cell_type": "code",
      "source": [
        "dl = pd.Series(P_ * (np.log(P_) - np.log(Q_)))"
      ],
      "metadata": {
        "id": "2Mqcbpl2eZL5"
      },
      "execution_count": null,
      "outputs": []
    },
    {
      "cell_type": "code",
      "source": [
        "dl.sort_values()"
      ],
      "metadata": {
        "colab": {
          "base_uri": "https://localhost:8080/"
        },
        "outputId": "520d93d5-6abc-43f1-db57-6d5bdfd29231",
        "id": "IzM40OBweZL5"
      },
      "execution_count": null,
      "outputs": [
        {
          "output_type": "execute_result",
          "data": {
            "text/plain": [
              "D01   -0.052354\n",
              "C02   -0.009343\n",
              "B01   -0.008854\n",
              "D02   -0.005452\n",
              "E01    0.046484\n",
              "C01    0.056444\n",
              "Name: cop_c, dtype: float64"
            ]
          },
          "metadata": {},
          "execution_count": 73
        }
      ]
    }
  ]
}